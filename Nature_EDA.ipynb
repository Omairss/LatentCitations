{
 "cells": [
  {
   "cell_type": "code",
   "execution_count": 32,
   "metadata": {},
   "outputs": [],
   "source": [
    "import scispacy\n",
    "import spacy\n",
    "import pandas as pd\n",
    "import numpy as np\n",
    "import matplotlib.pyplot as plt\n",
    "import pickle as pkl\n",
    "import zipfile\n",
    "import os\n",
    "import xmltodict\n",
    "import json\n",
    "import zlib\n",
    "import resource\n",
    "import sys\n",
    "import regex as re\n",
    "from bs4 import BeautifulSoup\n",
    "from tqdm import tqdm_notebook as tqdm\n",
    "import nltk.data\n",
    "import time\n",
    "from multiprocessing import Pool\n",
    "from nltk.tokenize import word_tokenize\n",
    "import networkx as nx\n",
    "from datasketch import MinHash, MinHashLSH\n",
    "#nltk.download('punkt')\n",
    "sent_detector = nltk.data.load('tokenizers/punkt/english.pickle')"
   ]
  },
  {
   "cell_type": "markdown",
   "metadata": {},
   "source": [
    "### Increase Recursion Depth"
   ]
  },
  {
   "cell_type": "code",
   "execution_count": 2,
   "metadata": {},
   "outputs": [
    {
     "name": "stdout",
     "output_type": "stream",
     "text": [
      "(8388608, -1)\n",
      "3000\n"
     ]
    }
   ],
   "source": [
    "print (resource.getrlimit(resource.RLIMIT_STACK))\n",
    "print (sys.getrecursionlimit())\n",
    "\n",
    "max_rec = 0x100000\n",
    "\n",
    "resource.setrlimit(resource.RLIMIT_STACK, [0x100 * max_rec, resource.RLIM_INFINITY])\n",
    "sys.setrecursionlimit(max_rec)"
   ]
  },
  {
   "cell_type": "markdown",
   "metadata": {},
   "source": [
    "##### Filetr by aticle type LT and AR"
   ]
  },
  {
   "cell_type": "code",
   "execution_count": 3,
   "metadata": {},
   "outputs": [],
   "source": [
    "article_df = pd.read_hdf('data/nature/preprocessed/article_df.hdf')"
   ]
  },
  {
   "cell_type": "code",
   "execution_count": 3,
   "metadata": {},
   "outputs": [
    {
     "data": {
      "text/html": [
       "<div>\n",
       "<style scoped>\n",
       "    .dataframe tbody tr th:only-of-type {\n",
       "        vertical-align: middle;\n",
       "    }\n",
       "\n",
       "    .dataframe tbody tr th {\n",
       "        vertical-align: top;\n",
       "    }\n",
       "\n",
       "    .dataframe thead th {\n",
       "        text-align: right;\n",
       "    }\n",
       "</style>\n",
       "<table border=\"1\" class=\"dataframe\">\n",
       "  <thead>\n",
       "    <tr style=\"text-align: right;\">\n",
       "      <th></th>\n",
       "      <th>ArticleID</th>\n",
       "      <th>DOI</th>\n",
       "      <th>Issue</th>\n",
       "      <th>Volume</th>\n",
       "      <th>PageEnd</th>\n",
       "      <th>PageStart</th>\n",
       "      <th>PubYear</th>\n",
       "      <th>SortDate</th>\n",
       "      <th>Title</th>\n",
       "      <th>Type</th>\n",
       "      <th>Journal</th>\n",
       "    </tr>\n",
       "  </thead>\n",
       "  <tbody>\n",
       "    <tr>\n",
       "      <th>0</th>\n",
       "      <td>048485a0</td>\n",
       "      <td>10.1038/048485a0</td>\n",
       "      <td>1247.0</td>\n",
       "      <td>48.0</td>\n",
       "      <td>508.0</td>\n",
       "      <td>485.0</td>\n",
       "      <td>1893</td>\n",
       "      <td>1893-09-21</td>\n",
       "      <td>The British Association</td>\n",
       "      <td>ed</td>\n",
       "      <td>Nature</td>\n",
       "    </tr>\n",
       "    <tr>\n",
       "      <th>1</th>\n",
       "      <td>048508a0</td>\n",
       "      <td>10.1038/048508a0</td>\n",
       "      <td>1247.0</td>\n",
       "      <td>48.0</td>\n",
       "      <td>509.0</td>\n",
       "      <td>508.0</td>\n",
       "      <td>1893</td>\n",
       "      <td>1893-09-21</td>\n",
       "      <td>The Thieving of Assyrian Antiquities\\r\\n</td>\n",
       "      <td>lt</td>\n",
       "      <td>Nature</td>\n",
       "    </tr>\n",
       "    <tr>\n",
       "      <th>2</th>\n",
       "      <td>048509a0</td>\n",
       "      <td>10.1038/048509a0</td>\n",
       "      <td>1247.0</td>\n",
       "      <td>48.0</td>\n",
       "      <td>509.0</td>\n",
       "      <td>509.0</td>\n",
       "      <td>1893</td>\n",
       "      <td>1893-09-21</td>\n",
       "      <td>Bishop's Ring\\r\\n</td>\n",
       "      <td>lt</td>\n",
       "      <td>Nature</td>\n",
       "    </tr>\n",
       "    <tr>\n",
       "      <th>3</th>\n",
       "      <td>048509b0</td>\n",
       "      <td>10.1038/048509b0</td>\n",
       "      <td>1247.0</td>\n",
       "      <td>48.0</td>\n",
       "      <td>509.0</td>\n",
       "      <td>509.0</td>\n",
       "      <td>1893</td>\n",
       "      <td>1893-09-21</td>\n",
       "      <td>Spring and Autumn of 1893\\r\\n</td>\n",
       "      <td>lt</td>\n",
       "      <td>Nature</td>\n",
       "    </tr>\n",
       "    <tr>\n",
       "      <th>4</th>\n",
       "      <td>048509c0</td>\n",
       "      <td>10.1038/048509c0</td>\n",
       "      <td>1247.0</td>\n",
       "      <td>48.0</td>\n",
       "      <td>512.0</td>\n",
       "      <td>509.0</td>\n",
       "      <td>1893</td>\n",
       "      <td>1893-09-21</td>\n",
       "      <td>Notes</td>\n",
       "      <td>misc</td>\n",
       "      <td>Nature</td>\n",
       "    </tr>\n",
       "    <tr>\n",
       "      <th>...</th>\n",
       "      <td>...</td>\n",
       "      <td>...</td>\n",
       "      <td>...</td>\n",
       "      <td>...</td>\n",
       "      <td>...</td>\n",
       "      <td>...</td>\n",
       "      <td>...</td>\n",
       "      <td>...</td>\n",
       "      <td>...</td>\n",
       "      <td>...</td>\n",
       "      <td>...</td>\n",
       "    </tr>\n",
       "    <tr>\n",
       "      <th>395498</th>\n",
       "      <td>149145b0</td>\n",
       "      <td>10.1038/149145b0</td>\n",
       "      <td>3770.0</td>\n",
       "      <td>149.0</td>\n",
       "      <td>146.0</td>\n",
       "      <td>145.0</td>\n",
       "      <td>1942</td>\n",
       "      <td>1942-01-31</td>\n",
       "      <td>NATIVE SUBSISTENCE ON THE AMERICAN CENTRAL PLAINS</td>\n",
       "      <td>nw</td>\n",
       "      <td>Nature</td>\n",
       "    </tr>\n",
       "    <tr>\n",
       "      <th>395499</th>\n",
       "      <td>149146a0</td>\n",
       "      <td>10.1038/149146a0</td>\n",
       "      <td>3770.0</td>\n",
       "      <td>149.0</td>\n",
       "      <td>146.0</td>\n",
       "      <td>146.0</td>\n",
       "      <td>1942</td>\n",
       "      <td>1942-01-31</td>\n",
       "      <td>EARTHQUAKE ORIGINS IN THE NEW ZEALAND REGION</td>\n",
       "      <td>nw</td>\n",
       "      <td>Nature</td>\n",
       "    </tr>\n",
       "    <tr>\n",
       "      <th>395500</th>\n",
       "      <td>149146b0</td>\n",
       "      <td>10.1038/149146b0</td>\n",
       "      <td>3770.0</td>\n",
       "      <td>149.0</td>\n",
       "      <td>146.0</td>\n",
       "      <td>146.0</td>\n",
       "      <td>1942</td>\n",
       "      <td>1942-01-31</td>\n",
       "      <td>FORTHCOMING EVENTS</td>\n",
       "      <td>misc</td>\n",
       "      <td>Nature</td>\n",
       "    </tr>\n",
       "    <tr>\n",
       "      <th>395501</th>\n",
       "      <td>149146c0</td>\n",
       "      <td>10.1038/149146c0</td>\n",
       "      <td>3770.0</td>\n",
       "      <td>149.0</td>\n",
       "      <td>146.0</td>\n",
       "      <td>146.0</td>\n",
       "      <td>1942</td>\n",
       "      <td>1942-01-31</td>\n",
       "      <td>APPOINTMENTS VACANT</td>\n",
       "      <td>misc</td>\n",
       "      <td>Nature</td>\n",
       "    </tr>\n",
       "    <tr>\n",
       "      <th>395502</th>\n",
       "      <td>149146d0</td>\n",
       "      <td>10.1038/149146d0</td>\n",
       "      <td>3770.0</td>\n",
       "      <td>149.0</td>\n",
       "      <td>146.0</td>\n",
       "      <td>146.0</td>\n",
       "      <td>1942</td>\n",
       "      <td>1942-01-31</td>\n",
       "      <td>REPORTS and Other PUBLICATIONS</td>\n",
       "      <td>misc</td>\n",
       "      <td>Nature</td>\n",
       "    </tr>\n",
       "  </tbody>\n",
       "</table>\n",
       "<p>395503 rows × 11 columns</p>\n",
       "</div>"
      ],
      "text/plain": [
       "       ArticleID               DOI   Issue  Volume  PageEnd  PageStart  \\\n",
       "0       048485a0  10.1038/048485a0  1247.0    48.0    508.0      485.0   \n",
       "1       048508a0  10.1038/048508a0  1247.0    48.0    509.0      508.0   \n",
       "2       048509a0  10.1038/048509a0  1247.0    48.0    509.0      509.0   \n",
       "3       048509b0  10.1038/048509b0  1247.0    48.0    509.0      509.0   \n",
       "4       048509c0  10.1038/048509c0  1247.0    48.0    512.0      509.0   \n",
       "...          ...               ...     ...     ...      ...        ...   \n",
       "395498  149145b0  10.1038/149145b0  3770.0   149.0    146.0      145.0   \n",
       "395499  149146a0  10.1038/149146a0  3770.0   149.0    146.0      146.0   \n",
       "395500  149146b0  10.1038/149146b0  3770.0   149.0    146.0      146.0   \n",
       "395501  149146c0  10.1038/149146c0  3770.0   149.0    146.0      146.0   \n",
       "395502  149146d0  10.1038/149146d0  3770.0   149.0    146.0      146.0   \n",
       "\n",
       "        PubYear    SortDate  \\\n",
       "0          1893  1893-09-21   \n",
       "1          1893  1893-09-21   \n",
       "2          1893  1893-09-21   \n",
       "3          1893  1893-09-21   \n",
       "4          1893  1893-09-21   \n",
       "...         ...         ...   \n",
       "395498     1942  1942-01-31   \n",
       "395499     1942  1942-01-31   \n",
       "395500     1942  1942-01-31   \n",
       "395501     1942  1942-01-31   \n",
       "395502     1942  1942-01-31   \n",
       "\n",
       "                                                    Title  Type Journal  \n",
       "0                                 The British Association    ed  Nature  \n",
       "1                The Thieving of Assyrian Antiquities\\r\\n    lt  Nature  \n",
       "2                                       Bishop's Ring\\r\\n    lt  Nature  \n",
       "3                           Spring and Autumn of 1893\\r\\n    lt  Nature  \n",
       "4                                                   Notes  misc  Nature  \n",
       "...                                                   ...   ...     ...  \n",
       "395498  NATIVE SUBSISTENCE ON THE AMERICAN CENTRAL PLAINS    nw  Nature  \n",
       "395499       EARTHQUAKE ORIGINS IN THE NEW ZEALAND REGION    nw  Nature  \n",
       "395500                                 FORTHCOMING EVENTS  misc  Nature  \n",
       "395501                                APPOINTMENTS VACANT  misc  Nature  \n",
       "395502                     REPORTS and Other PUBLICATIONS  misc  Nature  \n",
       "\n",
       "[395503 rows x 11 columns]"
      ]
     },
     "execution_count": 3,
     "metadata": {},
     "output_type": "execute_result"
    }
   ],
   "source": [
    "article_df"
   ]
  },
  {
   "cell_type": "code",
   "execution_count": 4,
   "metadata": {},
   "outputs": [
    {
     "data": {
      "text/plain": [
       "<matplotlib.axes._subplots.AxesSubplot at 0x7ff906033668>"
      ]
     },
     "execution_count": 4,
     "metadata": {},
     "output_type": "execute_result"
    },
    {
     "data": {
      "image/png": "[encoded data removed]",
      "text/plain": [
       "<Figure size 1080x720 with 1 Axes>"
      ]
     },
     "metadata": {
      "needs_background": "light"
     },
     "output_type": "display_data"
    }
   ],
   "source": [
    "article_df['PubYear'].hist(bins = (article_df['PubYear'].max() - article_df['PubYear'].min()), figsize = (15, 10))"
   ]
  },
  {
   "cell_type": "code",
   "execution_count": 5,
   "metadata": {},
   "outputs": [],
   "source": [
    "x = list(article_df[['ArticleID','PubYear']].groupby('PubYear').count()['ArticleID'])"
   ]
  },
  {
   "cell_type": "code",
   "execution_count": 57,
   "metadata": {},
   "outputs": [],
   "source": [
    "w = np.fft.fft(x)\n",
    "freqs = np.fft.fftfreq(len(w))"
   ]
  },
  {
   "cell_type": "code",
   "execution_count": 58,
   "metadata": {},
   "outputs": [
    {
     "name": "stdout",
     "output_type": "stream",
     "text": [
      "(395503+0j) * exp(2 pi i t * 0.0)\n",
      "(-47741.08173227605+108296.56565066085j) * exp(2 pi i t * 0.006666666666666667)\n",
      "(-2916.647505104697-4446.201373113057j) * exp(2 pi i t * 0.013333333333333334)\n",
      "(10539.743735805234+19397.577300762736j) * exp(2 pi i t * 0.02)\n",
      "(-25020.935120043745+20768.783330945193j) * exp(2 pi i t * 0.02666666666666667)\n",
      "(12143.577118135774-11115.604172927051j) * exp(2 pi i t * 0.03333333333333333)\n",
      "(-7739.549818821184+29193.817441610612j) * exp(2 pi i t * 0.04)\n",
      "(-11897.168711957263+2992.0775355719984j) * exp(2 pi i t * 0.04666666666666667)\n",
      "(-2124.4129891429643+1883.9264314710495j) * exp(2 pi i t * 0.05333333333333334)\n",
      "(-2058.8926500048374+8760.953164608516j) * exp(2 pi i t * 0.060000000000000005)\n",
      "(-12443.556051734498-732.4449024497588j) * exp(2 pi i t * 0.06666666666666667)\n",
      "(7775.474178371135+8722.553310698155j) * exp(2 pi i t * 0.07333333333333333)\n",
      "(-10919.90605381349-3971.8651346329198j) * exp(2 pi i t * 0.08)\n",
      "(-2641.354099406623+6462.622597416276j) * exp(2 pi i t * 0.08666666666666667)\n",
      "(-527.0369496018116-2573.6465704460134j) * exp(2 pi i t * 0.09333333333333334)\n",
      "(194.09999338930152+2907.7059372984213j) * exp(2 pi i t * 0.1)\n",
      "(-6849.589185707154+3686.634866559948j) * exp(2 pi i t * 0.10666666666666667)\n",
      "(-1360.8904498737645+272.78985259690035j) * exp(2 pi i t * 0.11333333333333334)\n",
      "(-2303.8750480253802+1354.8487619933553j) * exp(2 pi i t * 0.12000000000000001)\n",
      "(-6811.388270367468+2068.8530769069152j) * exp(2 pi i t * 0.12666666666666668)\n",
      "(-5665.529243176205-2296.7989073599233j) * exp(2 pi i t * 0.13333333333333333)\n",
      "(-2555.1210834681096+2883.130051773979j) * exp(2 pi i t * 0.14)\n",
      "(-5980.845285328575+24.78815456550251j) * exp(2 pi i t * 0.14666666666666667)\n",
      "(-4005.5058075535458-1467.9736598095678j) * exp(2 pi i t * 0.15333333333333335)\n",
      "(-3130.021315728716-1900.5634002267052j) * exp(2 pi i t * 0.16)\n",
      "(-5993.000000000002+4177.706547856132j) * exp(2 pi i t * 0.16666666666666669)\n",
      "(-3553.587202821709-2434.92390162413j) * exp(2 pi i t * 0.17333333333333334)\n",
      "(-4668.897384773285-3434.064807311437j) * exp(2 pi i t * 0.18000000000000002)\n",
      "(-2507.426531640384+1690.9022297090512j) * exp(2 pi i t * 0.18666666666666668)\n",
      "(-4866.594597561747-3606.6489920911918j) * exp(2 pi i t * 0.19333333333333336)\n",
      "(-850.5535821593367-1871.0509499891796j) * exp(2 pi i t * 0.2)\n",
      "(-3461.529726274238+331.72586471501586j) * exp(2 pi i t * 0.2066666666666667)\n",
      "(-3374.491842485894-845.8046413647328j) * exp(2 pi i t * 0.21333333333333335)\n",
      "(-2071.0087936710506-3891.2642135502656j) * exp(2 pi i t * 0.22)\n",
      "(-2156.1493597257277+171.6062159068349j) * exp(2 pi i t * 0.22666666666666668)\n",
      "(-4885.554896889578+327.02184235713503j) * exp(2 pi i t * 0.23333333333333334)\n",
      "(-3331.6542050048765-4363.418177125062j) * exp(2 pi i t * 0.24000000000000002)\n",
      "(-2226.9362938502004-1381.709148524596j) * exp(2 pi i t * 0.24666666666666667)\n",
      "(-4815.703799447792-1511.77451373902j) * exp(2 pi i t * 0.25333333333333335)\n",
      "(-2217.3486715402673-4633.1333811069835j) * exp(2 pi i t * 0.26)\n",
      "(-441.1416160431836-1871.3625445776709j) * exp(2 pi i t * 0.26666666666666666)\n",
      "(-1574.8232117895773-3187.6777810856993j) * exp(2 pi i t * 0.2733333333333334)\n",
      "(-2096.0275559708807-3211.6261075371913j) * exp(2 pi i t * 0.28)\n",
      "(1722.7031445648163-1496.6480898074533j) * exp(2 pi i t * 0.2866666666666667)\n",
      "(-2927.0131214866533-516.4185345251922j) * exp(2 pi i t * 0.29333333333333333)\n",
      "(-1318.599993389303-3229.6783790649324j) * exp(2 pi i t * 0.30000000000000004)\n",
      "(-608.7916668942169-2258.4290875965435j) * exp(2 pi i t * 0.3066666666666667)\n",
      "(-43.3469471793378-227.32130318274994j) * exp(2 pi i t * 0.31333333333333335)\n",
      "(-3128.1534332994843-2892.994032775878j) * exp(2 pi i t * 0.32)\n",
      "(-1611.9620435165584-665.7788290648109j) * exp(2 pi i t * 0.32666666666666666)\n",
      "(-1004-2405.818571713171j) * exp(2 pi i t * 0.33333333333333337)\n",
      "(-1821.1498109392824-4401.051652321263j) * exp(2 pi i t * 0.34)\n",
      "(-215.66156740081078-990.2632335195303j) * exp(2 pi i t * 0.3466666666666667)\n",
      "(-1014.1308439546638-3253.6601618822942j) * exp(2 pi i t * 0.35333333333333333)\n",
      "(-337.4595881468067-2722.5702559703022j) * exp(2 pi i t * 0.36000000000000004)\n",
      "(1665.634998464012-2753.5817881222947j) * exp(2 pi i t * 0.3666666666666667)\n",
      "(-128.91367074552727-1527.7695351832463j) * exp(2 pi i t * 0.37333333333333335)\n",
      "(1756.71441668633-2732.920440753898j) * exp(2 pi i t * 0.38)\n",
      "(-530.3445017465281-663.8265964491811j) * exp(2 pi i t * 0.3866666666666667)\n",
      "(187.71897755678947-1408.320622370862j) * exp(2 pi i t * 0.39333333333333337)\n",
      "(-285.9464178406415-1102.4856427838815j) * exp(2 pi i t * 0.4)\n",
      "(-296.0397035642808-1764.4788175011568j) * exp(2 pi i t * 0.4066666666666667)\n",
      "(1966.48877722399-964.6587410026473j) * exp(2 pi i t * 0.4133333333333334)\n",
      "(-3269.026148969573-2337.260170732659j) * exp(2 pi i t * 0.42000000000000004)\n",
      "(2596.5619104921498-1206.8735864009693j) * exp(2 pi i t * 0.4266666666666667)\n",
      "(726.8427802897929-2436.1126147100217j) * exp(2 pi i t * 0.43333333333333335)\n",
      "(906.4121854045527-2239.756598098442j) * exp(2 pi i t * 0.44)\n",
      "(2761.6119356684476-729.1028820978051j) * exp(2 pi i t * 0.4466666666666667)\n",
      "(2738.973103104046-241.0019738084177j) * exp(2 pi i t * 0.45333333333333337)\n",
      "(1017.4863908748388-825.2477009024828j) * exp(2 pi i t * 0.46)\n",
      "(2166.72691095389+105.2246205857341j) * exp(2 pi i t * 0.4666666666666667)\n",
      "(2026.2798768487576+278.31554476270486j) * exp(2 pi i t * 0.4733333333333334)\n",
      "(1377.7348334062744+508.539131106382j) * exp(2 pi i t * 0.48000000000000004)\n",
      "(-416.03567388463455-247.2568721075613j) * exp(2 pi i t * 0.4866666666666667)\n",
      "(3135.5265085040073+687.2266777275122j) * exp(2 pi i t * 0.49333333333333335)\n",
      "(-2531+2.2737367544323206e-13j) * exp(2 pi i t * -0.5)\n",
      "(3135.526508504006-687.2266777275104j) * exp(2 pi i t * -0.49333333333333335)\n",
      "(-416.03567388463387+247.25687210756564j) * exp(2 pi i t * -0.4866666666666667)\n",
      "(1377.7348334062744-508.53913110638155j) * exp(2 pi i t * -0.48000000000000004)\n",
      "(2026.2798768487564-278.31554476271003j) * exp(2 pi i t * -0.4733333333333334)\n",
      "(2166.72691095389-105.22462058573285j) * exp(2 pi i t * -0.4666666666666667)\n",
      "(1017.4863908748381+825.247700902484j) * exp(2 pi i t * -0.46)\n",
      "(2738.973103104045+241.00197380841712j) * exp(2 pi i t * -0.45333333333333337)\n",
      "(2761.611935668453+729.102882097805j) * exp(2 pi i t * -0.4466666666666667)\n",
      "(906.4121854045532+2239.756598098441j) * exp(2 pi i t * -0.44)\n",
      "(726.8427802897982+2436.1126147100204j) * exp(2 pi i t * -0.43333333333333335)\n",
      "(2596.561910492149+1206.873586400968j) * exp(2 pi i t * -0.4266666666666667)\n",
      "(-3269.026148969574+2337.260170732661j) * exp(2 pi i t * -0.42000000000000004)\n",
      "(1966.4887772239902+964.658741002648j) * exp(2 pi i t * -0.4133333333333334)\n",
      "(-296.0397035642791+1764.4788175011618j) * exp(2 pi i t * -0.4066666666666667)\n",
      "(-285.9464178406415+1102.4856427838815j) * exp(2 pi i t * -0.4)\n",
      "(187.71897755679575+1408.3206223708662j) * exp(2 pi i t * -0.39333333333333337)\n",
      "(-530.3445017465292+663.8265964491818j) * exp(2 pi i t * -0.3866666666666667)\n",
      "(1756.7144166863293+2732.9204407538987j) * exp(2 pi i t * -0.38)\n",
      "(-128.91367074552454+1527.7695351832442j) * exp(2 pi i t * -0.37333333333333335)\n",
      "(1665.6349984640058+2753.5817881222933j) * exp(2 pi i t * -0.3666666666666667)\n",
      "(-337.4595881468045+2722.570255970306j) * exp(2 pi i t * -0.36000000000000004)\n",
      "(-1014.1308439546633+3253.6601618822933j) * exp(2 pi i t * -0.35333333333333333)\n",
      "(-215.66156740081215+990.2632335195306j) * exp(2 pi i t * -0.3466666666666667)\n",
      "(-1821.1498109392778+4401.051652321263j) * exp(2 pi i t * -0.34)\n",
      "(-1003.9999999999998+2405.818571713171j) * exp(2 pi i t * -0.33333333333333337)\n",
      "(-1611.96204351656+665.7788290648061j) * exp(2 pi i t * -0.32666666666666666)\n",
      "(-3128.1534332994843+2892.9940327758786j) * exp(2 pi i t * -0.32)\n",
      "(-43.346947179333824+227.32130318275196j) * exp(2 pi i t * -0.31333333333333335)\n",
      "(-608.7916668942164+2258.4290875965435j) * exp(2 pi i t * -0.3066666666666667)\n",
      "(-1318.5999933893038+3229.678379064936j) * exp(2 pi i t * -0.30000000000000004)\n",
      "(-2927.0131214866547+516.4185345251913j) * exp(2 pi i t * -0.29333333333333333)\n",
      "(1722.70314456482+1496.6480898074517j) * exp(2 pi i t * -0.2866666666666667)\n",
      "(-2096.0275559708807+3211.6261075371913j) * exp(2 pi i t * -0.28)\n",
      "(-1574.8232117895732+3187.6777810856975j) * exp(2 pi i t * -0.2733333333333334)\n",
      "(-441.1416160431835+1871.362544577673j) * exp(2 pi i t * -0.26666666666666666)\n",
      "(-2217.348671540269+4633.1333811069835j) * exp(2 pi i t * -0.26)\n",
      "(-4815.703799447792+1511.7745137390193j) * exp(2 pi i t * -0.25333333333333335)\n",
      "(-2226.936293850197+1381.709148524601j) * exp(2 pi i t * -0.24666666666666667)\n",
      "(-3331.6542050048783+4363.418177125063j) * exp(2 pi i t * -0.24000000000000002)\n",
      "(-4885.554896889576-327.0218423571307j) * exp(2 pi i t * -0.23333333333333334)\n",
      "(-2156.149359725726-171.60621590683309j) * exp(2 pi i t * -0.22666666666666668)\n",
      "(-2071.0087936710497+3891.2642135502647j) * exp(2 pi i t * -0.22)\n",
      "(-3374.4918424858924+845.8046413647323j) * exp(2 pi i t * -0.21333333333333335)\n",
      "(-3461.529726274247-331.7258647150102j) * exp(2 pi i t * -0.2066666666666667)\n",
      "(-850.5535821593367+1871.0509499891796j) * exp(2 pi i t * -0.2)\n",
      "(-4866.594597561755+3606.6489920911845j) * exp(2 pi i t * -0.19333333333333336)\n",
      "(-2507.426531640385-1690.9022297090503j) * exp(2 pi i t * -0.18666666666666668)\n",
      "(-4668.897384773286+3434.064807311438j) * exp(2 pi i t * -0.18000000000000002)\n",
      "(-3553.58720282171+2434.92390162413j) * exp(2 pi i t * -0.17333333333333334)\n",
      "(-5992.999999999998-4177.706547856134j) * exp(2 pi i t * -0.16666666666666669)\n",
      "(-3130.021315728716+1900.5634002267066j) * exp(2 pi i t * -0.16)\n",
      "(-4005.5058075535394+1467.9736598095687j) * exp(2 pi i t * -0.15333333333333335)\n",
      "(-5980.845285328576-24.788154565501827j) * exp(2 pi i t * -0.14666666666666667)\n",
      "(-2555.121083468109-2883.1300517739814j) * exp(2 pi i t * -0.14)\n",
      "(-5665.529243176207+2296.7989073599224j) * exp(2 pi i t * -0.13333333333333333)\n",
      "(-6811.388270367468-2068.8530769069166j) * exp(2 pi i t * -0.12666666666666668)\n",
      "(-2303.8750480253802-1354.8487619933558j) * exp(2 pi i t * -0.12000000000000001)\n",
      "(-1360.8904498737647-272.78985259690046j) * exp(2 pi i t * -0.11333333333333334)\n",
      "(-6849.589185707154-3686.6348665599476j) * exp(2 pi i t * -0.10666666666666667)\n",
      "(194.09999338930254-2907.705937298425j) * exp(2 pi i t * -0.1)\n",
      "(-527.0369496018122+2573.6465704460115j) * exp(2 pi i t * -0.09333333333333334)\n",
      "(-2641.354099406622-6462.622597416279j) * exp(2 pi i t * -0.08666666666666667)\n",
      "(-10919.90605381349+3971.8651346329193j) * exp(2 pi i t * -0.08)\n",
      "(7775.474178371134-8722.553310698151j) * exp(2 pi i t * -0.07333333333333333)\n",
      "(-12443.5560517345+732.4449024497585j) * exp(2 pi i t * -0.06666666666666667)\n",
      "(-2058.892650004832-8760.953164608516j) * exp(2 pi i t * -0.060000000000000005)\n",
      "(-2124.4129891429634-1883.9264314710504j) * exp(2 pi i t * -0.05333333333333334)\n",
      "(-11897.16871195726-2992.0775355720007j) * exp(2 pi i t * -0.04666666666666667)\n",
      "(-7739.5498188211795-29193.817441610616j) * exp(2 pi i t * -0.04)\n",
      "(12143.57711813577+11115.604172927055j) * exp(2 pi i t * -0.03333333333333333)\n",
      "(-25020.935120043745-20768.783330945196j) * exp(2 pi i t * -0.02666666666666667)\n",
      "(10539.743735805238-19397.577300762736j) * exp(2 pi i t * -0.02)\n",
      "(-2916.6475051046973+4446.2013731130555j) * exp(2 pi i t * -0.013333333333333334)\n",
      "(-47741.08173227605-108296.56565066084j) * exp(2 pi i t * -0.006666666666666667)\n"
     ]
    }
   ],
   "source": [
    "for coef,freq in zip(w,freqs):\n",
    "    if coef:\n",
    "        print('{c:>6} * exp(2 pi i t * {f})'.format(c=coef,f=freq))"
   ]
  },
  {
   "cell_type": "code",
   "execution_count": 63,
   "metadata": {},
   "outputs": [
    {
     "data": {
      "text/plain": [
       "<matplotlib.collections.PathCollection at 0x7f0143f39da0>"
      ]
     },
     "execution_count": 63,
     "metadata": {},
     "output_type": "execute_result"
    },
    {
     "data": {
      "image/png": "[encoded data removed]",
      "text/plain": [
       "<Figure size 432x288 with 1 Axes>"
      ]
     },
     "metadata": {
      "needs_background": "light"
     },
     "output_type": "display_data"
    }
   ],
   "source": [
    "plt.scatter(abs(freqs), w)"
   ]
  },
  {
   "cell_type": "code",
   "execution_count": 125,
   "metadata": {},
   "outputs": [
    {
     "data": {
      "text/plain": [
       "[<matplotlib.lines.Line2D at 0x7f0143bf9828>]"
      ]
     },
     "execution_count": 125,
     "metadata": {},
     "output_type": "execute_result"
    },
    {
     "data": {
      "image/png": "[encoded data removed]",
      "text/plain": [
       "<Figure size 432x288 with 1 Axes>"
      ]
     },
     "metadata": {
      "needs_background": "light"
     },
     "output_type": "display_data"
    }
   ],
   "source": [
    "def autocorr(x, max_lag, steps):\n",
    "    \n",
    "    results = []\n",
    "    \n",
    "    for i in range(1, max_lag, steps):\n",
    "        \n",
    "        x_hat = np.append(np.zeros(i), x[:len(x)-i])\n",
    "        results.append(np.corrcoef(x, x_hat)[1][0])\n",
    "        \n",
    "    return results\n",
    "\n",
    "plt.plot(autocorr(x, 20, 1))"
   ]
  },
  {
   "cell_type": "code",
   "execution_count": 135,
   "metadata": {},
   "outputs": [
    {
     "data": {
      "text/plain": [
       "ArticleID                   048485a0\n",
       "DOI                 10.1038/048485a0\n",
       "Issue                           1247\n",
       "Volume                            48\n",
       "PageEnd                          508\n",
       "PageStart                        485\n",
       "PubYear                         1893\n",
       "SortDate                  1893-09-21\n",
       "Title        The British Association\n",
       "Type                              ed\n",
       "Journal                       Nature\n",
       "Name: 0, dtype: object"
      ]
     },
     "execution_count": 135,
     "metadata": {},
     "output_type": "execute_result"
    }
   ],
   "source": [
    "article_df.loc[0]"
   ]
  },
  {
   "cell_type": "code",
   "execution_count": 145,
   "metadata": {},
   "outputs": [],
   "source": [
    "with open('data/nature/preprocessed/abstract_df.pickle', 'rb') as f:\n",
    "        abstract_df = pickle.load(f)"
   ]
  },
  {
   "cell_type": "code",
   "execution_count": 149,
   "metadata": {},
   "outputs": [
    {
     "data": {
      "text/html": [
       "<div>\n",
       "<style scoped>\n",
       "    .dataframe tbody tr th:only-of-type {\n",
       "        vertical-align: middle;\n",
       "    }\n",
       "\n",
       "    .dataframe tbody tr th {\n",
       "        vertical-align: top;\n",
       "    }\n",
       "\n",
       "    .dataframe thead th {\n",
       "        text-align: right;\n",
       "    }\n",
       "</style>\n",
       "<table border=\"1\" class=\"dataframe\">\n",
       "  <thead>\n",
       "    <tr style=\"text-align: right;\">\n",
       "      <th></th>\n",
       "      <th>ArticleID</th>\n",
       "      <th>Abstract</th>\n",
       "    </tr>\n",
       "  </thead>\n",
       "  <tbody>\n",
       "    <tr>\n",
       "      <th>0</th>\n",
       "      <td>048485a0</td>\n",
       "      <td>THE Nottingham meeting of the British Associat...</td>\n",
       "    </tr>\n",
       "    <tr>\n",
       "      <th>1</th>\n",
       "      <td>048508a0</td>\n",
       "      <td>I HAD hoped that the British Museum slander ca...</td>\n",
       "    </tr>\n",
       "    <tr>\n",
       "      <th>2</th>\n",
       "      <td>048509a0</td>\n",
       "      <td>BISHOP'S RING still continues very conspicuous...</td>\n",
       "    </tr>\n",
       "    <tr>\n",
       "      <th>3</th>\n",
       "      <td>048509b0</td>\n",
       "      <td>As the peculiarities of this season are receiv...</td>\n",
       "    </tr>\n",
       "    <tr>\n",
       "      <th>4</th>\n",
       "      <td>048509c0</td>\n",
       "      <td>MR. W. SAVILLE-KENT, at present engaged as Com...</td>\n",
       "    </tr>\n",
       "    <tr>\n",
       "      <th>...</th>\n",
       "      <td>...</td>\n",
       "      <td>...</td>\n",
       "    </tr>\n",
       "    <tr>\n",
       "      <th>395498</th>\n",
       "      <td>149145b0</td>\n",
       "      <td>IN a recent paper, W. R. Wedel dealt with man'...</td>\n",
       "    </tr>\n",
       "    <tr>\n",
       "      <th>395499</th>\n",
       "      <td>149146a0</td>\n",
       "      <td>R. C. HAYES, acting director of the Dominion O...</td>\n",
       "    </tr>\n",
       "    <tr>\n",
       "      <th>395500</th>\n",
       "      <td>149146b0</td>\n",
       "      <td>(\\nMeeting marked with an asterisk is open to ...</td>\n",
       "    </tr>\n",
       "    <tr>\n",
       "      <th>395501</th>\n",
       "      <td>149146c0</td>\n",
       "      <td>APPLICATIONS are invited for the following app...</td>\n",
       "    </tr>\n",
       "    <tr>\n",
       "      <th>395502</th>\n",
       "      <td>149146d0</td>\n",
       "      <td>(\\nnot included in the monthly Books Supplemen...</td>\n",
       "    </tr>\n",
       "  </tbody>\n",
       "</table>\n",
       "<p>395503 rows × 2 columns</p>\n",
       "</div>"
      ],
      "text/plain": [
       "       ArticleID                                           Abstract\n",
       "0       048485a0  THE Nottingham meeting of the British Associat...\n",
       "1       048508a0  I HAD hoped that the British Museum slander ca...\n",
       "2       048509a0  BISHOP'S RING still continues very conspicuous...\n",
       "3       048509b0  As the peculiarities of this season are receiv...\n",
       "4       048509c0  MR. W. SAVILLE-KENT, at present engaged as Com...\n",
       "...          ...                                                ...\n",
       "395498  149145b0  IN a recent paper, W. R. Wedel dealt with man'...\n",
       "395499  149146a0  R. C. HAYES, acting director of the Dominion O...\n",
       "395500  149146b0  (\\nMeeting marked with an asterisk is open to ...\n",
       "395501  149146c0  APPLICATIONS are invited for the following app...\n",
       "395502  149146d0  (\\nnot included in the monthly Books Supplemen...\n",
       "\n",
       "[395503 rows x 2 columns]"
      ]
     },
     "execution_count": 149,
     "metadata": {},
     "output_type": "execute_result"
    }
   ],
   "source": [
    "abstract_df"
   ]
  },
  {
   "cell_type": "code",
   "execution_count": 159,
   "metadata": {},
   "outputs": [],
   "source": [
    "directory = 'data/nature/raw xml/'\n",
    "zfile = zipfile.ZipFile(os.path.join(directory, os.listdir(directory)[0]))\n",
    "\n",
    "for finfo in zfile.infolist():\n",
    "        ifile = zfile.open(finfo)\n",
    "        line_list = ifile.readlines()"
   ]
  },
  {
   "cell_type": "code",
   "execution_count": 171,
   "metadata": {},
   "outputs": [
    {
     "data": {
      "text/plain": [
       "'nature_v173_n4402_xml.zip'"
      ]
     },
     "execution_count": 171,
     "metadata": {},
     "output_type": "execute_result"
    }
   ],
   "source": [
    "os.listdir(directory)[0]"
   ]
  },
  {
   "cell_type": "code",
   "execution_count": 169,
   "metadata": {},
   "outputs": [
    {
     "data": {
      "text/plain": [
       "b'<iss>4402</iss>\\r\\n'"
      ]
     },
     "execution_count": 169,
     "metadata": {},
     "output_type": "execute_result"
    }
   ],
   "source": [
    "line_list[np.argmax(['4402' in str(line) for line in line_list])]"
   ]
  },
  {
   "cell_type": "code",
   "execution_count": 161,
   "metadata": {},
   "outputs": [
    {
     "data": {
      "text/plain": [
       "'nature_v173_n4402_xml.zip'"
      ]
     },
     "execution_count": 161,
     "metadata": {},
     "output_type": "execute_result"
    }
   ],
   "source": [
    "os.listdir(directory)[0]"
   ]
  },
  {
   "cell_type": "code",
   "execution_count": 172,
   "metadata": {},
   "outputs": [
    {
     "data": {
      "text/plain": [
       "[b'<?xml version=\"1.0\"?>\\r\\n',\n",
       " b'<!DOCTYPE headerx PUBLIC \"-//NPG//DTD headerx//EN\" \"headerx.dtd\">\\r\\n',\n",
       " b'<headerx>\\r\\n',\n",
       " b'<ArticleIdList>\\r\\n',\n",
       " b'<ArticleId>173508a0</ArticleId></ArticleIdList>\\r\\n',\n",
       " b'<pubfm>\\r\\n',\n",
       " b'<jtl>Nature</jtl>\\r\\n',\n",
       " b'<vol>173</vol>\\r\\n',\n",
       " b'<iss>4402</iss>\\r\\n',\n",
       " b'<idt>19540313</idt>\\r\\n',\n",
       " b'<categ id=\"categtxt\"/>\\r\\n',\n",
       " b'<categtxt>Reports and other Publications</categtxt>\\r\\n',\n",
       " b'<pp><spn>508</spn><epn>508</epn></pp>\\r\\n',\n",
       " b'<issn>0028-0836</issn>\\r\\n',\n",
       " b'<cpg><cpy>1954</cpy><cpn>Nature Publishing Group</cpn></cpg>\\r\\n',\n",
       " b'<doi>10.1038/173508a0</doi>\\r\\n',\n",
       " b'</pubfm>\\r\\n',\n",
       " b'<fm>\\r\\n',\n",
       " b'<atl>Reports and other Publications</atl>\\r\\n',\n",
       " b'</fm>\\r\\n',\n",
       " b'<bdy>(not included in the monthly Books Supplement)\\r\\n',\n",
       " b'Great Britain and Ireland\\r\\n',\n",
       " b'Air Ministry : Meteorological Office. Averages of Temperature for Great Britain and Northern Ireland 1921-50. Pp. ii &plus; 36. (London : H.M. Stationery Office, 1953.) 2s. net. [121\\r\\n',\n",
       " b'Ministry of Fuel and Power. Reports of H.M. Inspectors of Mines, under the Coal Mines Act, 1911, for the year 1952. Scottish Division. By H. R. Houston. Pp. ii &plus; 26. (London: H.M. Stationery Office, 1953.) Is. 3d. net. [121\\r\\n',\n",
       " b'Orgonomic Functionalism. Vol. 1, No. 1 (January, 1954). Pp. 46. (Nottingham: The Ritter Press, Alston, Alexandra Park, 1954.) 2s. Qd. [121\\r\\n',\n",
       " b'Eighth Annual Report and Accounts for the year ended 30th September, 1953. Pp. 12. (London : Negretti and .Zambra, Ltd., 1954.) [121\\r\\n',\n",
       " b'Department of Scientific and Industrial Research. Summary of Progress of the Geological Survey of Great Britain and the Museum of Practical Geology for the year 1952. With Report of the Geological Survey Board and Report of the Director. Pp. iv &plus; 72. (London: H.M. Stationery Office, 1953.) 2s. 6d. net. [121\\r\\n',\n",
       " b'Aero Research Technical Notes. Bulletin No. 132 : \"Araldite\" Miscellany. Pp. 8. (Duxford: Aero Research, Ltd., 1953.) [121\\r\\n',\n",
       " b'Communications of the Dublin Institute for Advanced Studies. Series A, No. 10 : Papers read at Cosmic Ray Colloquium, September, 1951. Pp. 195 (19 plates). (Dublin : Dublin Institute for Advanced Studies, 1952.) [121\\r\\n',\n",
       " b'Philosophical Transactions of the Royal Society of London. Series A. Mathematical and Physical Sciences. No. 914, Vol. 246 (12 January 1954): Spectral Theory for the Differential Equations of Simple Birth and Death Processes. By W. Ledermann and G. E. H. Reuter. Pp. 321-369. lls. No. 915, Vol. 246 (12 January 1954): The North Sea Storm Surge of 31 January and 1 February 1953. By J. R. Rossiter. Pp. 371-400. 7s. (London: Cambridge University Press, 1954.) [121\\r\\n',\n",
       " b'Ministry of Fuel and Power. Reports of H.M. Inspectors of Mines, amder the Coal Mines Act, 1911, for the year 1952. North Eastern Division. By C. W. Scott. Pp. ii &plus; 30. (London: H.M. Stationery Office, 1953.) Is. 9d. net. -. [181\\r\\n',\n",
       " b'Ministry of Fuel and Power. Reports of H.M. Inspectors of Mines, under the Coal Mines Act, 1911, for the year 1952. South Western Division. By T. A. Jones. Pp. ii &plus; 20. (London: H.M. Stationery Office, 1953.) Is. 3d. net. [191\\r\\n',\n",
       " b'London School of Hygiene and Tropical Medicine. (University of London.) Incorporating the Ross Institute. Report on the work of the School for the year 1952-1953. Pp. 126. (London : London School of Hygiene and Tropical Medicine, 1954.) J191\\r\\n',\n",
       " b'British Welding Journal. Vol. 1, No. 1 (January 1954). Pp. 36. (London : Institute of Welding, 1954.) 10s. [191\\r\\n',\n",
       " b'Other Countries\\r\\n',\n",
       " b'Smithsonian Institution. United States National Museum. Contributions from the United States National Herbarium. Vol. 30, Part 5 : Studies of Pacific Islands Plants, 15, The Genus Elaeocarpus in the New Hebrides, Fiji, Samoa, and Tonga. By A. C. Smith. Vol. 31,, Part 2: The Acanthaceae of Colombia, II. By Emery C. Leonard. (Washington, D.C. : Government Printing Office, 1953.) [3012\\r\\n',\n",
       " b'Sudan Government: Ministry of Agriculture. Annual Report of the Research Division, 1949/1950. Pp. ii &plus; 142. (Khartoum: Ministry of Agriculture, 1952.) [3012\\r\\n',\n",
       " b'United States Department of Commerce. National Bureau of Standards. Tables of Coefficients for the Numerical Calculation of Laplace Transforms. By Herbert E. Salzer. (Applied Mathematics Series-30.) Pp. ii &plus; 36. 25 cents. Hydraulic Research in the United States. Edited by Helen K. Middleton and Sonya W. Matchett. (Miscellaneous Publication-208.) Pp. xii &plus; 204. 1.25 dollars. (Washington, D.C. : Government Printing Office, 1953.) [3012\\r\\n',\n",
       " b'Veroffentlichungen des Fraunhofer Instituts, Freiburg I.B. Sonnen-Zirkular f iir die monate Juli, August, September 1953. Pp. 45. (Freiburg : Fraunhofer Institut, 1953.) [3012\\r\\n',\n",
       " b'British Honduras. Forest Department. Annual Report for 1952 (with Statistics in Standard Form for 1950 and 1951). Pp. 42. (British Honduras : Government Printer, 1953.) [3012\\r\\n',\n",
       " b'Nigeria : Agricultural Department. Special Bulletin No. 5 : Notes on the Main Types of Nigerian Soils. By Dr. H. Vine. Pp. 6 &plus; 1 map. (Lagos: Government Printer, 1953.) 2s. 6d. [61\\r\\n',\n",
       " b'Durban Museum and Art Gallery. Annual Report for the Municipal Year 1952-53. Pp. 12. (Durban : Durban Museum and Art Gallery, 1953.) [61\\r\\n',\n",
       " b'Report of Her Majesty\\'s Astronomer at the Cape of Good Hope to the Secretary of the Admiralty for the year 1952. Pp\". 16. (Observatory, C. P. : Royal Observatory, 1953.) [61\\r\\n',\n",
       " b'Metropolitan Life Insurance Company. Statistical Bulletin, Vol. 34, No. 11 : The Chances of Living To and Beyond Age 65. Pp. 12. (New York: Metropolitan Life Insurance Company, 1953.) [81\\r\\n',\n",
       " b'Nigeria. Annual Report on the Forest Administration of the Western Region of Nigeria for the year 1951-52. Pp. 48. (Lagos: Government Printer; London: Crown Agents for the Colonies, 1953.) 9rf.net. [81\\r\\n',\n",
       " b'World Health Organization. Technical Report Series No. 72 : Joint FAO/WHO Expert Committee on Nutrition. Third Report. Pp. 30. (Geneva: World Health Organization; London: H.M. Stationery Office, 1953.) Is. 6d.; 0.20 dollars; 65 French francs; 0.80 Swiss francs. [81\\r\\n',\n",
       " b'Linen Flax Fibre Production in New Zealand. By J. W. Hadfleld. Pp. xviii &plus; 126. (Christchurch, N.Z. : Linen Flax Corporation of New Zealand, and the N.Z. Departments of Agriculture, Industries and Commerce, and Scientific and Industrial Research, 1953.) [81\\r\\n',\n",
       " b'Current Biological Research in the Alaskan Arctic. Edited by Ira L. Wiggins. (Stanford University Publications: University Series. Biological Sciences, Vol. 11.) Pp. viii &plus; 55. (Stanford, California: Stanford University Press ; London : Oxford University Press, 1953.) 8s. net. [81\\r\\n',\n",
       " b'United States Department of Agriculture. Circular No. 919: Aiding Blister Rust Control by Silvicultural Measures on the Western White Pine Type. By Virgil D. Moss and Charles A. Wellner. Pp. 32. 10 cents. Circular No. 920 : The Hall Scale Eradication Project. By E. H. Fosen, A. W. Cressman and H. M. Armitage. Pp. 16. 10 cents. (Washington, D.C : Government Printing Office, 1953.) [81\\r\\n',\n",
       " b'Composite Wood. Vol. 1, No. 1 (October 1953). Pp. 26 &plus; 10. (Dehra Dun : Forest Research Institute, 1953.) 2/8/- rupees. [121\\r\\n',\n",
       " b'Bibliography of Scientific Publications of South Asia (India, Burma, Ceylon). No. 8 : July-December, 1952. Pp. vi &plus; 157. (New Delhi: UNESCO, 1953.) [121\\r\\n',\n",
       " b\"Suomen Geodeettisen Laitoksen Julkaisuja. Veroffentlichungen des Finnischen Geodatischen Institutes. No. 42 : On the Recent Uplift of the Earth's Crust in Finland. By Erkki Kaariainen. Pp. 106. No. 43: Astronomische Ortsbestimmungen in den Jahren 1946-1948. Von Pentti Kalaja. Pp. 146. (Helsinki: Suomen Gdtti Litk Jlkija, 1953.) [121\\r\\n\",\n",
       " b' Cl d Si M\"i\\r\\n',\n",
       " b'19461948. Von Pentt Kaja. Geodeettisen Laitoksen Julkaisuja, Adi Rl d Bli\\r\\n',\n",
       " b'eodeettisen Laitoksen Julkaisuja, 1953.) [\\r\\n',\n",
       " b'Academie Royale de Belgique. Classe des Sciences. Me\"moires, Tome 28, Fascicule 5 : Iiltude de I\\'lnteraction entre le champ propre d\\'une particle et un champ e\\'lectro-magne\\'tique homogene et constant. Par Marcel Demeur. Pp. 98. (Bruxelles: Palais des Academies, 1953.) 100 francs. [121\\r\\n',\n",
       " b'Tobacco Research Board of Southern Rhodesia. Interim Report No. 3 : How to Control Insects Attacking Tobacco. By P. W. Miles. Pp. 12. (Salisbury : Tobacco Research Board of Southern Rhodesia, 1953.) [121\\r\\n',\n",
       " b\"State of California. Department of Fish and Game: Marine Fisheries Branch. Fish Bulletin No. 93 : The Life History of the Cabezon, Scorpaenichthys marmoratus (Ayres). By Charles P. O'Con-nell. Pp. 77. Fish Bulletin No. 94 : The Behaviour and ^Reproduction of Salmonid Fishes in a Small Coastal Stream. By John C. Briggs. Pp. 62. (San Pedro, Calif.: California State Fisheries Laboratories, 1953.) [151</bdy></headerx>\"]"
      ]
     },
     "execution_count": 172,
     "metadata": {},
     "output_type": "execute_result"
    }
   ],
   "source": [
    "line_list"
   ]
  },
  {
   "cell_type": "code",
   "execution_count": 173,
   "metadata": {},
   "outputs": [
    {
     "data": {
      "text/plain": [
       "7867"
      ]
     },
     "execution_count": 173,
     "metadata": {},
     "output_type": "execute_result"
    }
   ],
   "source": [
    "len(os.listdir(directory))"
   ]
  },
  {
   "cell_type": "code",
   "execution_count": 190,
   "metadata": {},
   "outputs": [
    {
     "data": {
      "text/plain": [
       "['nature_v173_n4402_xml.zip',\n",
       " 'nature_v18_n449_xml.zip',\n",
       " 'nature_v260_n5554_xml.zip',\n",
       " 'nature_v232_n5308_xml.zip',\n",
       " 'nature_v485_n7400test-jo_xml.zip',\n",
       " 'nature_v201_n4914_xml.zip',\n",
       " 'nature_v57_n1476_xml.zip',\n",
       " 'nature_v72_n1854_xml.zip',\n",
       " 'nature_v57_n1468_xml.zip',\n",
       " 'nature_v22_n554_xml.zip',\n",
       " 'nature_v127_n3205_xml.zip',\n",
       " 'nature_v78_n2034_xml.zip',\n",
       " 'nature_v87_n2175_xml.zip',\n",
       " 'nature_v12_n300_xml.zip',\n",
       " 'nature_v110_n2772_xml.zip',\n",
       " 'nature_v176_n4484_xml.zip',\n",
       " 'nature_v43_n1121_xml.zip',\n",
       " 'nature_v238_n5358_xml.zip',\n",
       " 'nature_v258_n5531_xml.zip',\n",
       " 'nature_v10_n237_xml.zip',\n",
       " 'nature_v67_n1748_xml.zip',\n",
       " 'nature_v158_n4018_xml.zip',\n",
       " 'nature_v20_n501_xml.zip',\n",
       " 'nature_v211_n5050_xml.zip',\n",
       " 'nature_v369_n6478_xml.zip',\n",
       " 'nature_v40_n1028_xml.zip',\n",
       " 'nature_v373_n6512_xml.zip',\n",
       " 'nature_v156_n3965_xml.zip',\n",
       " 'nature_v88_n2202_xml.zip',\n",
       " 'nature_v383_n6601_xml.zip',\n",
       " 'nature_v104_n2611_xml.zip',\n",
       " 'nature_v463_n7278_xml.zip',\n",
       " 'nature_v39_n992_xml.zip',\n",
       " 'nature_v109_n2738_xml.zip',\n",
       " 'nature_v146_n3696_xml.zip',\n",
       " 'nature_v27_n684_xml.zip',\n",
       " 'nature_v318_n6043_xml.zip',\n",
       " 'nature_v145_n3675_xml.zip',\n",
       " 'nature_v94_n2341_xml.zip',\n",
       " 'nature_v56_n1443_xml.zip',\n",
       " 'nature_v197_n4862_xml.zip',\n",
       " 'nature_v76_n1962_xml.zip',\n",
       " 'nature_v453_n7193_xml.zip',\n",
       " 'nature_v466_n7302_xml.zip',\n",
       " 'nature_v167_n4245_xml.zip',\n",
       " 'nature_v498_n7455testjo_xml.zip',\n",
       " 'nature_v192_n4801_xml.zip',\n",
       " 'nature_v288_n5787_xml.zip',\n",
       " 'nature_v329_n6138_xml.zip',\n",
       " 'nature_v228_n5276_xml.zip',\n",
       " 'nature_v550_n7674_supp_spot_xml.zip',\n",
       " 'nature_v456_n7219_xml.zip',\n",
       " 'nature_v63_n1625_xml.zip',\n",
       " 'nature_v112_n2825_xml.zip',\n",
       " 'nature_v75_n1942_xml.zip',\n",
       " 'nature_v390_n6660_xml.zip',\n",
       " 'nature_v144_n3639supp_xml.zip',\n",
       " 'nature_v5_n107_xml.zip',\n",
       " 'nature_v321_n6068_xml.zip',\n",
       " 'nature_v357_n6379_xml.zip',\n",
       " 'nature_v127_n3201_xml.zip',\n",
       " 'nature_v76_n1977_xml.zip',\n",
       " 'nature_v137_n3469_xml.zip',\n",
       " 'nature_v68_n1753_xml.zip',\n",
       " 'nature_v312_n5996_xml.zip',\n",
       " 'nature_v117_n2944supp_xml.zip',\n",
       " 'nature_v374_n6518_xml.zip',\n",
       " 'nature_v424_n6952_xml.zip',\n",
       " 'nature_v183_n4668_xml.zip',\n",
       " 'nature_v201_n4918_xml.zip',\n",
       " 'nature_v396_n6713_xml.zip',\n",
       " 'nature_v269_n5630_xml.zip',\n",
       " 'nature_v109_n2737_xml.zip',\n",
       " 'nature_v10_n247_xml.zip',\n",
       " 'nature_v481_n7380_xml.zip',\n",
       " 'nature_v203_n4942_xml.zip',\n",
       " 'nature_v497_n7449_xml.zip',\n",
       " 'nature_v467_n7318_xml.zip',\n",
       " 'nature_v14_n342_xml.zip',\n",
       " 'nature_v484_n7392_xml.zip',\n",
       " 'nature_v48_n1251_xml.zip',\n",
       " 'nature_v17_n424_xml.zip',\n",
       " 'nature_v484_n7393_xml.zip',\n",
       " 'nature_v4_n91_xml.zip',\n",
       " 'nature_v549_n7671_xml.zip',\n",
       " 'nature_v62_n1600_xml.zip',\n",
       " 'nature_v177_n4506_xml.zip',\n",
       " 'nature_v425_n6955_xml.zip',\n",
       " 'nature_v478_n7368_supp_xml.zip',\n",
       " 'nature_v31_n786_xml.zip',\n",
       " 'nature_v459_n7244_xml.zip',\n",
       " 'nature_v155_n3924_xml.zip',\n",
       " 'nature_v550_n7677_supp_out_xml.zip',\n",
       " 'nature_v122_n3077_xml.zip',\n",
       " 'nature_v124_n3120_xml.zip',\n",
       " 'nature_v162_n4112_xml.zip',\n",
       " 'nature_v533_n7602_supp_xml.zip',\n",
       " 'nature_v188_n4754_xml.zip',\n",
       " 'nature_v219_n5152_xml.zip',\n",
       " 'nature_v151_n3822_xml.zip',\n",
       " 'nature_v418_n6894_xml.zip',\n",
       " 'nature_v421_n6918_xml.zip',\n",
       " 'nature_v166_n4215_xml.zip',\n",
       " 'nature_v143_n3615_xml.zip',\n",
       " 'nature_v297_n5861_xml.zip',\n",
       " 'nature_v48_n1227_xml.zip',\n",
       " 'nature_v65_n1686_xml.zip',\n",
       " 'nature_v225_n5230_xml.zip',\n",
       " 'nature_v259_n5539_xml.zip',\n",
       " 'nature_v546_n7659_supp_xml.zip',\n",
       " 'nature_v516_n7529_supp_xml.zip',\n",
       " 'nature_v406_n6794_xml.zip',\n",
       " 'nature_v42_n1087_xml.zip',\n",
       " 'nature_v94_n2353_xml.zip',\n",
       " 'nature_v161_n4090_xml.zip',\n",
       " 'nature_v450_n7173_xml.zip',\n",
       " 'nature_v83_n2112_xml.zip',\n",
       " 'nature_v36_n927_xml.zip',\n",
       " 'nature_v46_n1188_xml.zip',\n",
       " 'nature_v118_n2973_xml.zip',\n",
       " 'nature_v46_n1196_xml.zip',\n",
       " 'nature_v81_n2077_xml.zip',\n",
       " 'nature_v172_n4380_xml.zip',\n",
       " 'nature_v175_n4462_xml.zip',\n",
       " 'nature_v164_n4175_xml.zip',\n",
       " 'nature_v468_n7322_xml.zip',\n",
       " 'nature_v132_n3341_xml.zip',\n",
       " 'nature_v235_n5338_xml.zip',\n",
       " 'nature_v167_n4243_xml.zip',\n",
       " 'nature_v57_n1462_xml.zip',\n",
       " 'nature_v145_n3663_xml.zip',\n",
       " 'nature_v129_n3263_xml.zip',\n",
       " 'nature_v58_n1504_xml.zip',\n",
       " 'nature_v289_n5799_xml.zip',\n",
       " 'nature_v432_n7020_xml.zip',\n",
       " 'nature_v10_n257_xml.zip',\n",
       " 'nature_v72_n1876_xml.zip',\n",
       " 'nature_v26_n671_xml.zip',\n",
       " 'nature_v71_n1832_xml.zip',\n",
       " 'nature_v178_n4547_xml.zip',\n",
       " 'nature_v29_n732_xml.zip',\n",
       " 'nature_v302_n5905_xml.zip',\n",
       " 'nature_v365_n6441_xml.zip',\n",
       " 'nature_v67_n1736_xml.zip',\n",
       " 'nature_v137_n3453_xml.zip',\n",
       " 'nature_v389_n6653_xml.zip',\n",
       " 'nature_v290_n5808_xml.zip',\n",
       " 'nature_v255_n5511_xml.zip',\n",
       " 'nature_v40_n1038_xml.zip',\n",
       " 'nature_v426_n6966_xml.zip',\n",
       " 'nature_v95_n2383_xml.zip',\n",
       " 'nature_v153_n3890_xml.zip',\n",
       " 'nature_v7_n158_xml.zip',\n",
       " 'nature_v76_n1957_xml.zip',\n",
       " 'nature_v16_n402_xml.zip',\n",
       " 'nature_v178_n4525_xml.zip',\n",
       " 'nature_v403_n6770_xml.zip',\n",
       " 'nature_v70_n1824_xml.zip',\n",
       " 'nature_v432_n7013_xml.zip',\n",
       " 'nature_v509_n7498_supp_xml.zip',\n",
       " 'nature_v316_n6027_xml.zip',\n",
       " 'nature_v372_n6501_xml.zip',\n",
       " 'nature_v469_n7330_xml.zip',\n",
       " 'nature_v150_n3808_xml.zip',\n",
       " 'nature_v37_n960_xml.zip',\n",
       " 'nature_v379_n6566_xml.zip',\n",
       " 'nature_v215_n5097_xml.zip',\n",
       " 'nature_v277_n5695_xml.zip',\n",
       " 'nature_v62_n1614_xml.zip',\n",
       " 'nature_v268_n5618_xml.zip',\n",
       " 'nature_v46_n1187_xml.zip',\n",
       " 'nature_v150_n3813_xml.zip',\n",
       " 'nature_v527_n7578_supp_xml.zip',\n",
       " 'nature_v146_n3694_xml.zip',\n",
       " 'nature_v157_n3999_xml.zip',\n",
       " 'nature_v84_n2123_xml.zip',\n",
       " 'nature_v7_n159_xml.zip',\n",
       " 'nature_v144_n3656supp_xml.zip',\n",
       " 'nature_v170_n4319_xml.zip',\n",
       " 'nature_v145_n3662_xml.zip',\n",
       " 'nature_v48_n1244_xml.zip',\n",
       " 'nature_v202_n4928_xml.zip',\n",
       " 'nature_v68_n1749_xml.zip',\n",
       " 'nature_v13_n327_xml.zip',\n",
       " 'nature_v139_n3506_xml.zip',\n",
       " 'nature_v173_n4396_xml.zip',\n",
       " 'nature_v110_n2766_xml.zip',\n",
       " 'nature_v326_n6108_xml.zip',\n",
       " 'nature_v55_n1429_xml.zip',\n",
       " 'nature_v96_n2403_xml.zip',\n",
       " 'nature_v94_n2342_xml.zip',\n",
       " 'nature_v115_n2889_xml.zip',\n",
       " 'nature_v182_n4641_xml.zip',\n",
       " 'nature_v276_n5686_xml.zip',\n",
       " 'nature_v102_n2556_xml.zip',\n",
       " 'nature_v168_n4269_xml.zip',\n",
       " 'nature_v158_n4021_xml.zip',\n",
       " 'nature_v101_n2523_xml.zip',\n",
       " 'nature_v86_n2169_xml.zip',\n",
       " 'nature_v171_n4347_xml.zip',\n",
       " 'nature_v460_n7259_xml.zip',\n",
       " 'nature_v221_n5177_xml.zip',\n",
       " 'nature_v68_n1765_xml.zip',\n",
       " 'nature_v239_n5374_xml.zip',\n",
       " 'nature_v186_n4723_xml.zip',\n",
       " 'nature_v190_n4780_xml.zip',\n",
       " 'nature_v148_n3764_xml.zip',\n",
       " 'nature_v280_n5717_xml.zip',\n",
       " 'nature_v177_n4516_xml.zip',\n",
       " 'nature_v101_n2545_xml.zip',\n",
       " 'nature_v85_n2150_xml.zip',\n",
       " 'nature_v23_n594_xml.zip',\n",
       " 'nature_v289_n5795_xml.zip',\n",
       " 'nature_v48_n1247_xml.zip',\n",
       " 'nature_v440_n7082_xml.zip',\n",
       " 'nature_v79_n2044_xml.zip',\n",
       " 'nature_v224_n5220_xml.zip',\n",
       " 'nature_v108_n2720_xml.zip',\n",
       " 'nature_v56_n1438_xml.zip',\n",
       " 'nature_v28_n718_xml.zip',\n",
       " 'nature_v38_n978_xml.zip',\n",
       " 'nature_v70_n1821_xml.zip',\n",
       " 'nature_v453_n7195_xml.zip',\n",
       " 'nature_v127_n3199_xml.zip',\n",
       " 'nature_v7_n163_xml.zip',\n",
       " 'nature_v225_n5236_xml.zip',\n",
       " 'nature_v296_n5855_xml.zip',\n",
       " 'nature_v104_n2612_xml.zip',\n",
       " 'nature_v114_n2867_xml.zip',\n",
       " 'nature_v534_n7609_xml.zip',\n",
       " 'nature_v63_n1636_xml.zip',\n",
       " 'nature_v63_n1629_xml.zip',\n",
       " 'nature_v248_n5449_xml.zip',\n",
       " 'nature_v378_n6558_xml.zip',\n",
       " 'nature_v166_n4213_xml.zip',\n",
       " 'nature_v41_n1057_xml.zip',\n",
       " 'nature_v21_n545_xml.zip',\n",
       " 'nature_v85_n2155_xml.zip',\n",
       " 'nature_v262_n5567_xml.zip',\n",
       " 'nature_v29_n734_xml.zip',\n",
       " 'nature_v550_n7675_supp_out_xml.zip',\n",
       " 'nature_v550_n7675_supp_xml.zip',\n",
       " 'nature_v16_n408_xml.zip',\n",
       " 'nature_v169_n4307_xml.zip',\n",
       " 'nature_v86_n2164_xml.zip',\n",
       " 'nature_v459_n7243_xml.zip',\n",
       " 'nature_v158_n4023_xml.zip',\n",
       " 'nature_v59_n1529_xml.zip',\n",
       " 'nature_v175_n4457_xml.zip',\n",
       " 'nature_v34_n885_xml.zip',\n",
       " 'nature_v349_n6306_xml.zip',\n",
       " 'nature_v113_n2851_xml.zip',\n",
       " 'nature_v409_n6823_xml.zip',\n",
       " 'nature_v204_n4964_xml.zip',\n",
       " 'nature_v553_n7687_xml.zip',\n",
       " 'nature_v122_n3063_xml.zip',\n",
       " 'nature_v39_n997_xml.zip',\n",
       " 'nature_v154_n3904_xml.zip',\n",
       " 'nature_v67_n1723_xml.zip',\n",
       " 'nature_v142_n3584_xml.zip',\n",
       " 'nature_v173_n4397_xml.zip',\n",
       " 'nature_v205_n4969_xml.zip',\n",
       " 'nature_v38_n975_xml.zip',\n",
       " 'nature_v132_n3327_xml.zip',\n",
       " 'nature_v14_n358_xml.zip',\n",
       " 'nature_v147_n3721_xml.zip',\n",
       " 'nature_v349_n6311_xml.zip',\n",
       " 'nature_v284_n5757_xml.zip',\n",
       " 'nature_v126_n3185_xml.zip',\n",
       " 'nature_v61_n1574_xml.zip',\n",
       " 'nature_v91_n2268_xml.zip',\n",
       " 'nature_v443_n7109_xml.zip',\n",
       " 'nature_v57_n1473_xml.zip',\n",
       " 'nature_v511_n7508_xml.zip',\n",
       " 'nature_v303_n5917_xml.zip',\n",
       " 'nature_v249_n5454_xml.zip',\n",
       " 'nature_v8_n187_xml.zip',\n",
       " 'nature_v399_n6733_xml.zip',\n",
       " 'nature_v212_n5065_xml.zip',\n",
       " 'nature_v36_n915_xml.zip',\n",
       " 'nature_v23_n583_xml.zip',\n",
       " 'nature_v446_n7132_xml.zip',\n",
       " 'nature_v38_n977_xml.zip',\n",
       " 'nature_v108_n2721_xml.zip',\n",
       " 'nature_v359_n6392_xml.zip',\n",
       " 'nature_v85_n2141_xml.zip',\n",
       " 'nature_v466_n7303_xml.zip',\n",
       " 'nature_v276_n5685_xml.zip',\n",
       " 'nature_v167_n4251_xml.zip',\n",
       " 'nature_v333_n6170_xml.zip',\n",
       " 'nature_v281_n5727_xml.zip',\n",
       " 'nature_v56_n1449_xml.zip',\n",
       " 'nature_v259_n5538_xml.zip',\n",
       " 'nature_v15_n390_xml.zip',\n",
       " 'nature_v340_n6232_xml.zip',\n",
       " 'nature_v179_n4561_xml.zip',\n",
       " 'nature_v363_n6431_xml.zip',\n",
       " 'nature_v198_n4877_xml.zip',\n",
       " 'nature_v469_n7328_xml.zip',\n",
       " 'nature_v459_n7246_xml.zip',\n",
       " 'nature_v46_n1179_xml.zip',\n",
       " 'nature_v116_n2921_xml.zip',\n",
       " 'nature_v225_n5229_xml.zip',\n",
       " 'nature_v21_n534_xml.zip',\n",
       " 'nature_v2_n48_xml.zip',\n",
       " 'nature_v290_n5802_xml.zip',\n",
       " 'nature_v3_n64_xml.zip',\n",
       " 'nature_v535_n7613_xml.zip',\n",
       " 'nature_v141_n3560_xml.zip',\n",
       " 'nature_v136_n3441_xml.zip',\n",
       " 'nature_v26_n674_xml.zip',\n",
       " 'nature_v465_n7294_xml.zip',\n",
       " 'nature_v80_n2058_xml.zip',\n",
       " 'nature_v69_n1777_xml.zip',\n",
       " 'nature_v55_n1431_xml.zip',\n",
       " 'nature_v299_n5883_xml.zip',\n",
       " 'nature_v52_n1343_xml.zip',\n",
       " 'nature_v421_n6922_xml.zip',\n",
       " 'nature_v240_n5377_xml.zip',\n",
       " 'nature_v183_n4664_xml.zip',\n",
       " 'nature_v16_n415_xml.zip',\n",
       " 'nature_v63_n1632_xml.zip',\n",
       " 'nature_v243_n5403_xml.zip',\n",
       " 'nature_v522_n7557_xml.zip',\n",
       " 'nature_v281_n5729_xml.zip',\n",
       " 'nature_v372_n6503_xml.zip',\n",
       " 'nature_v46_n1199_xml.zip',\n",
       " 'nature_v531_n7592_supp_xml.zip',\n",
       " 'nature_v132_n3336_xml.zip',\n",
       " 'nature_v333_n6172_xml.zip',\n",
       " 'nature_v157_n3977_xml.zip',\n",
       " 'nature_v128_n3220_xml.zip',\n",
       " 'nature_v550_n7675_xml.zip',\n",
       " 'nature_v130_n3296_xml.zip',\n",
       " 'nature_v53_n1378_xml.zip',\n",
       " 'nature_v388_n6643_xml.zip',\n",
       " 'nature_v88_n2193_xml.zip',\n",
       " 'nature_v19_n491_xml.zip',\n",
       " 'nature_v209_n5027_xml.zip',\n",
       " 'nature_v287_n5781_xml.zip',\n",
       " 'nature_v302_n5908_xml.zip',\n",
       " 'nature_v379_n6560_xml.zip',\n",
       " 'nature_v44_n1148_xml.zip',\n",
       " 'nature_v36_n934_xml.zip',\n",
       " 'nature_v173_n4409_xml.zip',\n",
       " 'nature_v186_n4725_xml.zip',\n",
       " 'nature_v9_n220_xml.zip',\n",
       " 'nature_v33_n854_xml.zip',\n",
       " 'nature_v14_n363_xml.zip',\n",
       " 'nature_v111_n2788_xml.zip',\n",
       " 'nature_v14_n356_xml.zip',\n",
       " 'nature_v129_n3258_xml.zip',\n",
       " 'nature_v82_n2095_xml.zip',\n",
       " 'nature_v258_n5533_xml.zip',\n",
       " 'nature_v60_n1550_xml.zip',\n",
       " 'nature_v291_n5815_xml.zip',\n",
       " 'nature_v342_n6251_xml.zip',\n",
       " 'nature_v20_n522_xml.zip',\n",
       " 'nature_v547_n7661_xml.zip',\n",
       " 'nature_v285_n5760_xml.zip',\n",
       " 'nature_v116_n2910_xml.zip',\n",
       " 'nature_v176_n4480_xml.zip',\n",
       " 'nature_v416_n6880_xml.zip',\n",
       " 'nature_v59_n1520_xml.zip',\n",
       " 'nature_v88_n2199_xml.zip',\n",
       " 'nature_v212_n5069_xml.zip',\n",
       " 'nature_v36_n923_xml.zip',\n",
       " 'nature_v501_n7465_xml.zip',\n",
       " 'nature_v17_n437_xml.zip',\n",
       " 'nature_v134_n3375_xml.zip',\n",
       " 'nature_v548_n7666_xml.zip',\n",
       " 'nature_v393_n6680_xml.zip',\n",
       " 'nature_v86_n2157_xml.zip',\n",
       " 'nature_v18_n467_xml.zip',\n",
       " 'nature_v30_n776_xml.zip',\n",
       " 'nature_v69_n1792_xml.zip',\n",
       " 'nature_v109_n2726_xml.zip',\n",
       " 'nature_v166_n4227_xml.zip',\n",
       " 'nature_v310_n5978_xml.zip',\n",
       " 'nature_v537_n7619_supp_xml.zip',\n",
       " 'nature_v71_n1841_xml.zip',\n",
       " 'nature_v39_n1006_xml.zip',\n",
       " 'nature_v75_n1932_xml.zip',\n",
       " 'nature_v79_n2038_xml.zip',\n",
       " 'nature_v52_n1336_xml.zip',\n",
       " 'nature_v98_n2466_xml.zip',\n",
       " 'nature_v451_n7179_xml.zip',\n",
       " 'nature_v216_n5110_xml.zip',\n",
       " 'nature_v326_n6110_xml.zip',\n",
       " 'nature_v449_n7159_xml.zip',\n",
       " 'nature_v101_n2531_xml.zip',\n",
       " 'nature_v146_n3709_xml.zip',\n",
       " 'nature_v292_n5825_xml.zip',\n",
       " 'nature_v418_n6893_xml.zip',\n",
       " 'nature_v16_n397_xml.zip',\n",
       " 'nature_v76_n1971_xml.zip',\n",
       " 'nature_v132_n3333_xml.zip',\n",
       " 'nature_v48_n1250_xml.zip',\n",
       " 'nature_v138_n3491_xml.zip',\n",
       " 'nature_v195_n4839_xml.zip',\n",
       " 'nature_v175_n4454_xml.zip',\n",
       " 'nature_v130_n3288_xml.zip',\n",
       " 'nature_v46_n1200_xml.zip',\n",
       " 'nature_v76_n1983_xml.zip',\n",
       " 'nature_v64_n1648_xml.zip',\n",
       " 'nature_v398_n6725_xml.zip',\n",
       " 'nature_v195_n4841_xml.zip',\n",
       " 'nature_v208_n5017_xml.zip',\n",
       " 'nature_v14_n357_xml.zip',\n",
       " 'nature_v141_n3582_xml.zip',\n",
       " 'nature_v19_n481_xml.zip',\n",
       " 'nature_v91_n2266_xml.zip',\n",
       " 'nature_v410_n6831_xml.zip',\n",
       " 'nature_v388_n6638_xml.zip',\n",
       " 'nature_v117_n2940_xml.zip',\n",
       " 'nature_v52_n1353_xml.zip',\n",
       " 'nature_v440_n7080_xml.zip',\n",
       " 'nature_v29_n745_xml.zip',\n",
       " 'nature_v242_n5392_xml.zip',\n",
       " 'nature_v100_n2514_xml.zip',\n",
       " 'nature_v248_n5451_xml.zip',\n",
       " 'nature_v380_n6571_xml.zip',\n",
       " 'nature_v101_n2525_xml.zip',\n",
       " 'nature_v91_n2274_xml.zip',\n",
       " 'nature_v448_n7156_xml.zip',\n",
       " 'nature_v69_n1788_xml.zip',\n",
       " 'nature_v123_n3099_xml.zip',\n",
       " 'nature_v207_n4996_xml.zip',\n",
       " 'nature_v155_n3944_xml.zip',\n",
       " 'nature_v144_n3657_xml.zip',\n",
       " 'nature_v111_n2775_xml.zip',\n",
       " 'nature_v19_n494_xml.zip',\n",
       " 'nature_v53_n1360_xml.zip',\n",
       " 'nature_v318_n6044_xml.zip',\n",
       " 'nature_v150_n3794_xml.zip',\n",
       " 'nature_v47_n1206_xml.zip',\n",
       " 'nature_v241_n5385_xml.zip',\n",
       " 'nature_v161_n4096_xml.zip',\n",
       " 'nature_v12_n290_xml.zip',\n",
       " 'nature_v19_n484_xml.zip',\n",
       " 'nature_v22_n555_xml.zip',\n",
       " 'nature_v493_n7432_xml.zip',\n",
       " 'nature_v198_n4886_xml.zip',\n",
       " 'nature_v83_n2122_xml.zip',\n",
       " 'nature_v68_n1773_xml.zip',\n",
       " 'nature_v402_n6759_xml.zip',\n",
       " 'nature_v113_n2833_xml.zip',\n",
       " 'nature_v219_n5151_xml.zip',\n",
       " 'nature_v75_n1954_xml.zip',\n",
       " 'nature_v112_n2824_xml.zip',\n",
       " 'nature_v54_n1385_xml.zip',\n",
       " 'nature_v91_n2264_xml.zip',\n",
       " 'nature_v352_n6335_xml.zip',\n",
       " 'nature_v347_n6293_xml.zip',\n",
       " 'nature_v254_n5497_xml.zip',\n",
       " 'nature_v43_n1119_xml.zip',\n",
       " 'nature_v76_n1964_xml.zip',\n",
       " 'nature_v223_n5209_xml.zip',\n",
       " 'nature_v468_n7327_xml.zip',\n",
       " 'nature_v102_n2562_xml.zip',\n",
       " 'nature_v167_n4259_xml.zip',\n",
       " 'nature_v314_n6012_xml.zip',\n",
       " 'nature_v104_n2615_xml.zip',\n",
       " 'nature_v183_n4672_xml.zip',\n",
       " 'nature_v91_n2278_xml.zip',\n",
       " 'nature_v501_n7467_xml.zip',\n",
       " 'nature_v110_n2769_xml.zip',\n",
       " 'nature_v165_n4188_xml.zip',\n",
       " 'nature_v176_n4490_xml.zip',\n",
       " 'nature_v49_n1255_xml.zip',\n",
       " 'nature_v180_n4584_xml.zip',\n",
       " 'nature_v119_n3004_xml.zip',\n",
       " 'nature_v447_n7140_xml.zip',\n",
       " 'nature_v29_n740_xml.zip',\n",
       " 'nature_v83_n2108_xml.zip',\n",
       " 'nature_v62_n1611_xml.zip',\n",
       " 'nature_v39_n1010_xml.zip',\n",
       " 'nature_v154_n3907_xml.zip',\n",
       " 'nature_v351_n6327_xml.zip',\n",
       " 'nature_v88_n2207_xml.zip',\n",
       " 'nature_v389_n6649_xml.zip',\n",
       " 'nature_v187_n4741_xml.zip',\n",
       " 'nature_v298_n5873_xml.zip',\n",
       " 'nature_v472_n7342_xml.zip',\n",
       " 'nature_v136_n3429_xml.zip',\n",
       " 'nature_v3_n69_xml.zip',\n",
       " 'nature_v132_n3332_xml.zip',\n",
       " 'nature_v29_n755_xml.zip',\n",
       " 'nature_v54_n1402_xml.zip',\n",
       " 'nature_v63_n1643_xml.zip',\n",
       " 'nature_v102_n2558_xml.zip',\n",
       " 'nature_v527_n7576_supp_xml.zip',\n",
       " 'nature_v81_n2081_xml.zip',\n",
       " 'nature_v313_n5997_xml.zip',\n",
       " 'nature_v78_n2027_xml.zip',\n",
       " 'nature_v34_n873_xml.zip',\n",
       " 'nature_v137_n3473_xml.zip',\n",
       " 'nature_v361_n6413_xml.zip',\n",
       " 'nature_v307_n5947_xml.zip',\n",
       " 'nature_v471_n7337_xml.zip',\n",
       " 'nature_v113_n2850_xml.zip',\n",
       " 'nature_v76_n1978_xml.zip',\n",
       " 'nature_v422_n6930_xml.zip',\n",
       " 'nature_v181_n4614_xml.zip',\n",
       " 'nature_v94_n2356_xml.zip',\n",
       " 'nature_v519_n7544_supp_xml.zip',\n",
       " 'nature_v58_n1496_xml.zip',\n",
       " 'nature_v98_n2456_xml.zip',\n",
       " 'nature_v184_n4679_xml.zip',\n",
       " 'nature_v520_n7546_xml.zip',\n",
       " 'nature_v366_n6452_xml.zip',\n",
       " 'nature_v344_n6268_xml.zip',\n",
       " 'nature_v109_n2735_xml.zip',\n",
       " 'nature_v541_n7638_xml.zip',\n",
       " 'nature_v227_n5256_xml.zip',\n",
       " 'nature_v472_n7343_xml.zip',\n",
       " 'nature_v103_n2595_xml.zip',\n",
       " 'nature_v134_n3398_xml.zip',\n",
       " 'nature_v316_n6028_xml.zip',\n",
       " 'nature_v126_n3167_xml.zip',\n",
       " 'nature_v110_n2771_xml.zip',\n",
       " 'nature_v310_n5975_xml.zip',\n",
       " 'nature_v53_n1361_xml.zip',\n",
       " 'nature_v209_n5020_xml.zip',\n",
       " 'nature_v117_n2948supp_xml.zip',\n",
       " 'nature_v8_n190_xml.zip',\n",
       " 'nature_v126_n3186_xml.zip',\n",
       " 'nature_v60_n1557_xml.zip',\n",
       " 'nature_v162_n4116_xml.zip',\n",
       " 'nature_v65_n1683_xml.zip',\n",
       " 'nature_v233_n5320_xml.zip',\n",
       " 'nature_v184_n4694_xml.zip',\n",
       " 'nature_v480_n7378_supp_xml.zip',\n",
       " 'nature_v122_n3071_xml.zip',\n",
       " 'nature_v202_n4935_xml.zip',\n",
       " 'nature_v262_n5569_xml.zip',\n",
       " 'nature_v172_n4378_xml.zip',\n",
       " 'nature_v365_n6443_xml.zip',\n",
       " 'nature_v106_n2663_xml.zip',\n",
       " 'nature_v459_n7248_xml.zip',\n",
       " 'nature_v448_n7155_xml.zip',\n",
       " 'nature_v538_n7623_xml.zip',\n",
       " 'nature_v408_n6811_xml.zip',\n",
       " 'nature_v78_n2021_xml.zip',\n",
       " 'nature_v349_n6312_xml.zip',\n",
       " 'nature_v555_n7696_xml.zip',\n",
       " 'nature_v77_n1986_xml.zip',\n",
       " 'nature_v295_n5847_xml.zip',\n",
       " 'nature_v175_n4447_xml.zip',\n",
       " 'nature_v110_n2768_xml.zip',\n",
       " 'nature_v59_n1535_xml.zip',\n",
       " 'nature_v250_n5466_xml.zip',\n",
       " 'nature_v41_n1063_xml.zip',\n",
       " 'nature_v15_n389_xml.zip',\n",
       " 'nature_v431_n7010_xml.zip',\n",
       " 'nature_v156_n3967_xml.zip',\n",
       " 'nature_v201_n4915_xml.zip',\n",
       " 'nature_v273_n5663_xml.zip',\n",
       " 'nature_v29_n733_xml.zip',\n",
       " 'nature_v24_n619_xml.zip',\n",
       " 'nature_v335_n6188_xml.zip',\n",
       " 'nature_v128_n3237_xml.zip',\n",
       " 'nature_v304_n5925_xml.zip',\n",
       " 'nature_v94_n2354_xml.zip',\n",
       " 'nature_v523_n7562_xml.zip',\n",
       " 'nature_v96_n2406_xml.zip',\n",
       " 'nature_v30_n764_xml.zip',\n",
       " 'nature_v144_n3653_xml.zip',\n",
       " 'nature_v362_n6415_xml.zip',\n",
       " 'nature_v468_n7326_xml.zip',\n",
       " 'nature_v231_n5301_xml.zip',\n",
       " 'nature_v227_n5255_xml.zip',\n",
       " 'nature_v273_n5660_xml.zip',\n",
       " 'nature_v214_n5091_xml.zip',\n",
       " 'nature_v253_n5488_xml.zip',\n",
       " 'nature_v93_n2319_xml.zip',\n",
       " 'nature_v116_n2907_xml.zip',\n",
       " 'nature_v300_n5888_xml.zip',\n",
       " 'nature_v462_n7271_xml.zip',\n",
       " 'nature_v89_n2230_xml.zip',\n",
       " 'nature_v99_n2484_xml.zip',\n",
       " 'nature_v4_n99_xml.zip',\n",
       " 'nature_v175_n4465_xml.zip',\n",
       " 'nature_v330_n6146_xml.zip',\n",
       " 'nature_v157_n3981_xml.zip',\n",
       " 'nature_v169_n4299_xml.zip',\n",
       " 'nature_v31_n794_xml.zip',\n",
       " 'nature_v291_n5810_xml.zip',\n",
       " 'nature_v190_n4770_xml.zip',\n",
       " 'nature_v216_n5116_xml.zip',\n",
       " 'nature_v176_n4491_xml.zip',\n",
       " 'nature_v431_n7012_xml.zip',\n",
       " 'nature_v173_n4404_xml.zip',\n",
       " 'nature_v218_n5145_xml.zip',\n",
       " 'nature_v448_n7157_xml.zip',\n",
       " 'nature_v135_n3405_xml.zip',\n",
       " 'nature_v478_n7367_xml.zip',\n",
       " 'nature_v62_n1606_xml.zip',\n",
       " 'nature_v45_n1166_xml.zip',\n",
       " 'nature_v166_n4226_xml.zip',\n",
       " 'nature_v107_n2683_xml.zip',\n",
       " 'nature_v1_n10_xml.zip',\n",
       " 'nature_v179_n4567_xml.zip',\n",
       " 'nature_v326_n6114_xml.zip',\n",
       " 'nature_v369_n6481_xml.zip',\n",
       " 'nature_v518_n7540_supp_xml.zip',\n",
       " 'nature_v78_n2015_xml.zip',\n",
       " 'nature_v6_n137_xml.zip',\n",
       " 'nature_v45_n1165_xml.zip',\n",
       " 'nature_v44_n1135_xml.zip',\n",
       " 'nature_v544_n7650_xml.zip',\n",
       " 'nature_v364_n6437_xml.zip',\n",
       " 'nature_v310_n5980_xml.zip',\n",
       " 'nature_v92_n2313_xml.zip',\n",
       " 'nature_v170_n4321_xml.zip',\n",
       " 'nature_v228_n5278_xml.zip',\n",
       " 'nature_v476_n7361_xml.zip',\n",
       " 'nature_v6_n132_xml.zip',\n",
       " 'nature_v24_n602_xml.zip',\n",
       " 'nature_v344_n6264_xml.zip',\n",
       " 'nature_v426_n6962_xml.zip',\n",
       " 'nature_v105_n2634_xml.zip',\n",
       " 'nature_v173_n4392_xml.zip',\n",
       " 'nature_v115_n2888_xml.zip',\n",
       " 'nature_v228_n5272_xml.zip',\n",
       " 'nature_v256_n5515_xml.zip',\n",
       " 'nature_v54_n1406_xml.zip',\n",
       " 'nature_v68_n1774_xml.zip',\n",
       " 'nature_v202_n4931_xml.zip',\n",
       " 'nature_v494_n7438_xml.zip',\n",
       " 'nature_v489_n7414_xml.zip',\n",
       " 'nature_v79_n2037_xml.zip',\n",
       " 'nature_v214_n5085_xml.zip',\n",
       " 'nature_v98_n2449_xml.zip',\n",
       " 'nature_v51_n1319_xml.zip',\n",
       " 'nature_v468_n7320_xml.zip',\n",
       " 'nature_v208_n5006_xml.zip',\n",
       " 'nature_v72_n1855_xml.zip',\n",
       " 'nature_v159_n4043_xml.zip',\n",
       " 'nature_v150_n3797_xml.zip',\n",
       " 'nature_v458_n7234_xml.zip',\n",
       " 'nature_v131_n3306_xml.zip',\n",
       " 'nature_v3_n53_xml.zip',\n",
       " 'nature_v71_n1842_xml.zip',\n",
       " 'nature_v183_n4653_xml.zip',\n",
       " 'nature_v162_n4128_xml.zip',\n",
       " 'nature_v9_n221_xml.zip',\n",
       " 'nature_v245_n5426_xml.zip',\n",
       " 'nature_v129_n3262_xml.zip',\n",
       " 'nature_v120_n3034_xml.zip',\n",
       " 'nature_v9_n212_xml.zip',\n",
       " 'nature_v339_n6219_xml.zip',\n",
       " 'nature_v521_n7550_xml.zip',\n",
       " 'nature_v83_n2107_xml.zip',\n",
       " 'nature_v145_n3664_xml.zip',\n",
       " 'nature_v387_n6628_xml.zip',\n",
       " 'nature_v180_n4588_xml.zip',\n",
       " 'nature_v243_n5404_xml.zip',\n",
       " 'nature_v176_n4478_xml.zip',\n",
       " 'nature_v304_n5926_xml.zip',\n",
       " 'nature_v317_n6034_xml.zip',\n",
       " 'nature_v31_n796_xml.zip',\n",
       " 'nature_v260_n5550_xml.zip',\n",
       " 'nature_v163_n4140_xml.zip',\n",
       " 'nature_v22_n558_xml.zip',\n",
       " 'nature_v339_n6225_xml.zip',\n",
       " 'nature_v190_n4778_xml.zip',\n",
       " 'nature_v45_n1152_xml.zip',\n",
       " 'nature_v334_n6184_xml.zip',\n",
       " 'nature_v142_n3604_xml.zip',\n",
       " 'nature_v130_n3270_xml.zip',\n",
       " 'nature_v409_n6821_xml.zip',\n",
       " 'nature_v397_n6715_xml.zip',\n",
       " 'nature_v254_n5495_xml.zip',\n",
       " 'nature_v97_n2418_xml.zip',\n",
       " 'nature_v140_n3543_xml.zip',\n",
       " 'nature_v239_n5371_xml.zip',\n",
       " 'nature_v121_n3037_xml.zip',\n",
       " 'nature_v162_n4124_xml.zip',\n",
       " 'nature_v93_n2321_xml.zip',\n",
       " 'nature_v341_n6244_xml.zip',\n",
       " 'nature_v528_n7581_xml.zip',\n",
       " 'nature_v82_n2093_xml.zip',\n",
       " 'nature_v260_n5553_xml.zip',\n",
       " 'nature_v416_n6876_xml.zip',\n",
       " 'nature_v80_n2054_xml.zip',\n",
       " 'nature_v77_n2002_xml.zip',\n",
       " 'nature_v423_n6940_xml.zip',\n",
       " 'nature_v394_n6695_xml.zip',\n",
       " 'nature_v143_n3617_xml.zip',\n",
       " 'nature_v121_n3052_xml.zip',\n",
       " 'nature_v186_n4730_xml.zip',\n",
       " 'nature_v127_n3207_xml.zip',\n",
       " 'nature_v67_n1725_xml.zip',\n",
       " 'nature_v10_n251_xml.zip',\n",
       " 'nature_v106_n2674_xml.zip',\n",
       " 'nature_v471_n7340_xml.zip',\n",
       " 'nature_v137_n3465_xml.zip',\n",
       " 'nature_v308_n5960_xml.zip',\n",
       " 'nature_v73_n1896_xml.zip',\n",
       " 'nature_v496_n7444_xml.zip',\n",
       " 'nature_v355_n6357_xml.zip',\n",
       " 'nature_v402_n6763_xml.zip',\n",
       " 'nature_v152_n3856_xml.zip',\n",
       " 'nature_v109_n2728_xml.zip',\n",
       " 'nature_v158_n4004_xml.zip',\n",
       " 'nature_v94_n2359_xml.zip',\n",
       " 'nature_v106_n2677_xml.zip',\n",
       " 'nature_v75_n1950_xml.zip',\n",
       " 'nature_v212_n5064_xml.zip',\n",
       " 'nature_v7_n168_xml.zip',\n",
       " 'nature_v376_n6538_xml.zip',\n",
       " 'nature_v2_n31_xml.zip',\n",
       " 'nature_v269_n5628_xml.zip',\n",
       " 'nature_v210_n5035_xml.zip',\n",
       " 'nature_v182_n4632_xml.zip',\n",
       " 'nature_v395_n6704_xml.zip',\n",
       " 'nature_v182_n4631_xml.zip',\n",
       " 'nature_v273_n5662_xml.zip',\n",
       " 'nature_v23_n596_xml.zip',\n",
       " 'nature_v54_n1394_xml.zip',\n",
       " 'nature_v136_n3428_xml.zip',\n",
       " 'nature_v371_n6499_xml.zip',\n",
       " 'nature_v34_n886_xml.zip',\n",
       " 'nature_v96_n2397_xml.zip',\n",
       " 'nature_v322_n6074_xml.zip',\n",
       " 'nature_v496_n7445_xml.zip',\n",
       " 'nature_v112_n2804_xml.zip',\n",
       " 'nature_v450_n7172_xml.zip',\n",
       " 'nature_v253_n5491_xml.zip',\n",
       " 'nature_v42_n1085_xml.zip',\n",
       " 'nature_v2_n44_xml.zip',\n",
       " 'nature_v542_n7640_xml.zip',\n",
       " 'nature_v195_n4842_xml.zip',\n",
       " 'nature_v412_n6849_xml.zip',\n",
       " 'nature_v41_n1061_xml.zip',\n",
       " 'nature_v87_n2187_xml.zip',\n",
       " 'nature_v265_n5592_xml.zip',\n",
       " 'nature_v381_n6584_xml.zip',\n",
       " 'nature_v513_n7517_xml.zip',\n",
       " 'nature_v262_n5563_xml.zip',\n",
       " 'nature_v166_n4233_xml.zip',\n",
       " 'nature_v180_n4598_xml.zip',\n",
       " 'nature_v85_n2142_xml.zip',\n",
       " 'nature_v464_n7286_xml.zip',\n",
       " 'nature_v243_n5405_xml.zip',\n",
       " 'nature_v3_n73_xml.zip',\n",
       " 'nature_v53_n1365_xml.zip',\n",
       " 'nature_v314_n6011_xml.zip',\n",
       " 'nature_v269_n5626_xml.zip',\n",
       " 'nature_v194_n4825_xml.zip',\n",
       " 'nature_v90_n2236_xml.zip',\n",
       " 'nature_v1_n15_xml.zip',\n",
       " 'nature_v131_n3314_xml.zip',\n",
       " 'nature_v473_n7348_xml.zip',\n",
       " 'nature_v357_n6380_xml.zip',\n",
       " 'nature_v19_n478_xml.zip',\n",
       " 'nature_v192_n4802_xml.zip',\n",
       " 'nature_v284_n5752_xml.zip',\n",
       " 'nature_v10_n261_xml.zip',\n",
       " 'nature_v223_n5210_xml.zip',\n",
       " 'nature_v315_n6020_xml.zip',\n",
       " 'nature_v140_n3544_xml.zip',\n",
       " 'nature_v76_n1979_xml.zip',\n",
       " 'nature_v118_n2966_xml.zip',\n",
       " 'nature_v147_n3733_xml.zip',\n",
       " 'nature_v354_n6353_xml.zip',\n",
       " 'nature_v79_n2046_xml.zip',\n",
       " 'nature_v223_n5213_xml.zip',\n",
       " 'nature_v215_n5101_xml.zip',\n",
       " 'nature_v143_n3613_xml.zip',\n",
       " 'nature_v37_n955_xml.zip',\n",
       " 'nature_v526_n7575_supp_xml.zip',\n",
       " 'nature_v479_n7372_xml.zip',\n",
       " 'nature_v13_n315_xml.zip',\n",
       " 'nature_v239_n5373_xml.zip',\n",
       " 'nature_v135_n3414_xml.zip',\n",
       " 'nature_v163_n4154_xml.zip',\n",
       " 'nature_v138_n3495_xml.zip',\n",
       " 'nature_v474_n7349_xml.zip',\n",
       " 'nature_v347_n6289_xml.zip',\n",
       " 'nature_v100_n2518_xml.zip',\n",
       " 'nature_v243_n5408_xml.zip',\n",
       " 'nature_v139_n3519_xml.zip',\n",
       " 'nature_v138_n3489_xml.zip',\n",
       " 'nature_v156_n3957_xml.zip',\n",
       " 'nature_v243_n5402_xml.zip',\n",
       " 'nature_v135_n3406_xml.zip',\n",
       " 'nature_v188_n4756_xml.zip',\n",
       " 'nature_v114_n2870_xml.zip',\n",
       " 'nature_v526_n7574_supp_xml.zip',\n",
       " 'nature_v176_n4487_xml.zip',\n",
       " 'nature_v164_n4164_xml.zip',\n",
       " 'nature_v159_n4039_xml.zip',\n",
       " 'nature_v250_n5465_xml.zip',\n",
       " 'nature_v175_n4451_xml.zip',\n",
       " 'nature_v24_n620_xml.zip',\n",
       " 'nature_v73_n1891_xml.zip',\n",
       " 'nature_v282_n5740_xml.zip',\n",
       " 'nature_v415_n6872_xml.zip',\n",
       " 'nature_v34_n887_xml.zip',\n",
       " 'nature_v32_n829_xml.zip',\n",
       " 'nature_v136_n3451_xml.zip',\n",
       " 'nature_v78_n2025_xml.zip',\n",
       " 'nature_v27_n694_xml.zip',\n",
       " 'nature_v101_n2528_xml.zip',\n",
       " 'nature_v63_n1642_xml.zip',\n",
       " 'nature_v281_n5733_xml.zip',\n",
       " 'nature_v204_n4957_xml.zip',\n",
       " 'nature_v181_n4626_xml.zip',\n",
       " 'nature_v535_n7610_xml.zip',\n",
       " 'nature_v461_n7265_xml.zip',\n",
       " 'nature_v20_n506_xml.zip',\n",
       " 'nature_v96_n2409_xml.zip',\n",
       " 'nature_v146_n3705_xml.zip',\n",
       " 'nature_v16_n410_xml.zip',\n",
       " 'nature_v62_n1595_xml.zip',\n",
       " 'nature_v100_n2517_xml.zip',\n",
       " 'nature_v437_n7062_xml.zip',\n",
       " 'nature_v148_n3763_xml.zip',\n",
       " 'nature_v294_n5837_xml.zip',\n",
       " 'nature_v237_n5349_xml.zip',\n",
       " 'nature_v66_n1706_xml.zip',\n",
       " 'nature_v190_n4775_xml.zip',\n",
       " 'nature_v122_n3074_xml.zip',\n",
       " 'nature_v117_n2952_xml.zip',\n",
       " 'nature_v176_n4494_xml.zip',\n",
       " 'nature_v184_n4681_xml.zip',\n",
       " 'nature_v162_n4117_xml.zip',\n",
       " 'nature_v65_n1673_xml.zip',\n",
       " 'nature_v280_n5723_xml.zip',\n",
       " 'nature_v517_n7533_xml.zip',\n",
       " 'nature_v169_n4313_xml.zip',\n",
       " 'nature_v149_n3771_xml.zip',\n",
       " 'nature_v10_n256_xml.zip',\n",
       " 'nature_v4_n98_xml.zip',\n",
       " 'nature_v71_n1852_xml.zip',\n",
       " 'nature_v146_n3699_xml.zip',\n",
       " 'nature_v333_n6168_xml.zip',\n",
       " 'nature_v399_n6738supp_xml.zip',\n",
       " 'nature_v215_n5098_xml.zip',\n",
       " 'nature_v156_n3971_xml.zip',\n",
       " 'nature_v172_n4383_xml.zip',\n",
       " 'nature_v212_n5061_xml.zip',\n",
       " 'nature_v63_n1634_xml.zip',\n",
       " 'nature_v517_n7532_xml.zip',\n",
       " 'nature_v410_n6829_xml.zip',\n",
       " 'nature_v279_n5711_xml.zip',\n",
       " 'nature_v156_n3953_xml.zip',\n",
       " 'nature_v100_n2519_xml.zip',\n",
       " 'nature_v34_n865_xml.zip',\n",
       " 'nature_v78_n2032_xml.zip',\n",
       " 'nature_v392_n6678_xml.zip',\n",
       " 'nature_v311_n5988_xml.zip',\n",
       " 'nature_v11_n281_xml.zip',\n",
       " 'nature_v332_n6160_xml.zip',\n",
       " 'nature_v349_n6307_xml.zip',\n",
       " 'nature_v8_n185_xml.zip',\n",
       " 'nature_v131_n3317_xml.zip',\n",
       " 'nature_v24_n601_xml.zip',\n",
       " 'nature_v372_n6505_xml.zip',\n",
       " 'nature_v151_n3836_xml.zip',\n",
       " 'nature_v164_n4163_xml.zip',\n",
       " 'nature_v172_n4376_xml.zip',\n",
       " 'nature_v422_n6934_xml.zip',\n",
       " 'nature_v493_n7430_xml.zip',\n",
       " 'nature_v59_n1514_xml.zip',\n",
       " 'nature_v412_n6844_xml.zip',\n",
       " 'nature_v55_n1414_xml.zip',\n",
       " 'nature_v89_n2212_xml.zip',\n",
       " 'nature_v78_n2031_xml.zip',\n",
       " 'nature_v107_n2685_xml.zip',\n",
       " 'nature_v60_n1545_xml.zip',\n",
       " 'nature_v112_n2810_xml.zip',\n",
       " 'nature_v342_n6249_xml.zip',\n",
       " 'nature_v22_n572_xml.zip',\n",
       " 'nature_v180_n4575_xml.zip',\n",
       " 'nature_v182_n4645_xml.zip',\n",
       " 'nature_v18_n458_xml.zip',\n",
       " 'nature_v224_n5219_xml.zip',\n",
       " 'nature_v45_n1163_xml.zip',\n",
       " 'nature_v198_n4885_xml.zip',\n",
       " 'nature_v59_n1526_xml.zip',\n",
       " 'nature_v8_n203_xml.zip',\n",
       " 'nature_v394_n6696_xml.zip',\n",
       " 'nature_v300_n5892_xml.zip',\n",
       " 'nature_v3_n58_xml.zip',\n",
       " 'nature_v38_n991_xml.zip',\n",
       " 'nature_v347_n6295_xml.zip',\n",
       " 'nature_v97_n2435_xml.zip',\n",
       " 'nature_v479_n7373_xml.zip',\n",
       " 'nature_v47_n1216_xml.zip',\n",
       " 'nature_v114_n2873_xml.zip',\n",
       " 'nature_v440_n7086_xml.zip',\n",
       " 'nature_v295_n5848_xml.zip',\n",
       " 'nature_v144_n3635_xml.zip',\n",
       " 'nature_v188_n4752_xml.zip',\n",
       " 'nature_v405_n6782_xml.zip',\n",
       " 'nature_v89_n2229_xml.zip',\n",
       " 'nature_v118_n2957supp_xml.zip',\n",
       " 'nature_v332_n6162_xml.zip',\n",
       " 'nature_v399_n6732_xml.zip',\n",
       " 'nature_v469_n7329_xml.zip',\n",
       " 'nature_v94_n2361_xml.zip',\n",
       " 'nature_v56_n1456_xml.zip',\n",
       " 'nature_v459_n7249_xml.zip',\n",
       " 'nature_v23_n600_xml.zip',\n",
       " 'nature_v26_n668_xml.zip',\n",
       " 'nature_v238_n5362_xml.zip',\n",
       " 'nature_v38_n969_xml.zip',\n",
       " 'nature_v13_n323_xml.zip',\n",
       " 'nature_v321_n6073_xml.zip',\n",
       " 'nature_v157_n3984_xml.zip',\n",
       " 'nature_v32_n815_xml.zip',\n",
       " 'nature_v71_n1846_xml.zip',\n",
       " 'nature_v324_n6097_xml.zip',\n",
       " 'nature_v358_n6388_xml.zip',\n",
       " 'nature_v49_n1261_xml.zip',\n",
       " 'nature_v145_n3672_xml.zip',\n",
       " 'nature_v8_n183_xml.zip',\n",
       " 'nature_v127_n3202_xml.zip',\n",
       " 'nature_v136_n3452_xml.zip',\n",
       " 'nature_v547_n7663_xml.zip',\n",
       " 'nature_v195_n4847_xml.zip',\n",
       " 'nature_v170_n4323_xml.zip',\n",
       " 'nature_v453_n7196_xml.zip',\n",
       " 'nature_v65_n1679_xml.zip',\n",
       " 'nature_v254_n5502_xml.zip',\n",
       " 'nature_v43_n1107_xml.zip',\n",
       " 'nature_v515_n7526_xml.zip',\n",
       " 'nature_v329_n6141_xml.zip',\n",
       " 'nature_v33_n847_xml.zip',\n",
       " 'nature_v185_n4706_xml.zip',\n",
       " 'nature_v163_n4141_xml.zip',\n",
       " 'nature_v163_n4144_xml.zip',\n",
       " 'nature_v73_n1880_xml.zip',\n",
       " 'nature_v407_n6803_xml.zip',\n",
       " 'nature_v63_n1618_xml.zip',\n",
       " 'nature_v11_n264_xml.zip',\n",
       " 'nature_v63_n1640_xml.zip',\n",
       " 'nature_v24_n615_xml.zip',\n",
       " 'nature_v188_n4751_xml.zip',\n",
       " 'nature_v409_n6820_xml.zip',\n",
       " 'nature_v74_n1926_xml.zip',\n",
       " 'nature_v250_n5463_xml.zip',\n",
       " 'nature_v45_n1150_xml.zip',\n",
       " 'nature_v329_n6142_xml.zip',\n",
       " 'nature_v191_n4790_xml.zip',\n",
       " 'nature_v98_n2469_xml.zip',\n",
       " 'nature_v74_n1916_xml.zip',\n",
       " 'nature_v72_n1877_xml.zip',\n",
       " 'nature_v362_n6418_xml.zip',\n",
       " 'nature_v227_n5254_xml.zip',\n",
       " 'nature_v343_n6255_xml.zip',\n",
       " 'nature_v159_n4042_xml.zip',\n",
       " 'nature_v99_n2488_xml.zip',\n",
       " 'nature_v111_n2791_xml.zip',\n",
       " 'nature_v184_n4689_xml.zip',\n",
       " 'nature_v165_n4198_xml.zip',\n",
       " 'nature_v6_n146_xml.zip',\n",
       " 'nature_v369_n6482_xml.zip',\n",
       " 'nature_v335_n6191_xml.zip',\n",
       " 'nature_v161_n4081_xml.zip',\n",
       " 'nature_v61_n1576_xml.zip',\n",
       " 'nature_v187_n4731_xml.zip',\n",
       " 'nature_v335_n6189_xml.zip',\n",
       " 'nature_v193_n4818_xml.zip',\n",
       " 'nature_v277_n5691_xml.zip',\n",
       " 'nature_v183_n4667_xml.zip',\n",
       " 'nature_v172_n4367_xml.zip',\n",
       " 'nature_v244_n5411_xml.zip',\n",
       " 'nature_v43_n1097_xml.zip',\n",
       " 'nature_v87_n2179_xml.zip',\n",
       " 'nature_v476_n7359_xml.zip',\n",
       " 'nature_v216_n5122_xml.zip',\n",
       " 'nature_v82_n2102_xml.zip',\n",
       " 'nature_v10_n254_xml.zip',\n",
       " 'nature_v514_n7524_supp_xml.zip',\n",
       " 'nature_v149_n3791_xml.zip',\n",
       " 'nature_v343_n6256_xml.zip',\n",
       " 'nature_v515_n7528_xml.zip',\n",
       " 'nature_v159_n4050_xml.zip',\n",
       " 'nature_v2_n46_xml.zip',\n",
       " 'nature_v177_n4508_xml.zip',\n",
       " 'nature_v275_n5680_xml.zip',\n",
       " 'nature_v377_n6544_xml.zip',\n",
       " 'nature_v221_n5184_xml.zip',\n",
       " 'nature_v198_n4876_xml.zip',\n",
       " 'nature_v97_n2442_xml.zip',\n",
       " 'nature_v178_n4534_xml.zip',\n",
       " 'nature_v101_n2534_xml.zip',\n",
       " 'nature_v261_n5561_xml.zip',\n",
       " 'nature_v526_n7572_supp_xml.zip',\n",
       " 'nature_v118_n2964_xml.zip',\n",
       " 'nature_v303_n5912_xml.zip',\n",
       " 'nature_v435_n7038_xml.zip',\n",
       " 'nature_v129_n3260_xml.zip',\n",
       " 'nature_v519_n7542_xml.zip',\n",
       " 'nature_v90_n2249_xml.zip',\n",
       " 'nature_v400_n6739_xml.zip',\n",
       " ...]"
      ]
     },
     "execution_count": 190,
     "metadata": {},
     "output_type": "execute_result"
    }
   ],
   "source": [
    "os.listdir(directory)"
   ]
  },
  {
   "cell_type": "code",
   "execution_count": 20,
   "metadata": {},
   "outputs": [],
   "source": [
    "def get_reference_mapping(filename, content):\n",
    "    \n",
    "    \"\"\"\n",
    "    Given XML filename and XML file, extract rid mappings and attribute data\n",
    "    \"\"\"\n",
    "    \n",
    "    mappings  = {}\n",
    "    extracted = {}\n",
    "    references = {}\n",
    "    parsed    = xmltodict.parse(content.decode('UTF-8'))\n",
    "    soup      = BeautifulSoup(content)\n",
    "\n",
    "    if '@id' in parsed['article']:\n",
    "        extracted['id']       = str(parsed['article']['@id'])\n",
    "    if '@language' in parsed['article']:\n",
    "        extracted['language'] = str(parsed['article']['@language'])\n",
    "    if '@publish' in parsed['article']:\n",
    "        extracted['publish']  = str(parsed['article']['@publish'])\n",
    "    if '@relation' in parsed['article']:\n",
    "        extracted['relation'] = str(parsed['article']['@relation'])\n",
    "    \n",
    "    if ('article' in parsed):\n",
    "        if ('pubfm' in parsed['article']):\n",
    "            if ('jtl' in parsed['article']['pubfm']):\n",
    "                extracted['jtl']   = str(parsed['article']['pubfm']['jtl'])\n",
    "    \n",
    "    if ('article' in parsed):\n",
    "        if ('pubfm' in parsed['article']):\n",
    "            if ('vol' in parsed['article']['pubfm']):\n",
    "                extracted['vol']   = str(parsed['article']['pubfm']['vol'])\n",
    "    \n",
    "    if ('article' in parsed):\n",
    "        if ('pubfm' in parsed['article']):\n",
    "            if ('issue' in parsed['article']['pubfm']):\n",
    "                extracted['issue'] = str(parsed['article']['pubfm']['issue'])\n",
    "\n",
    "    if ('article' in parsed):\n",
    "        if ('pubfm' in parsed['article']):\n",
    "            if ('vol' in parsed['article']['pubfm']):\n",
    "                extracted['doi']   = str(parsed['article']['pubfm']['doi'])\n",
    "    \n",
    "    if ('article' in parsed):\n",
    "        if ('fm' in parsed['article']):\n",
    "            if ('atl' in parsed['article']['fm']):\n",
    "                extracted['title']   = str(parsed['article']['fm']['atl'])\n",
    "     \n",
    "    \n",
    "    del parsed\n",
    "    \n",
    "    for bib in soup.find_all(\"bib\"):\n",
    "        \n",
    "        try:\n",
    "            reference_attr = {}\n",
    "            \n",
    "            reference_attr['title']   = str(bib.atl.contents[0])\n",
    "            reference_attr['snm']     = str([i.contents[0] for i in bib.find_all('snm')])\n",
    "            reference_attr['fnm']     = str([i.contents[0] for i in bib.find_all('fnm')])\n",
    "            reference_attr['journal'] = str(bib.jtl.contents[0])\n",
    "            reference_attr['year']    = str(bib.find_all('cd')[0].contents[0])\n",
    "\n",
    "            references.update({bib.attrs['id']: reference_attr})\n",
    "        \n",
    "        except Exception as e:\n",
    "            \n",
    "            if DEBUG == True:\n",
    "            \n",
    "                print('='*50)\n",
    "                print('Something is wrong with BeatifulSoup Tags: %s' % str(bib))\n",
    "                for i in ['snm', 'fnm', 'jtl', 'year', 'atl']:\n",
    "                    if len(bib.find_all(i)) == 0:\n",
    "                        print('%s attribute is missing.' %i)\n",
    "            \n",
    "            else: pass\n",
    "            \n",
    "    \n",
    "    references = {'metadata': extracted, 'references': references}\n",
    "    \n",
    "    try:\n",
    "        with open('data/intermediate/references/%s' % (filename + '.json'), 'w') as f:\n",
    "            f.write(json.dumps(references))\n",
    "        return True\n",
    "    \n",
    "    except TypeError as e:\n",
    "        #print('Some contents of the file %s is not serializable' % filename)\n",
    "        raise e\n",
    "        \n",
    "        \n",
    "def get_reference_text(filename, content):\n",
    "    \n",
    "    \"\"\"\n",
    "    Given XML filename and XML file, extract referencing text and reference metadata\n",
    "    TODO: Compile all regex to make it faster\n",
    "    \n",
    "    Returns  {str(unique_paper_indentifier), list(preceeding_text)}\n",
    "    \"\"\"\n",
    "    \n",
    "    content   = content.decode('UTF-8')\n",
    "    bibid     = re.findall(r'<bibr\\srid=\\\"(.*?)\\\"\\s*\\/>', content)\n",
    "    #bibtext   = re.findall(r\"\\s.*?<bibr\\s\", content)\n",
    "    \n",
    "    bibtext_intermediate = [s for s in sent_detector.tokenize(content)\\\n",
    "                               if re.search(r'<bibr\\srid', s)]\n",
    "\n",
    "    bibtext_intermediate = [s.split('</p>') for s in bibtext_intermediate]\n",
    "    bibtext_intermediate = [item for sublist in bibtext_intermediate for item in sublist]\n",
    "\n",
    "    bibtext_intermediate = [s for s in bibtext_intermediate if re.search(r'<bibr\\srid', s)]\n",
    "    text_counter         = [len(re.findall(r'<bibr\\srid', s)) for s in bibtext_intermediate]\n",
    "\n",
    "    bibtext = []\n",
    "\n",
    "    for i, s in enumerate(bibtext_intermediate):\n",
    "        while text_counter[i] != 0:\n",
    "            bibtext.append(s)\n",
    "            text_counter[i] -= 1\n",
    "        \n",
    "    \n",
    "    assert(len(bibid) == len(bibtext)), \"The bibid's and preceeding text don't match: \" +\\\n",
    "                                        \"for article %s\\n\" % filename +\\\n",
    "                                        \"bibid: %s\\n\" %bibid +\\\n",
    "                                        \"bibtext: %s\\n\" %bibtext\n",
    "    \n",
    "    with open('data/intermediate/tex_ref_mappings/%s' % (filename + '.json'), 'w') as f:\n",
    "        f.write(json.dumps([{i[1]:i[0].split(' ')} for i in zip(bibid, bibtext)]))\n",
    "    \n",
    "    return \n"
   ]
  },
  {
   "cell_type": "code",
   "execution_count": 22,
   "metadata": {},
   "outputs": [],
   "source": [
    "def get_zips():\n",
    "    \n",
    "    \"\"\"\n",
    "    Function to extract relevant files from the filebase\n",
    "    \"\"\"\n",
    "    \n",
    "    citations = {}\n",
    "    directory = 'data/nature/raw xml/'\n",
    "    zip_list  = [i for i in os.listdir(directory) if 'supp_xml' not in i]\n",
    "    \n",
    "    errored   = []\n",
    "    #zfile     = zipfile.ZipFile(os.path.join(directory, zip_list[0]))\n",
    "    \n",
    "    for zfile in tqdm(zip_list):\n",
    "        \n",
    "        zfile     = zipfile.ZipFile(os.path.join(directory, zfile))\n",
    "\n",
    "        for finfo in zfile.infolist():\n",
    "\n",
    "            if 'nature' in finfo.filename:\n",
    "\n",
    "                try:\n",
    "                    ifile = zfile.open(finfo)\n",
    "                    content = ifile.read()\n",
    "                    tex_ref_map = get_reference_text(finfo.filename, content)\n",
    "                    ref_id_ref_map = get_reference_mapping(finfo.filename, content)\n",
    "\n",
    "                    citations[finfo.filename] = {'tex_ref_map': tex_ref_map,\n",
    "                                                'ref_id_ref_map': ref_id_ref_map}\n",
    "                except Exception as e:\n",
    "\n",
    "                    print('Filename: %s, Zip:%s, Content:%s' % (finfo.filename,\n",
    "                                                                zfile,\n",
    "                                                                content))\n",
    "                    errored.append({'Filename':finfo.filename,\n",
    "                                    'Zip':zfile ,\n",
    "                                    'Content': content})\n",
    "                    #return content\n",
    "                    #raise Exception\n",
    "            \n",
    "    return citations, errored\n",
    "        \n",
    "#papers, errored = get_zips()"
   ]
  },
  {
   "cell_type": "code",
   "execution_count": 23,
   "metadata": {
    "scrolled": true
   },
   "outputs": [
    {
     "name": "stdout",
     "output_type": "stream",
     "text": [
      "CPU times: user 0 ns, sys: 0 ns, total: 0 ns\n",
      "Wall time: 6.91 µs\n"
     ]
    }
   ],
   "source": [
    "%time\n",
    "\n",
    "def get_zips_parallel_mapper(directory):\n",
    "    \n",
    "    \"\"\"\n",
    "    Function to extract relevant files from the filebase\n",
    "    \"\"\"\n",
    "    \n",
    "    try:\n",
    "        \n",
    "        zip_list  = [i for i in os.listdir(directory) if 'supp_xml' not in i]\n",
    "        errored   = []\n",
    "        finfos    = []\n",
    "        contents  = []\n",
    "\n",
    "        for zfile in tqdm(zip_list):\n",
    "\n",
    "            zfile     = zipfile.ZipFile(os.path.join(directory, zfile))\n",
    "\n",
    "            for finfo in zfile.infolist():\n",
    "\n",
    "                if 'nature' in finfo.filename:\n",
    "                    \n",
    "                    ifile = zfile.open(finfo)\n",
    "                    content = ifile.read()\n",
    "\n",
    "                    finfos.append(finfo)\n",
    "                    contents.append(zlib.compress(content))\n",
    "\n",
    "        return finfos, contents\n",
    "    \n",
    "    except Exception as e:\n",
    "        \n",
    "        print('Could not read file from zip %s, file %s' % (zfile, finfo.name))\n",
    "        \n",
    "def get_zips_parallel_reducer(arg):\n",
    "    \n",
    "    try:\n",
    "        finfo, content = arg[0], zlib.decompress(arg[1])\n",
    "        del arg\n",
    "\n",
    "        #citations = {}\n",
    "        #tex_ref_map = get_reference_text(finfo.filename, content)\n",
    "        #ref_id_ref_map = get_reference_mapping(finfo.filename, content)\n",
    "        #citations[finfo.filename] = {'tex_ref_map': tex_ref_map,\n",
    "        #                            'ref_id_ref_map': ref_id_ref_map}\n",
    "        \n",
    "        get_reference_text(finfo.filename, content)\n",
    "        get_reference_mapping(finfo.filename, content)\n",
    "        \n",
    "        return True\n",
    "    \n",
    "    except Exception as e:\n",
    "        \n",
    "        #print('Could not extract references from %s' % finfo)\n",
    "        return str(Exception)"
   ]
  },
  {
   "cell_type": "code",
   "execution_count": 27,
   "metadata": {},
   "outputs": [
    {
     "name": "stderr",
     "output_type": "stream",
     "text": [
      "/usr/local/lib/python3.5/dist-packages/ipykernel_launcher.py:16: TqdmDeprecationWarning: This function will be removed in tqdm==5.0.0\n",
      "Please use `tqdm.notebook.tqdm` instead of `tqdm.tqdm_notebook`\n",
      "  app.launch_new_instance()\n"
     ]
    },
    {
     "data": {
      "application/vnd.jupyter.widget-view+json": {
       "model_id": "9672f45a20dd4b17b7441463530d89ff",
       "version_major": 2,
       "version_minor": 0
      },
      "text/plain": [
       "HBox(children=(IntProgress(value=0, max=7727), HTML(value='')))"
      ]
     },
     "metadata": {},
     "output_type": "display_data"
    },
    {
     "name": "stdout",
     "output_type": "stream",
     "text": [
      "\n"
     ]
    },
    {
     "data": {
      "text/plain": [
       "True"
      ]
     },
     "execution_count": 27,
     "metadata": {},
     "output_type": "execute_result"
    }
   ],
   "source": [
    "##TEST on one\n",
    "DEBUG = False\n",
    "directory     = 'data/nature/raw xml/'\n",
    "finfos, contents = get_zips_parallel_mapper(directory)\n",
    "get_zips_parallel_reducer((finfos[2], contents[2]))"
   ]
  },
  {
   "cell_type": "code",
   "execution_count": 29,
   "metadata": {
    "scrolled": true
   },
   "outputs": [
    {
     "name": "stdout",
     "output_type": "stream",
     "text": [
      "CPU times: user 0 ns, sys: 0 ns, total: 0 ns\n",
      "Wall time: 7.39 µs\n"
     ]
    },
    {
     "name": "stderr",
     "output_type": "stream",
     "text": [
      "/usr/local/lib/python3.5/dist-packages/ipykernel_launcher.py:16: TqdmDeprecationWarning: This function will be removed in tqdm==5.0.0\n",
      "Please use `tqdm.notebook.tqdm` instead of `tqdm.tqdm_notebook`\n",
      "  app.launch_new_instance()\n"
     ]
    },
    {
     "data": {
      "application/vnd.jupyter.widget-view+json": {
       "model_id": "be9bb0c5b5694e339c245d7c28832bee",
       "version_major": 2,
       "version_minor": 0
      },
      "text/plain": [
       "HBox(children=(IntProgress(value=0, max=7727), HTML(value='')))"
      ]
     },
     "metadata": {},
     "output_type": "display_data"
    },
    {
     "name": "stdout",
     "output_type": "stream",
     "text": [
      "\n",
      "0.999939 of all processed files failed\n"
     ]
    }
   ],
   "source": [
    "%time\n",
    "finfos, contents = get_zips_parallel_mapper(directory)\n",
    "p = Pool(6)\n",
    "success = p.map(get_zips_parallel_reducer, zip(finfos, contents))\n",
    "error_rate = sum([1 if i == True else 0 for i in success])/len(success)\n",
    "print ('%f of all processed files Succeeded' % error_rate)"
   ]
  },
  {
   "cell_type": "code",
   "execution_count": 25,
   "metadata": {
    "scrolled": true
   },
   "outputs": [
    {
     "data": {
      "text/plain": [
       "4320"
      ]
     },
     "execution_count": 25,
     "metadata": {},
     "output_type": "execute_result"
    }
   ],
   "source": [
    "sum([1 if i == True else 0 for i in success])"
   ]
  },
  {
   "cell_type": "code",
   "execution_count": 22,
   "metadata": {},
   "outputs": [],
   "source": [
    "with open('data/intermediate/paper_citations.pkl', 'wb') as f:\n",
    "    pkl.dump(papers, f)"
   ]
  },
  {
   "cell_type": "markdown",
   "metadata": {},
   "source": [
    "### Step 2: Get reference_text -> reference 1:1 mapping"
   ]
  },
  {
   "cell_type": "code",
   "execution_count": 2,
   "metadata": {
    "scrolled": true
   },
   "outputs": [],
   "source": [
    "def build_ref_index(tex_ref_mappings, reference):\n",
    "\n",
    "    inverse_tex_ref = {}\n",
    "    \n",
    "    for tex_refs in tex_ref_mappings:\n",
    "        \n",
    "        text, refs = list(tex_refs.items())[0]\n",
    "        \n",
    "        for ref in refs: \n",
    "            if ref in inverse_tex_ref:\n",
    "                inverse_tex_ref[ref].append(text)\n",
    "            else:\n",
    "                inverse_tex_ref[ref] = [text]\n",
    "    \n",
    "    return inverse_tex_ref\n",
    "    \n",
    "def read_files():\n",
    "    \n",
    "    directory = 'data/intermediate/'\n",
    "    tex_ref_mappings = []\n",
    "    references       = []\n",
    "    \n",
    "    tex_ref_files = os.listdir(os.path.join(directory, 'tex_ref_mappings'))\n",
    "    references_files = os.listdir(os.path.join(directory, 'references'))\n",
    "    \n",
    "    if len(tex_ref_files) != len(references_files):\n",
    "        print('Not all text files have a references counterpart.\\n'\n",
    "              'Continuing with the files that do have a mapping')\n",
    "    \n",
    "    #file = tex_ref_files[1]\n",
    "    \n",
    "    for file in tqdm(tex_ref_files):\n",
    "        #print(file)\n",
    "        #print(tex_ref_mappings)\n",
    "        \n",
    "        with open(os.path.join(directory, 'tex_ref_mappings', file), 'r', encoding = 'UTF-8') as f0:\n",
    "\n",
    "            try:\n",
    "                with open(os.path.join(directory, 'references', file), 'r',  encoding = 'UTF-8') as f1:\n",
    "\n",
    "                    tex_ref_mappings.append(json.loads(str(f0.read()),  encoding = 'UTF-8'))\n",
    "                    references.append(json.loads(str(f1.read()),  encoding = 'UTF-8'))\n",
    "\n",
    "            except IOError as e:\n",
    "                print('References file %f not found.' % file)\n",
    "    \n",
    "    return tex_ref_mappings, references\n"
   ]
  },
  {
   "cell_type": "code",
   "execution_count": 3,
   "metadata": {},
   "outputs": [
    {
     "name": "stderr",
     "output_type": "stream",
     "text": [
      "/usr/local/lib/python3.5/dist-packages/ipykernel_launcher.py:32: TqdmDeprecationWarning: This function will be removed in tqdm==5.0.0\n",
      "Please use `tqdm.notebook.tqdm` instead of `tqdm.tqdm_notebook`\n"
     ]
    },
    {
     "data": {
      "application/vnd.jupyter.widget-view+json": {
       "model_id": "9164d449f3854ea4ab3172f7b40aa736",
       "version_major": 2,
       "version_minor": 0
      },
      "text/plain": [
       "HBox(children=(IntProgress(value=0, max=16393), HTML(value='')))"
      ]
     },
     "metadata": {},
     "output_type": "display_data"
    },
    {
     "name": "stdout",
     "output_type": "stream",
     "text": [
      "\n"
     ]
    }
   ],
   "source": [
    "tex_ref_mappings, references = read_files()"
   ]
  },
  {
   "cell_type": "code",
   "execution_count": 5,
   "metadata": {},
   "outputs": [
    {
     "data": {
      "text/plain": [
       "1.0"
      ]
     },
     "execution_count": 5,
     "metadata": {},
     "output_type": "execute_result"
    }
   ],
   "source": [
    "len(tex_ref_mappings)/len(references)"
   ]
  },
  {
   "cell_type": "code",
   "execution_count": 51,
   "metadata": {
    "scrolled": true
   },
   "outputs": [
    {
     "data": {
      "text/plain": [
       "{'b1': ['</descrip></suppobj>\\r\\n</suppinfo>\\r\\n<doi>10.1038/nature03697</doi></pubfm>\\r\\n<fm>\\r\\n<atl>Multiple volcanic episodes of flood basalts caused by thermochemical mantle plumes</atl>\\r\\n<aug><cau><fnm>Shu-Chuan</fnm><snm>Lin</snm><inits>SC</inits><orf rid=\"a1\" refchar=\"asterisk\"/><corf rid=\"c1\"/></cau><au><fnm>Peter E.</fnm><snm>van Keken</snm><inits>PE</inits><orf rid=\"a1\" refchar=\"asterisk\"/></au>\\r\\n<aff><oid id=\"a1\"/>Department of Geological Sciences, University of Michigan, <cty>Ann Arbor</cty>, Michigan 48109, <cny>USA</cny></aff>\\r\\n<caff><coid id=\"c1\"/>Correspondence and requests for materials should be addressed to S. C. L. (<email>skylin@umich.edu</email>).</caff>\\r\\n</aug>\\r\\n<hst><re year=\"2005\" month=\"1\" day=\"17\"/><acc year=\"2005\" month=\"4\" day=\"27\"/></hst>\\r\\n</fm>\\r\\n<bdy>\\r\\n<fp><p>The hypothesis that a single mushroom-like mantle plume head can generate a large igneous province within a few million years has been widely accepted<bibr rid=\"b1\"/>.'],\n",
       " 'b10': ['But recent geochronological data<bibr rid=\"b4 b5 b6 b7 b8 b9 b10 b11\"/> reveal more than one pulse of major eruptions with diverse magma flux within several flood basalts extending over tens of million years.',\n",
       "  'In contrast, the magnitudes of the later events are of the same order as that of the initial major phase of the volcanism for the Kerguelen plume<bibr rid=\"b7\"/> and Parana&ndash;Rio Grande rise (Tristan plume)<bibr rid=\"b10 b11\"/>.'],\n",
       " 'b11': ['But recent geochronological data<bibr rid=\"b4 b5 b6 b7 b8 b9 b10 b11\"/> reveal more than one pulse of major eruptions with diverse magma flux within several flood basalts extending over tens of million years.',\n",
       "  'In contrast, the magnitudes of the later events are of the same order as that of the initial major phase of the volcanism for the Kerguelen plume<bibr rid=\"b7\"/> and Parana&ndash;Rio Grande rise (Tristan plume)<bibr rid=\"b10 b11\"/>.'],\n",
       " 'b12': ['Plume head separation at the 660-km discontinuity<bibr rid=\"b12\"/> and a secondary instability in non-newtonian fluids<bibr rid=\"b13\"/> could both result in the second major event of the LIPs because another plume head is formed at the original plume conduit.'],\n",
       " 'b13': ['Plume head separation at the 660-km discontinuity<bibr rid=\"b12\"/> and a secondary instability in non-newtonian fluids<bibr rid=\"b13\"/> could both result in the second major event of the LIPs because another plume head is formed at the original plume conduit.'],\n",
       " 'b14': ['Other models, such as solitary waves travelling along the low-viscosity, thermal plume conduit<bibr rid=\"b14\"/> and the interaction of magma transport and lithospheric flexure<bibr rid=\"b15\"/> are proposed to result in the discrete hotspot islands.'],\n",
       " 'b15': ['Other models, such as solitary waves travelling along the low-viscosity, thermal plume conduit<bibr rid=\"b14\"/> and the interaction of magma transport and lithospheric flexure<bibr rid=\"b15\"/> are proposed to result in the discrete hotspot islands.'],\n",
       " 'b16': ['Seismic studies strongly suggest that many slabs penetrate into the lower mantle and accumulate at the base of the mantle<bibr rid=\"b16\"/>.'],\n",
       " 'b17': ['The presence of the eclogite in the plume source can explain why the flood basalt is iron- and silicate-rich relative to mid-oceanic ridge basalts<bibr rid=\"b17 b18\"/>.',\n",
       "  'The diverse signatures in isotopes of Nd, Pb and Sr of flood basalts can be explained by variable contributions of eclogite to the melt<bibr rid=\"b17\"/>.'],\n",
       " 'b18': ['The presence of the eclogite in the plume source can explain why the flood basalt is iron- and silicate-rich relative to mid-oceanic ridge basalts<bibr rid=\"b17 b18\"/>.'],\n",
       " 'b19': ['Studies of the eclogites<bibr rid=\"b19\"/> and simple mass balance also suggest that a significant volume of the eclogite must enter the lower mantle.'],\n",
       " 'b2': ['The Siberian Traps at the Permian&ndash;Triassic boundary<bibr rid=\"b2\"/> and the Deccan Traps at the Cretaceous&ndash;Tertiary boundary<bibr rid=\"b3\"/> were probably erupted within one million years.'],\n",
       " 'b20': ['\\r\\n<p>We performed the calculations using the Sepran finite-element package modified for thermochemical convection in a Boussinesq fluid at infinite Prandtl number<bibr rid=\"b20\"/>.'],\n",
       " 'b21': ['The distribution of the compositionally distinctive material is modelled by the marker chain method<bibr rid=\"b21\"/>.'],\n",
       " 'b3': ['The Siberian Traps at the Permian&ndash;Triassic boundary<bibr rid=\"b2\"/> and the Deccan Traps at the Cretaceous&ndash;Tertiary boundary<bibr rid=\"b3\"/> were probably erupted within one million years.'],\n",
       " 'b4': ['But recent geochronological data<bibr rid=\"b4 b5 b6 b7 b8 b9 b10 b11\"/> reveal more than one pulse of major eruptions with diverse magma flux within several flood basalts extending over tens of million years.'],\n",
       " 'b5': ['But recent geochronological data<bibr rid=\"b4 b5 b6 b7 b8 b9 b10 b11\"/> reveal more than one pulse of major eruptions with diverse magma flux within several flood basalts extending over tens of million years.'],\n",
       " 'b6': ['But recent geochronological data<bibr rid=\"b4 b5 b6 b7 b8 b9 b10 b11\"/> reveal more than one pulse of major eruptions with diverse magma flux within several flood basalts extending over tens of million years.',\n",
       "  'The volume of the first major eruption is significantly larger than those of the subsequent events in the Caribbean plateau<bibr rid=\"b6\"/> and the second major eruption is relatively small in Ontong Java<bibr rid=\"b8 b9\"/>.'],\n",
       " 'b7': ['But recent geochronological data<bibr rid=\"b4 b5 b6 b7 b8 b9 b10 b11\"/> reveal more than one pulse of major eruptions with diverse magma flux within several flood basalts extending over tens of million years.',\n",
       "  'Multiple plume sources or a single dismembered plume has been considered to account for the high flux and diverse geographic distribution of magmatism generated by the Kerguelen plume during 120&ndash;95&thinsp;Myr ago<bibr rid=\"b7\"/>.',\n",
       "  'In contrast, the magnitudes of the later events are of the same order as that of the initial major phase of the volcanism for the Kerguelen plume<bibr rid=\"b7\"/> and Parana&ndash;Rio Grande rise (Tristan plume)<bibr rid=\"b10 b11\"/>.'],\n",
       " 'b8': ['But recent geochronological data<bibr rid=\"b4 b5 b6 b7 b8 b9 b10 b11\"/> reveal more than one pulse of major eruptions with diverse magma flux within several flood basalts extending over tens of million years.',\n",
       "  'The volume of the first major eruption is significantly larger than those of the subsequent events in the Caribbean plateau<bibr rid=\"b6\"/> and the second major eruption is relatively small in Ontong Java<bibr rid=\"b8 b9\"/>.'],\n",
       " 'b9': ['But recent geochronological data<bibr rid=\"b4 b5 b6 b7 b8 b9 b10 b11\"/> reveal more than one pulse of major eruptions with diverse magma flux within several flood basalts extending over tens of million years.',\n",
       "  'The volume of the first major eruption is significantly larger than those of the subsequent events in the Caribbean plateau<bibr rid=\"b6\"/> and the second major eruption is relatively small in Ontong Java<bibr rid=\"b8 b9\"/>.']}"
      ]
     },
     "execution_count": 51,
     "metadata": {},
     "output_type": "execute_result"
    }
   ],
   "source": [
    "inverse_tex_ref"
   ]
  },
  {
   "cell_type": "code",
   "execution_count": 151,
   "metadata": {},
   "outputs": [
    {
     "data": {
      "text/plain": [
       "{'metadata': {'doi': '10.1038/nature03697',\n",
       "  'id': 'nature03697',\n",
       "  'jtl': 'Nature',\n",
       "  'language': 'eng',\n",
       "  'publish': 'issue',\n",
       "  'relation': 'no',\n",
       "  'title': 'Multiple volcanic episodes of flood basalts caused by thermochemical mantle plumes',\n",
       "  'vol': '436'},\n",
       " 'references': {'b1': {'fnm': \"['I. H.', 'R. W.']\",\n",
       "   'journal': 'Earth Planet. Sci. Lett.',\n",
       "   'snm': \"['Campbell', 'Griffiths']\",\n",
       "   'title': 'Implications of mantle plume structure for the evolution of flood basalts',\n",
       "   'year': '1990'},\n",
       "  'b10': {'fnm': \"['J. M.', 'R. A.']\",\n",
       "   'journal': 'J. Geophys. Res.',\n",
       "   'snm': '[\"O\\'Connor\", \\'Duncan\\']',\n",
       "   'title': 'Evolution of the Walvis Ridge-Rio Grande Rise hot spot system: Implications for African and South American Plate motions over plumes',\n",
       "   'year': '1990'},\n",
       "  'b11': {'fnm': \"['K.']\",\n",
       "   'journal': 'Earth Planet. Sci. Lett.',\n",
       "   'snm': \"['Stewart']\",\n",
       "   'title': '3-D, ',\n",
       "   'year': '1996'},\n",
       "  'b12': {'fnm': \"['D.', 'J.']\",\n",
       "   'journal': 'Science',\n",
       "   'snm': \"['Bercovici', 'Mahoney']\",\n",
       "   'title': 'Double flood basalts and plume head separation at 660-kilometer discontinuity',\n",
       "   'year': '1994'},\n",
       "  'b13': {'fnm': \"['P. E.']\",\n",
       "   'journal': 'Earth Planet. Sci. Lett.',\n",
       "   'snm': \"['van Keken']\",\n",
       "   'title': 'Evolution of starting mantle plumes: a comparison between numerical and laboratory models',\n",
       "   'year': '1997'},\n",
       "  'b14': {'fnm': \"['P.', 'G.', 'C.']\",\n",
       "   'journal': 'Nature',\n",
       "   'snm': \"['Olson', 'Schubert', 'Anderson']\",\n",
       "   'title': 'Plume formation in the D″-layer and the roughness of the core–mantle boundary',\n",
       "   'year': '1987'},\n",
       "  'b15': {'fnm': \"['C. F.', 'D.']\",\n",
       "   'journal': 'Nature',\n",
       "   'snm': \"['Hieronymus', 'Bercovici']\",\n",
       "   'title': 'Discrete alternating hotspot islands formed by interaction of magma transport and lithospheric flexure',\n",
       "   'year': '1999'},\n",
       "  'b16': {'fnm': \"['R. D.', 'S.', 'E. R.']\",\n",
       "   'journal': 'Nature',\n",
       "   'snm': \"['van der Hilst', 'Widiyantoro', 'Engdahl']\",\n",
       "   'title': 'Evidence for deep mantle circulation from global tomography',\n",
       "   'year': '1997'},\n",
       "  'b18': {'fnm': \"['A. M.', 'G. F.']\",\n",
       "   'journal': 'J. Geophys. Res.',\n",
       "   'snm': \"['Leitch', 'Davies']\",\n",
       "   'title': 'Mantle plumes and flood basalts: Enhanced melting from plume ascent and an eclogite component',\n",
       "   'year': '2001'},\n",
       "  'b19': {'fnm': \"['R. L.', 'M.', 'I.', 'W. F.']\",\n",
       "   'journal': 'Science',\n",
       "   'snm': \"['Rudnick', 'Barth', 'Horn', 'McDonough']\",\n",
       "   'title': 'Rutile-bearing refractory eclogites: missing link between continents and depleted mantle',\n",
       "   'year': '2000'},\n",
       "  'b2': {'fnm': \"['P. R.', 'Z.', 'M. A.', 'M. T.', 'A. R.']\",\n",
       "   'journal': 'Science',\n",
       "   'snm': \"['Renne', 'Zichao', 'Richards', 'Black', 'Basu']\",\n",
       "   'title': 'Synchrony and causal relations between Permian-Triassic boundary crises and Siberian flood volcanism',\n",
       "   'year': '1995'},\n",
       "  'b20': {'fnm': \"['P. E.', 'C. J.']\",\n",
       "   'journal': 'Earth Planet. Sci. Lett.',\n",
       "   'snm': \"['van Keken', 'Ballentine']\",\n",
       "   'title': 'Whole-mantle versus layered mantle convection and the role of a high-viscosity lower mantle in terrestrial volatile evolution',\n",
       "   'year': '1998'},\n",
       "  'b21': {'fnm': \"['P. E.']\",\n",
       "   'journal': 'J. Geophys. Res.',\n",
       "   'snm': \"['van Keken']\",\n",
       "   'title': 'A comparison of methods for the modeling of thermochemical convection',\n",
       "   'year': '1997'},\n",
       "  'b22': {'fnm': \"['T.', 'A. E.']\",\n",
       "   'journal': 'Earth Planet. Sci. Lett.',\n",
       "   'snm': \"['Irifune', 'Ringwood']\",\n",
       "   'title': 'Phase transformations in subducted oceanic crust and buoyancy relationships at depths of 600–800\\u2009km in the mantle',\n",
       "   'year': '1993'},\n",
       "  'b23': {'fnm': \"['P. E.', 'S.', 'D. A.']\",\n",
       "   'journal': 'Geophys. Res. Lett.',\n",
       "   'snm': \"['van Keken', 'Karato', 'Yuen']\",\n",
       "   'title': 'Rheological control of oceanic crust separation in the transition zone',\n",
       "   'year': '1996'},\n",
       "  'b24': {'fnm': \"['S.', 'E.', 'T.']\",\n",
       "   'journal': 'Earth Planet. Sci. Lett.',\n",
       "   'snm': \"['Ono', 'Ito', 'Katsura']\",\n",
       "   'title': 'Mineralogy of subducted basaltic crust (MORB) from 25 to 37\\u2009GPa, and chemical heterogeneity of the lower mantle',\n",
       "   'year': '2001'},\n",
       "  'b25': {'fnm': \"['C. G.']\",\n",
       "   'journal': 'Geophys. Res. Lett.',\n",
       "   'snm': \"['Farnetani']\",\n",
       "   'title': 'Excess temperature of mantle plumes: The role of chemical stratification across D',\n",
       "   'year': '1997'},\n",
       "  'b3': {'fnm': \"['V.']\",\n",
       "   'journal': 'Nature',\n",
       "   'snm': \"['Courtillot']\",\n",
       "   'title': 'Deccan flood basalts on Cretaceous/Tertiary boundary',\n",
       "   'year': '1988'},\n",
       "  'b5': {'fnm': \"['J. M.', 'P.', 'J. R.', 'P. M.', 'T.']\",\n",
       "   'journal': 'Nature',\n",
       "   'snm': '[\"O\\'Connor\", \\'Stoffers\\', \\'Wijbrans\\', \\'Shannon\\', \\'Morrissey\\']',\n",
       "   'title': 'Evidence from episodic seamount volcanism for pulsing of the Iceland plume in the past 70\\u2009Myr',\n",
       "   'year': '2000'},\n",
       "  'b6': {'fnm': \"['S.', 'N. T.', 'C.', 'E.']\",\n",
       "   'journal': 'J. Petrol.',\n",
       "   'snm': \"['Revillon', 'Arndt', 'Chauvel', 'Hallot']\",\n",
       "   'title': 'Geochemical study of ultramafic volcanic and plutonic rocks from Gorgona Island, Colombia: the Plumbing system of an oceanic plateau',\n",
       "   'year': '2000'},\n",
       "  'b7': {'fnm': \"['M. F.']\",\n",
       "   'journal': 'J. Petrol.',\n",
       "   'snm': \"['Coffin']\",\n",
       "   'title': 'Kerguelen hotspot magma output since 130\\u2009Ma',\n",
       "   'year': '2002'}}}"
      ]
     },
     "execution_count": 151,
     "metadata": {},
     "output_type": "execute_result"
    }
   ],
   "source": [
    "references[1]"
   ]
  },
  {
   "cell_type": "code",
   "execution_count": 12,
   "metadata": {},
   "outputs": [],
   "source": [
    "def get_lsh(references, perms, threshold):\n",
    "\n",
    "    start_time = time.time()\n",
    "    minhash = []\n",
    "    titles = []\n",
    "    \n",
    "    for paper in tqdm(references[:100]):\n",
    "        for text in paper['references'].values():\n",
    "            \n",
    "            snm    = ' '.join(text['snm'].replace('\\'', '').replace('[', '').replace(']','').split(','))\n",
    "            fnm    = ' '.join(text['fnm'].replace('\\'', '').replace('[', '').replace(']','').split(','))\n",
    "            year   = ' '.join(text['year'].replace('\\'', '').replace('[', '').replace(']','').split(','))\n",
    "            tokens = nltk.word_tokenize(text['title'] + ' ' + snm + ' ' + fnm + ' ' + year)\n",
    "            m      = MinHash(num_perm=perms)\n",
    "            \n",
    "            for s in tokens:\n",
    "                m.update(s.encode('utf8'))\n",
    "            \n",
    "            minhash.append(m)\n",
    "            titles.append(text['title'] + ' ' + snm + ' ' + fnm + ' ' + year)\n",
    "        \n",
    "    lsh = MinHashLSH(threshold = threshold, num_perm=perms)\n",
    "    \n",
    "    with lsh.insertion_session() as session:\n",
    "        for i,m in enumerate(minhash):\n",
    "            session.insert(i,m)\n",
    "\n",
    "    print('It took %s seconds to build map.' %(time.time()-start_time))\n",
    "    \n",
    "    return lsh, minhash, titles"
   ]
  },
  {
   "cell_type": "code",
   "execution_count": 218,
   "metadata": {
    "scrolled": true
   },
   "outputs": [],
   "source": [
    "def test_lsh(queries):\n",
    "    \n",
    "    recall = []\n",
    "    specificity = []\n",
    "    edgelist = []\n",
    "\n",
    "    for i, query in enumerate(tqdm(queries)):\n",
    "        \n",
    "        m = MinHash(num_perm=128)\n",
    "        \n",
    "        for s in nltk.word_tokenize(query):\n",
    "            #print(s)\n",
    "            m.update(s.encode('utf8'))\n",
    "            \n",
    "        results = lsh.query(m)\n",
    "        \n",
    "        if len(results) > 1:\n",
    "            edgelist.extend(list(zip([query for i in range(len(results))], [queries[i] for i in results])))\n",
    "            #print([queries[i] for i in results])\n",
    "            \n",
    "        if i in results:\n",
    "            recall.append(1)\n",
    "            specificity.append(1/len(results))\n",
    "        else:\n",
    "            recall.append(0)\n",
    "            specificity.append(0)\n",
    "    \n",
    "    return recall, specificity, edgelist"
   ]
  },
  {
   "cell_type": "code",
   "execution_count": 219,
   "metadata": {
    "scrolled": false
   },
   "outputs": [
    {
     "name": "stderr",
     "output_type": "stream",
     "text": [
      "/usr/local/lib/python3.5/dist-packages/ipykernel_launcher.py:7: TqdmDeprecationWarning: This function will be removed in tqdm==5.0.0\n",
      "Please use `tqdm.notebook.tqdm` instead of `tqdm.tqdm_notebook`\n",
      "  import sys\n"
     ]
    },
    {
     "data": {
      "application/vnd.jupyter.widget-view+json": {
       "model_id": "51b8cad1c831467e8b1a95203be8dfd2",
       "version_major": 2,
       "version_minor": 0
      },
      "text/plain": [
       "HBox(children=(IntProgress(value=0), HTML(value='')))"
      ]
     },
     "metadata": {},
     "output_type": "display_data"
    },
    {
     "name": "stdout",
     "output_type": "stream",
     "text": [
      "\n",
      "It took 9.678863763809204 seconds to build map.\n"
     ]
    }
   ],
   "source": [
    "lsh, minhash, titles = get_lsh(references, 128, 0.8)"
   ]
  },
  {
   "cell_type": "code",
   "execution_count": 220,
   "metadata": {},
   "outputs": [
    {
     "name": "stderr",
     "output_type": "stream",
     "text": [
      "/usr/local/lib/python3.5/dist-packages/ipykernel_launcher.py:7: TqdmDeprecationWarning: This function will be removed in tqdm==5.0.0\n",
      "Please use `tqdm.notebook.tqdm` instead of `tqdm.tqdm_notebook`\n",
      "  import sys\n"
     ]
    },
    {
     "data": {
      "application/vnd.jupyter.widget-view+json": {
       "model_id": "0a9c5be669f6459d9a8542459bab3cc9",
       "version_major": 2,
       "version_minor": 0
      },
      "text/plain": [
       "HBox(children=(IntProgress(value=0, max=2807), HTML(value='')))"
      ]
     },
     "metadata": {},
     "output_type": "display_data"
    },
    {
     "name": "stdout",
     "output_type": "stream",
     "text": [
      "\n"
     ]
    }
   ],
   "source": [
    "recall, specificity, edgelist = test_lsh(titles)"
   ]
  },
  {
   "cell_type": "code",
   "execution_count": 198,
   "metadata": {},
   "outputs": [
    {
     "data": {
      "text/plain": [
       "[('A draft sequence of the Neandertal genome Green R. E. 2010',\n",
       "  'A draft sequence of the Neandertal genome Green R. E. 2010'),\n",
       " ('A draft sequence of the Neandertal genome Green R. E. 2010',\n",
       "  'A draft sequence of the Neandertal genome Green R. E. 2010'),\n",
       " ('Novel recombinant adeno-associated viruses for Cre activated and inactivated transgene expression in neurons Saunders  Johnson  Sabatini A.  C. A.  B. L. 2012',\n",
       "  'Novel recombinant adeno-associated viruses for Cre activated and inactivated transgene expression in neurons Saunders  Johnson  Sabatini A.  C. A.  B. L. 2012'),\n",
       " ('Novel recombinant adeno-associated viruses for Cre activated and inactivated transgene expression in neurons Saunders  Johnson  Sabatini A.  C. A.  B. L. 2012',\n",
       "  'Novel recombinant adeno-associated viruses for Cre activated and inactivated transgene expression in neurons Saunders  Johnson  Sabatini A.  C. A.  B. L. 2012'),\n",
       " ('Control of basal ganglia output by direct and indirect pathway projection neurons Freeze  Kravitz  Hammack  Berke  Kreitzer B. S.  A. V.  N.  J. D.  A. C. 2013',\n",
       "  'Control of basal ganglia output by direct and indirect pathway projection neurons Freeze  Kravitz  Hammack  Berke  Kreitzer B. S.  A. V.  N.  J. D.  A. C. 2013'),\n",
       " ('Control of basal ganglia output by direct and indirect pathway projection neurons Freeze  Kravitz  Hammack  Berke  Kreitzer B. S.  A. V.  N.  J. D.  A. C. 2013',\n",
       "  'Control of basal ganglia output by direct and indirect pathway projection neurons Freeze  Kravitz  Hammack  Berke  Kreitzer B. S.  A. V.  N.  J. D.  A. C. 2013'),\n",
       " ('Control of basal ganglia output by direct and indirect pathway projection neurons Freeze  Kravitz  Hammack  Berke  Kreitzer B. S.  A. V.  N.  J. D.  A. C. 2013',\n",
       "  'Control of basal ganglia output by direct and indirect pathway projection neurons Freeze  Kravitz  Hammack  Berke  Kreitzer B. S.  A. V.  N.  J. D.  A. C. 2013'),\n",
       " ('Control of basal ganglia output by direct and indirect pathway projection neurons Freeze  Kravitz  Hammack  Berke  Kreitzer B. S.  A. V.  N.  J. D.  A. C. 2013',\n",
       "  'Control of basal ganglia output by direct and indirect pathway projection neurons Freeze  Kravitz  Hammack  Berke  Kreitzer B. S.  A. V.  N.  J. D.  A. C. 2013'),\n",
       " ('Novel recombinant adeno-associated viruses for Cre activated and inactivated transgene expression in neurons Saunders  Johnson  Sabatini A.  C. A.  B. L. 2012',\n",
       "  'Novel recombinant adeno-associated viruses for Cre activated and inactivated transgene expression in neurons Saunders  Johnson  Sabatini A.  C. A.  B. L. 2012'),\n",
       " ('Novel recombinant adeno-associated viruses for Cre activated and inactivated transgene expression in neurons Saunders  Johnson  Sabatini A.  C. A.  B. L. 2012',\n",
       "  'Novel recombinant adeno-associated viruses for Cre activated and inactivated transgene expression in neurons Saunders  Johnson  Sabatini A.  C. A.  B. L. 2012'),\n",
       " ('A biomarker that identifies senescent human cells in culture and in aging skin  Dimri G. P. 1995',\n",
       "  'A biomarker that identifies senescent human cells in culture and in aging skin  Dimri G. P. 1995'),\n",
       " ('A biomarker that identifies senescent human cells in culture and in aging skin  Dimri G. P. 1995',\n",
       "  'A biomarker that identifies senescent human cells in culture\\r\\n                        and in aging skin  Dimri G. P. 1995'),\n",
       " ('Improved methods for building protein models in electron density maps and the location of errors in these models Jones  Zhou  Cowan  Kjeldgaard T. A.  J. Y.  S. W.  M. 1991',\n",
       "  'Improved methods for building protein models in eletron density maps and the location of errors in these models Jones  Zou  Cowan  Kjeldgaard T. A.  J. Y.  S. W.  M. 1991'),\n",
       " ('Improved methods for building protein models in electron density maps and the location of errors in these models Jones  Zhou  Cowan  Kjeldgaard T. A.  J. Y.  S. W.  M. 1991',\n",
       "  'Improved methods for building protein models in electron density maps and the location of errors in these models Jones  Zhou  Cowan  Kjeldgaard T. A.  J. Y.  S. W.  M. 1991'),\n",
       " ('PROCHECK: a program to check the stereochemistry of protein structures Laskowski  MacArthur  Moss  Thornton R. A.  M. W.  D. S.  J. M. 1993',\n",
       "  'PROCHECK: a program to check the stereochemical quality of protein structures Laskowski  MacArthur  Moss  Thornton R. A.  M. W.  D. S.  J. M. 1993'),\n",
       " ('PROCHECK: a program to check the stereochemistry of protein structures Laskowski  MacArthur  Moss  Thornton R. A.  M. W.  D. S.  J. M. 1993',\n",
       "  'PROCHECK: a program to check the stereochemistry of protein structures Laskowski  MacArthur  Moss  Thornton R. A.  M. W.  D. S.  J. M. 1993'),\n",
       " ('Ecological and evolutionary responses to recent climate change Parmesan C. 2006',\n",
       "  'Ecological and evolutionary responses to recent climate change Parmesan C. 2006'),\n",
       " ('Ecological and evolutionary responses to recent climate change Parmesan C. 2006',\n",
       "  'Ecological and evolutionary responses to recent climate change Parmesan C. 2006'),\n",
       " ('Comparative genome sequencing of  Richards S. 2005',\n",
       "  'Comparative genome sequencing of  Richards S. 2005'),\n",
       " ('Comparative genome sequencing of  Richards S. 2005',\n",
       "  'Comparative genome sequencing of  Richards S. 2005'),\n",
       " ('Bioconductor: open software development for computational biology and bioinformatics Gentleman R. C. 2004',\n",
       "  'Bioconductor: open software development for computational biology and bioinformatics Gentleman R. C. 2004'),\n",
       " ('Bioconductor: open software development for computational biology and bioinformatics Gentleman R. C. 2004',\n",
       "  'Bioconductor: open software development for computational biology and bioinformatics Gentleman R. C. 2004'),\n",
       " ('Bioconductor: open software development for computational biology and bioinformatics Gentleman R. C. 2004',\n",
       "  'Bioconductor: open software development for computational biology and bioinformatics Gentleman R. C. 2004'),\n",
       " ('Gctf: Real-time CTF determination and correction Zhang K. 2016',\n",
       "  'Gctf: Real-time CTF determination and correction Zhang K. 2016'),\n",
       " ('Gctf: Real-time CTF determination and correction Zhang K. 2016',\n",
       "  'Gctf: Real-time CTF determination and correction Zhang K. 2016'),\n",
       " ('MotionCor2: anisotropic correction of beam-induced motion for improved cryo-electron microscopy Zheng S. Q 2017',\n",
       "  'MotionCor2: anisotropic correction of beam-induced motion for improved cryo-electron microscopy Zheng S. Q. 2017'),\n",
       " ('MotionCor2: anisotropic correction of beam-induced motion for improved cryo-electron microscopy Zheng S. Q 2017',\n",
       "  'MotionCor2: anisotropic correction of beam-induced motion for improved cryo-electron microscopy Zheng S. Q 2017'),\n",
       " ('A biomarker that identifies senescent human cells in culture\\r\\n                        and in aging skin  Dimri G. P. 1995',\n",
       "  'A biomarker that identifies senescent human cells in culture and in aging skin  Dimri G. P. 1995'),\n",
       " ('A biomarker that identifies senescent human cells in culture\\r\\n                        and in aging skin  Dimri G. P. 1995',\n",
       "  'A biomarker that identifies senescent human cells in culture\\r\\n                        and in aging skin  Dimri G. P. 1995'),\n",
       " ('Gene set enrichment analysis: a knowledge-based approach for\\r\\n                        interpreting genome-wide expression profiles Subramanian A. 2005',\n",
       "  'Gene set enrichment analysis: a knowledge-based approach for interpreting genome-wide expression profiles Subramanian A. 2005'),\n",
       " ('Gene set enrichment analysis: a knowledge-based approach for\\r\\n                        interpreting genome-wide expression profiles Subramanian A. 2005',\n",
       "  'Gene set enrichment analysis: a knowledge-based approach for\\r\\n                        interpreting genome-wide expression profiles Subramanian A. 2005'),\n",
       " ('Gene set enrichment analysis: a knowledge-based approach for\\r\\n                        interpreting genome-wide expression profiles Subramanian A. 2005',\n",
       "  'Gene set enrichment analysis: a knowledge-based approach for interpreting genome-wide expression profiles Subramanian A. 2005'),\n",
       " ('Comparative genome sequencing of  Richards S. 2005',\n",
       "  'Comparative genome sequencing of  Richards S. 2005'),\n",
       " ('Comparative genome sequencing of  Richards S. 2005',\n",
       "  'Comparative genome sequencing of  Richards S. 2005'),\n",
       " ('The formation and bulk composition of modern juvenile continental crust: the Kohistan arc Jagoutz  Schmidt O.  M. W. 2012',\n",
       "  'The formation and bulk composition of modern juvenile continental crust: the Kohistan arc Jagoutz  Schmidt O.  M. W. 2012'),\n",
       " ('The formation and bulk composition of modern juvenile continental crust: the Kohistan arc Jagoutz  Schmidt O.  M. W. 2012',\n",
       "  'The formation and bulk composition of modern juvenile continental crust: the Kohistan arc Jagoutz  Schmidt O.  M. W. 2012'),\n",
       " ('The formation and bulk composition of modern juvenile continental crust: the Kohistan arc Jagoutz  Schmidt O.  M. W. 2012',\n",
       "  'The formation and bulk composition of modern juvenile continental crust: the Kohistan arc Jagoutz  Schmidt O.  M. W. 2012'),\n",
       " ('The formation and bulk composition of modern juvenile continental crust: the Kohistan arc Jagoutz  Schmidt O.  M. W. 2012',\n",
       "  'The formation and bulk composition of modern juvenile continental crust: the Kohistan arc Jagoutz  Schmidt O.  M. W. 2012'),\n",
       " ('Differential gene and transcript expression analysis of RNA-seq experiments with TopHat and Cufflinks Trapnell C. 2012',\n",
       "  'Differential gene and transcript expression analysis of RNA-seq experiments with TopHat and Cufflinks Trapnell C. 2012'),\n",
       " ('Differential gene and transcript expression analysis of RNA-seq experiments with TopHat and Cufflinks Trapnell C. 2012',\n",
       "  'Differential gene and transcript expression analysis of RNA-seq experiments with TopHat and Cufflinks Trapnell C. 2012'),\n",
       " ('A draft sequence of the Neandertal genome Green R. E. 2010',\n",
       "  'A draft sequence of the Neandertal genome Green R. E. 2010'),\n",
       " ('A draft sequence of the Neandertal genome Green R. E. 2010',\n",
       "  'A draft sequence of the Neandertal genome Green R. E. 2010'),\n",
       " ('Fast gapped-read alignment with Bowtie 2 Langmead  Salzberg B.  S. L. 2012',\n",
       "  'Fast gapped-read alignment with Bowtie 2 Langmead  Salzberg B.  S. L. 2012'),\n",
       " ('Fast gapped-read alignment with Bowtie 2 Langmead  Salzberg B.  S. L. 2012',\n",
       "  'Fast gapped-read alignment with Bowtie 2 Langmead  Salzberg B.  S. L. 2012'),\n",
       " ('Differential gene and transcript expression analysis of RNA-seq experiments with TopHat and Cufflinks Trapnell C. 2012',\n",
       "  'Differential gene and transcript expression analysis of RNA-seq experiments with TopHat and Cufflinks Trapnell C. 2012'),\n",
       " ('Differential gene and transcript expression analysis of RNA-seq experiments with TopHat and Cufflinks Trapnell C. 2012',\n",
       "  'Differential gene and transcript expression analysis of RNA-seq experiments with TopHat and Cufflinks Trapnell C. 2012'),\n",
       " ('Coot: model-building tools for molecular graphics Emsley  Cowtan P.  K. 2004',\n",
       "  'Coot: model-building tools for molecular graphics Emsley  Cowtan P.  K. 2004'),\n",
       " ('Coot: model-building tools for molecular graphics Emsley  Cowtan P.  K. 2004',\n",
       "  'Coot: model-building tools for molecular graphics Emsley  Cowtan P.  K. 2004'),\n",
       " ('Coot: model-building tools for molecular graphics Emsley  Cowtan P.  K. 2004',\n",
       "  'Coot: model-building tools for molecular graphics Emsley  Cowtan P.  K. 2004'),\n",
       " ('Coot: model-building tools for molecular graphics Emsley  Cowtan P.  K. 2004',\n",
       "  'Coot: model-building tools for molecular graphics Emsley  Cowtan P.  K. 2004'),\n",
       " ('PHENIX: a comprehensive Python-based system for macromolecular structure solution Adams P. D. 2010',\n",
       "  'PHENIX: a comprehensive Python-based system for macromolecular structure solution Adams P. D. 2010'),\n",
       " ('PHENIX: a comprehensive Python-based system for macromolecular structure solution Adams P. D. 2010',\n",
       "  'PHENIX: a comprehensive Python-based system for macromolecular structure solution Adams P. D. 2010'),\n",
       " ('PHENIX: a comprehensive Python-based system for macromolecular structure solution Adams P. D. 2010',\n",
       "  'PHENIX: a comprehensive Python-based system for macromolecular structure solution Adams P. D. 2010'),\n",
       " ('PHENIX: a comprehensive Python-based system for macromolecular structure solution Adams P. D. 2010',\n",
       "  'PHENIX: a comprehensive Python-based system for macromolecular structure solution Adams P. D. 2010'),\n",
       " ('MotionCor2: anisotropic correction of beam-induced motion for improved cryo-electron microscopy Zheng S. Q. 2017',\n",
       "  'MotionCor2: anisotropic correction of beam-induced motion for improved cryo-electron microscopy Zheng S. Q. 2017'),\n",
       " ('MotionCor2: anisotropic correction of beam-induced motion for improved cryo-electron microscopy Zheng S. Q. 2017',\n",
       "  'MotionCor2: anisotropic correction of beam-induced motion for improved cryo-electron microscopy Zheng S. Q 2017'),\n",
       " ('Gctf: Real-time CTF determination and correction Zhang K. 2016',\n",
       "  'Gctf: Real-time CTF determination and correction Zhang K. 2016'),\n",
       " ('Gctf: Real-time CTF determination and correction Zhang K. 2016',\n",
       "  'Gctf: Real-time CTF determination and correction Zhang K. 2016'),\n",
       " ('Ecological and evolutionary responses to recent climate change Parmesan C. 2006',\n",
       "  'Ecological and evolutionary responses to recent climate change Parmesan C. 2006'),\n",
       " ('Ecological and evolutionary responses to recent climate change Parmesan C. 2006',\n",
       "  'Ecological and evolutionary responses to recent climate change Parmesan C. 2006'),\n",
       " ('Coot: model-building tools for molecular graphics Emsley  Cowtan P.  K. 2004',\n",
       "  'Coot: model-building tools for molecular graphics Emsley  Cowtan P.  K. 2004'),\n",
       " ('Coot: model-building tools for molecular graphics Emsley  Cowtan P.  K. 2004',\n",
       "  'Coot: model-building tools for molecular graphics Emsley  Cowtan P.  K. 2004'),\n",
       " ('Coot: model-building tools for molecular graphics Emsley  Cowtan P.  K. 2004',\n",
       "  'Coot: model-building tools for molecular graphics Emsley  Cowtan P.  K. 2004'),\n",
       " ('Coot: model-building tools for molecular graphics Emsley  Cowtan P.  K. 2004',\n",
       "  'Coot: model-building tools for molecular graphics Emsley  Cowtan P.  K. 2004'),\n",
       " ('Version 1.2 of the Crystallography and NMR system Brunger A. T. 2007',\n",
       "  'Version 1.2 of the Crystallography and NMR system Brunger A. T. 2007'),\n",
       " ('Version 1.2 of the Crystallography and NMR system Brunger A. T. 2007',\n",
       "  'Version 1.2 of the Crystallography and NMR system Brunger A. T. 2007'),\n",
       " ('Meta-analysis of genome-wide association data and large-scale replication identifies additional susceptibility loci for type 2 diabetes Zeggini E. 2008',\n",
       "  'Meta-analysis of genome-wide association data and large-scale replication identifies additional susceptibility loci for type 2 diabetes Zeggini E. 2008'),\n",
       " ('Meta-analysis of genome-wide association data and large-scale replication identifies additional susceptibility loci for type 2 diabetes Zeggini E. 2008',\n",
       "  'Meta-analysis of genome-wide association data and large-scale replication identifies additional susceptibility loci for type 2 diabetes Zeggini E. 2008'),\n",
       " ('Meta-analysis of genome-wide association data and large-scale replication identifies additional susceptibility loci for type 2 diabetes Zeggini E. 2008',\n",
       "  'Meta-analysis of genome-wide association data and large-scale replication identifies additional susceptibility loci for type 2 diabetes Zeggini E. 2008'),\n",
       " ('Meta-analysis of genome-wide association data and large-scale replication identifies additional susceptibility loci for type 2 diabetes Zeggini E. 2008',\n",
       "  'Meta-analysis of genome-wide association data and large-scale replication identifies additional susceptibility loci for type 2 diabetes Zeggini E. 2008'),\n",
       " ('Bioconductor: open software development for computational biology and bioinformatics Gentleman R. C. 2004',\n",
       "  'Bioconductor: open software development for computational biology and bioinformatics Gentleman R. C. 2004'),\n",
       " ('Bioconductor: open software development for computational biology and bioinformatics Gentleman R. C. 2004',\n",
       "  'Bioconductor: open software development for computational biology and bioinformatics Gentleman R. C. 2004'),\n",
       " ('Bioconductor: open software development for computational biology and bioinformatics Gentleman R. C. 2004',\n",
       "  'Bioconductor: open software development for computational biology and bioinformatics Gentleman R. C. 2004'),\n",
       " ('BEDTools: a flexible suite of utilities for comparing genomic features Quinlan  Hall A. R.  I. M. 2010',\n",
       "  'BEDTools: a flexible suite of utilities for comparing genomic features Quinlan  Hall A. R.  I. M. 2010'),\n",
       " ('BEDTools: a flexible suite of utilities for comparing genomic features Quinlan  Hall A. R.  I. M. 2010',\n",
       "  'BEDTools: a flexible suite of utilities for comparing genomic features Quinlan  Hall A. R.  I. M. 2010'),\n",
       " ('Controlling the false discovery rate: a practical and powerful approach to multiple testing Benjamini  Hochberg Y.  Y. 1995',\n",
       "  'Controlling the false discovery rate: a practical and powerful approach to multiple testing Benjamini  Hochberg Y.  Y. 1995'),\n",
       " ('Controlling the false discovery rate: a practical and powerful approach to multiple testing Benjamini  Hochberg Y.  Y. 1995',\n",
       "  'Controlling the false discovery rate: a practical and powerful approach to multiple testing Benjamini  Hochberg Y.  Y. 1995'),\n",
       " ('Fast gapped-read alignment with Bowtie 2 Langmead  Salzberg B.  S. L. 2012',\n",
       "  'Fast gapped-read alignment with Bowtie 2 Langmead  Salzberg B.  S. L. 2012'),\n",
       " ('Fast gapped-read alignment with Bowtie 2 Langmead  Salzberg B.  S. L. 2012',\n",
       "  'Fast gapped-read alignment with Bowtie 2 Langmead  Salzberg B.  S. L. 2012'),\n",
       " ('Version 1.2 of the Crystallography and NMR system Brunger A. T. 2007',\n",
       "  'Version 1.2 of the Crystallography and NMR system Brunger A. T. 2007'),\n",
       " ('Version 1.2 of the Crystallography and NMR system Brunger A. T. 2007',\n",
       "  'Version 1.2 of the Crystallography and NMR system Brunger A. T. 2007'),\n",
       " ('PROCHECK: a program to check the stereochemical quality of protein structures Laskowski  MacArthur  Moss  Thornton R. A.  M. W.  D. S.  J. M. 1993',\n",
       "  'PROCHECK: a program to check the stereochemical quality of protein structures Laskowski  MacArthur  Moss  Thornton R. A.  M. W.  D. S.  J. M. 1993'),\n",
       " ('PROCHECK: a program to check the stereochemical quality of protein structures Laskowski  MacArthur  Moss  Thornton R. A.  M. W.  D. S.  J. M. 1993',\n",
       "  'PROCHECK: a program to check the stereochemistry of protein structures Laskowski  MacArthur  Moss  Thornton R. A.  M. W.  D. S.  J. M. 1993'),\n",
       " ('Coot: model-building tools for molecular graphics Emsley  Cowtan P.  K. 2004',\n",
       "  'Coot: model-building tools for molecular graphics Emsley  Cowtan P.  K. 2004'),\n",
       " ('Coot: model-building tools for molecular graphics Emsley  Cowtan P.  K. 2004',\n",
       "  'Coot: model-building tools for molecular graphics Emsley  Cowtan P.  K. 2004'),\n",
       " ('Coot: model-building tools for molecular graphics Emsley  Cowtan P.  K. 2004',\n",
       "  'Coot: model-building tools for molecular graphics Emsley  Cowtan P.  K. 2004'),\n",
       " ('Coot: model-building tools for molecular graphics Emsley  Cowtan P.  K. 2004',\n",
       "  'Coot: model-building tools for molecular graphics Emsley  Cowtan P.  K. 2004'),\n",
       " ('Improved methods for building protein models in eletron density maps and the location of errors in these models Jones  Zou  Cowan  Kjeldgaard T. A.  J. Y.  S. W.  M. 1991',\n",
       "  'Improved methods for building protein models in eletron density maps and the location of errors in these models Jones  Zou  Cowan  Kjeldgaard T. A.  J. Y.  S. W.  M. 1991'),\n",
       " ('Improved methods for building protein models in eletron density maps and the location of errors in these models Jones  Zou  Cowan  Kjeldgaard T. A.  J. Y.  S. W.  M. 1991',\n",
       "  'Improved methods for building protein models in electron density maps and the location of errors in these models Jones  Zhou  Cowan  Kjeldgaard T. A.  J. Y.  S. W.  M. 1991'),\n",
       " ('Many paths to methyltransfer: a chronicle of convergence Schubert  Blumenthal  Cheng H. L.  R. M.  X. 2003',\n",
       "  'Many paths to methyltransfer: a chronicle of convergence Schubert  Blumenthal  Cheng H. L.  R. M.  X. 2003'),\n",
       " ('Many paths to methyltransfer: a chronicle of convergence Schubert  Blumenthal  Cheng H. L.  R. M.  X. 2003',\n",
       "  'Many paths to methyltransfer: a chronicle of convergence Schubert  Blumenthal  Cheng H. L.  R. M.  X. 2003'),\n",
       " ('Gene set enrichment analysis: a knowledge-based approach for interpreting genome-wide expression profiles Subramanian A. 2005',\n",
       "  'Gene set enrichment analysis: a knowledge-based approach for interpreting genome-wide expression profiles Subramanian A. 2005'),\n",
       " ('Gene set enrichment analysis: a knowledge-based approach for interpreting genome-wide expression profiles Subramanian A. 2005',\n",
       "  'Gene set enrichment analysis: a knowledge-based approach for\\r\\n                        interpreting genome-wide expression profiles Subramanian A. 2005'),\n",
       " ('Gene set enrichment analysis: a knowledge-based approach for interpreting genome-wide expression profiles Subramanian A. 2005',\n",
       "  'Gene set enrichment analysis: a knowledge-based approach for interpreting genome-wide expression profiles Subramanian A. 2005'),\n",
       " ('Many paths to methyltransfer: a chronicle of convergence Schubert  Blumenthal  Cheng H. L.  R. M.  X. 2003',\n",
       "  'Many paths to methyltransfer: a chronicle of convergence Schubert  Blumenthal  Cheng H. L.  R. M.  X. 2003'),\n",
       " ('Many paths to methyltransfer: a chronicle of convergence Schubert  Blumenthal  Cheng H. L.  R. M.  X. 2003',\n",
       "  'Many paths to methyltransfer: a chronicle of convergence Schubert  Blumenthal  Cheng H. L.  R. M.  X. 2003'),\n",
       " ('Controlling the false discovery rate: a practical and powerful approach to multiple testing Benjamini  Hochberg Y.  Y. 1995',\n",
       "  'Controlling the false discovery rate: a practical and powerful approach to multiple testing Benjamini  Hochberg Y.  Y. 1995'),\n",
       " ('Controlling the false discovery rate: a practical and powerful approach to multiple testing Benjamini  Hochberg Y.  Y. 1995',\n",
       "  'Controlling the false discovery rate: a practical and powerful approach to multiple testing Benjamini  Hochberg Y.  Y. 1995'),\n",
       " ('Systematic and integrative analysis of large gene lists using DAVID bioinformatics resources da Huang  Sherman  Lempicki W.  B. T.  R. A. 2009',\n",
       "  'Systematic and integrative analysis of large gene lists using DAVID bioinformatics resources da Huang  Sherman  Lempicki W.  B. T.  R. A. 2009'),\n",
       " ('Systematic and integrative analysis of large gene lists using DAVID bioinformatics resources da Huang  Sherman  Lempicki W.  B. T.  R. A. 2009',\n",
       "  'Systematic and integrative analysis of large gene lists using DAVID bioinformatics resources Huang  Sherman  Lempicki W.  B. T.  R. A. 2009'),\n",
       " ('BEDTools: a flexible suite of utilities for comparing genomic features Quinlan  Hall A. R.  I. M. 2010',\n",
       "  'BEDTools: a flexible suite of utilities for comparing genomic features Quinlan  Hall A. R.  I. M. 2010'),\n",
       " ('BEDTools: a flexible suite of utilities for comparing genomic features Quinlan  Hall A. R.  I. M. 2010',\n",
       "  'BEDTools: a flexible suite of utilities for comparing genomic features Quinlan  Hall A. R.  I. M. 2010'),\n",
       " ('Bioconductor: open software development for computational biology and bioinformatics Gentleman R. C. 2004',\n",
       "  'Bioconductor: open software development for computational biology and bioinformatics Gentleman R. C. 2004'),\n",
       " ('Bioconductor: open software development for computational biology and bioinformatics Gentleman R. C. 2004',\n",
       "  'Bioconductor: open software development for computational biology and bioinformatics Gentleman R. C. 2004'),\n",
       " ('Bioconductor: open software development for computational biology and bioinformatics Gentleman R. C. 2004',\n",
       "  'Bioconductor: open software development for computational biology and bioinformatics Gentleman R. C. 2004'),\n",
       " ('Gene set enrichment analysis: a knowledge-based approach for interpreting genome-wide expression profiles Subramanian A. 2005',\n",
       "  'Gene set enrichment analysis: a knowledge-based approach for interpreting genome-wide expression profiles Subramanian A. 2005'),\n",
       " ('Gene set enrichment analysis: a knowledge-based approach for interpreting genome-wide expression profiles Subramanian A. 2005',\n",
       "  'Gene set enrichment analysis: a knowledge-based approach for\\r\\n                        interpreting genome-wide expression profiles Subramanian A. 2005'),\n",
       " ('Gene set enrichment analysis: a knowledge-based approach for interpreting genome-wide expression profiles Subramanian A. 2005',\n",
       "  'Gene set enrichment analysis: a knowledge-based approach for interpreting genome-wide expression profiles Subramanian A. 2005'),\n",
       " ('Coot: model-building tools for molecular graphics Emsley  Cowtan P.  K. 2004',\n",
       "  'Coot: model-building tools for molecular graphics Emsley  Cowtan P.  K. 2004'),\n",
       " ('Coot: model-building tools for molecular graphics Emsley  Cowtan P.  K. 2004',\n",
       "  'Coot: model-building tools for molecular graphics Emsley  Cowtan P.  K. 2004'),\n",
       " ('Coot: model-building tools for molecular graphics Emsley  Cowtan P.  K. 2004',\n",
       "  'Coot: model-building tools for molecular graphics Emsley  Cowtan P.  K. 2004'),\n",
       " ('Coot: model-building tools for molecular graphics Emsley  Cowtan P.  K. 2004',\n",
       "  'Coot: model-building tools for molecular graphics Emsley  Cowtan P.  K. 2004'),\n",
       " ('Systematic and integrative analysis of large gene lists using DAVID bioinformatics resources Huang  Sherman  Lempicki W.  B. T.  R. A. 2009',\n",
       "  'Systematic and integrative analysis of large gene lists using DAVID bioinformatics resources da Huang  Sherman  Lempicki W.  B. T.  R. A. 2009'),\n",
       " ('Systematic and integrative analysis of large gene lists using DAVID bioinformatics resources Huang  Sherman  Lempicki W.  B. T.  R. A. 2009',\n",
       "  'Systematic and integrative analysis of large gene lists using DAVID bioinformatics resources Huang  Sherman  Lempicki W.  B. T.  R. A. 2009')]"
      ]
     },
     "execution_count": 198,
     "metadata": {},
     "output_type": "execute_result"
    }
   ],
   "source": [
    "edgelist"
   ]
  },
  {
   "cell_type": "code",
   "execution_count": 92,
   "metadata": {},
   "outputs": [],
   "source": [
    "G = nx.Graph()\n",
    "G.add_edges_from(edgelist)"
   ]
  },
  {
   "cell_type": "code",
   "execution_count": 99,
   "metadata": {},
   "outputs": [],
   "source": [
    "thresholds = np.arange(0, 1, 0.1)"
   ]
  },
  {
   "cell_type": "code",
   "execution_count": 93,
   "metadata": {
    "scrolled": true
   },
   "outputs": [
    {
     "data": {
      "text/plain": [
       "<BarContainer object of 4 artists>"
      ]
     },
     "execution_count": 93,
     "metadata": {},
     "output_type": "execute_result"
    },
    {
     "data": {
      "image/png": "[encoded data removed]",
      "text/plain": [
       "<Figure size 432x288 with 1 Axes>"
      ]
     },
     "metadata": {
      "needs_background": "light"
     },
     "output_type": "display_data"
    }
   ],
   "source": [
    "plt.bar(range(0, len(nx.degree_histogram(G))), nx.degree_histogram(G))"
   ]
  },
  {
   "cell_type": "code",
   "execution_count": 94,
   "metadata": {},
   "outputs": [],
   "source": [
    "degree_df = pd.DataFrame(nx.degree(G)).rename(columns = {0:'paper_title', \n",
    "                                             1:'degree'})"
   ]
  },
  {
   "cell_type": "code",
   "execution_count": 95,
   "metadata": {},
   "outputs": [
    {
     "data": {
      "text/html": [
       "<div>\n",
       "<style scoped>\n",
       "    .dataframe tbody tr th:only-of-type {\n",
       "        vertical-align: middle;\n",
       "    }\n",
       "\n",
       "    .dataframe tbody tr th {\n",
       "        vertical-align: top;\n",
       "    }\n",
       "\n",
       "    .dataframe thead th {\n",
       "        text-align: right;\n",
       "    }\n",
       "</style>\n",
       "<table border=\"1\" class=\"dataframe\">\n",
       "  <thead>\n",
       "    <tr style=\"text-align: right;\">\n",
       "      <th></th>\n",
       "      <th>paper_title</th>\n",
       "      <th>degree</th>\n",
       "    </tr>\n",
       "  </thead>\n",
       "  <tbody>\n",
       "    <tr>\n",
       "      <th>2367</th>\n",
       "      <td>Gene set enrichment analysis: a knowledge-base...</td>\n",
       "      <td>3</td>\n",
       "    </tr>\n",
       "    <tr>\n",
       "      <th>2599</th>\n",
       "      <td>A biomarker that identifies senescent human ce...</td>\n",
       "      <td>3</td>\n",
       "    </tr>\n",
       "    <tr>\n",
       "      <th>2103</th>\n",
       "      <td>PROCHECK: a program to check the stereochemist...</td>\n",
       "      <td>3</td>\n",
       "    </tr>\n",
       "    <tr>\n",
       "      <th>538</th>\n",
       "      <td>Improved methods for building protein models i...</td>\n",
       "      <td>3</td>\n",
       "    </tr>\n",
       "    <tr>\n",
       "      <th>907</th>\n",
       "      <td>A biomarker that identifies senescent human ce...</td>\n",
       "      <td>3</td>\n",
       "    </tr>\n",
       "    <tr>\n",
       "      <th>2098</th>\n",
       "      <td>MotionCor2: anisotropic correction of beam-ind...</td>\n",
       "      <td>3</td>\n",
       "    </tr>\n",
       "    <tr>\n",
       "      <th>2277</th>\n",
       "      <td>PROCHECK: a program to check the stereochemica...</td>\n",
       "      <td>3</td>\n",
       "    </tr>\n",
       "    <tr>\n",
       "      <th>1638</th>\n",
       "      <td>Gene set enrichment analysis: a knowledge-base...</td>\n",
       "      <td>3</td>\n",
       "    </tr>\n",
       "    <tr>\n",
       "      <th>2526</th>\n",
       "      <td>Systematic and integrative analysis of large g...</td>\n",
       "      <td>3</td>\n",
       "    </tr>\n",
       "    <tr>\n",
       "      <th>2173</th>\n",
       "      <td>MotionCor2: anisotropic correction of beam-ind...</td>\n",
       "      <td>3</td>\n",
       "    </tr>\n",
       "  </tbody>\n",
       "</table>\n",
       "</div>"
      ],
      "text/plain": [
       "                                            paper_title  degree\n",
       "2367  Gene set enrichment analysis: a knowledge-base...       3\n",
       "2599  A biomarker that identifies senescent human ce...       3\n",
       "2103  PROCHECK: a program to check the stereochemist...       3\n",
       "538   Improved methods for building protein models i...       3\n",
       "907   A biomarker that identifies senescent human ce...       3\n",
       "2098  MotionCor2: anisotropic correction of beam-ind...       3\n",
       "2277  PROCHECK: a program to check the stereochemica...       3\n",
       "1638  Gene set enrichment analysis: a knowledge-base...       3\n",
       "2526  Systematic and integrative analysis of large g...       3\n",
       "2173  MotionCor2: anisotropic correction of beam-ind...       3"
      ]
     },
     "execution_count": 95,
     "metadata": {},
     "output_type": "execute_result"
    }
   ],
   "source": [
    "degree_df.sort_values('degree', ascending = False).head(10)"
   ]
  },
  {
   "cell_type": "code",
   "execution_count": 96,
   "metadata": {
    "scrolled": true
   },
   "outputs": [
    {
     "data": {
      "text/plain": [
       "'Gene set enrichment analysis: a knowledge-based approach for interpreting genome-wide expression profiles Subramanian A. 2005'"
      ]
     },
     "execution_count": 96,
     "metadata": {},
     "output_type": "execute_result"
    }
   ],
   "source": [
    "degree_df.loc[2599, 'paper_title']"
   ]
  },
  {
   "cell_type": "code",
   "execution_count": 221,
   "metadata": {},
   "outputs": [
    {
     "data": {
      "text/plain": [
       "['A biomarker that identifies senescent human cells in culture\\r\\n                        and in aging skin  Dimri G. P. 1995',\n",
       " 'A biomarker that identifies senescent human cells in culture and in aging skin  Dimri G. P. 1995']"
      ]
     },
     "execution_count": 221,
     "metadata": {},
     "output_type": "execute_result"
    }
   ],
   "source": [
    "list(G.neighbors(degree_df.loc[2599, 'paper_title']))"
   ]
  },
  {
   "cell_type": "code",
   "execution_count": 184,
   "metadata": {},
   "outputs": [
    {
     "data": {
      "text/plain": [
       "0.007466314150903604"
      ]
     },
     "execution_count": 184,
     "metadata": {},
     "output_type": "execute_result"
    }
   ],
   "source": [
    "sum(specificity)/len(specificity)"
   ]
  },
  {
   "cell_type": "code",
   "execution_count": 189,
   "metadata": {},
   "outputs": [
    {
     "data": {
      "text/plain": [
       "0.007466314150903594"
      ]
     },
     "execution_count": 189,
     "metadata": {},
     "output_type": "execute_result"
    }
   ],
   "source": [
    "np.mean(specificity)"
   ]
  },
  {
   "cell_type": "code",
   "execution_count": 152,
   "metadata": {},
   "outputs": [
    {
     "data": {
      "text/plain": [
       "2807"
      ]
     },
     "execution_count": 152,
     "metadata": {},
     "output_type": "execute_result"
    }
   ],
   "source": [
    "len(titles)"
   ]
  },
  {
   "cell_type": "code",
   "execution_count": 225,
   "metadata": {
    "scrolled": true
   },
   "outputs": [
    {
     "name": "stdout",
     "output_type": "stream",
     "text": [
      "0.0\n"
     ]
    },
    {
     "name": "stderr",
     "output_type": "stream",
     "text": [
      "/usr/local/lib/python3.5/dist-packages/ipykernel_launcher.py:7: TqdmDeprecationWarning: This function will be removed in tqdm==5.0.0\n",
      "Please use `tqdm.notebook.tqdm` instead of `tqdm.tqdm_notebook`\n",
      "  import sys\n"
     ]
    },
    {
     "data": {
      "application/vnd.jupyter.widget-view+json": {
       "model_id": "708a67fbe77148748c5eb88be4b166a1",
       "version_major": 2,
       "version_minor": 0
      },
      "text/plain": [
       "HBox(children=(IntProgress(value=0), HTML(value='')))"
      ]
     },
     "metadata": {},
     "output_type": "display_data"
    },
    {
     "name": "stdout",
     "output_type": "stream",
     "text": [
      "\n",
      "It took 10.684200525283813 seconds to build map.\n"
     ]
    },
    {
     "data": {
      "application/vnd.jupyter.widget-view+json": {
       "model_id": "5a163fd618ab485faa96dbf4670bbfd8",
       "version_major": 2,
       "version_minor": 0
      },
      "text/plain": [
       "HBox(children=(IntProgress(value=0, max=2807), HTML(value='')))"
      ]
     },
     "metadata": {},
     "output_type": "display_data"
    },
    {
     "name": "stdout",
     "output_type": "stream",
     "text": [
      "\n",
      "0.1\n"
     ]
    },
    {
     "data": {
      "application/vnd.jupyter.widget-view+json": {
       "model_id": "eae5168754384dd89b44549b3bc0deaa",
       "version_major": 2,
       "version_minor": 0
      },
      "text/plain": [
       "HBox(children=(IntProgress(value=0), HTML(value='')))"
      ]
     },
     "metadata": {},
     "output_type": "display_data"
    },
    {
     "name": "stdout",
     "output_type": "stream",
     "text": [
      "\n",
      "It took 11.20510196685791 seconds to build map.\n"
     ]
    },
    {
     "data": {
      "application/vnd.jupyter.widget-view+json": {
       "model_id": "60517779997247389ccacb5a3ae11e19",
       "version_major": 2,
       "version_minor": 0
      },
      "text/plain": [
       "HBox(children=(IntProgress(value=0, max=2807), HTML(value='')))"
      ]
     },
     "metadata": {},
     "output_type": "display_data"
    },
    {
     "name": "stdout",
     "output_type": "stream",
     "text": [
      "\n",
      "0.2\n"
     ]
    },
    {
     "data": {
      "application/vnd.jupyter.widget-view+json": {
       "model_id": "d45f69cb353a49e68b19cb68ade8f5d8",
       "version_major": 2,
       "version_minor": 0
      },
      "text/plain": [
       "HBox(children=(IntProgress(value=0), HTML(value='')))"
      ]
     },
     "metadata": {},
     "output_type": "display_data"
    },
    {
     "name": "stdout",
     "output_type": "stream",
     "text": [
      "\n",
      "It took 11.116275072097778 seconds to build map.\n"
     ]
    },
    {
     "data": {
      "application/vnd.jupyter.widget-view+json": {
       "model_id": "ea346cc06f10483a92d201f3081f5ecb",
       "version_major": 2,
       "version_minor": 0
      },
      "text/plain": [
       "HBox(children=(IntProgress(value=0, max=2807), HTML(value='')))"
      ]
     },
     "metadata": {},
     "output_type": "display_data"
    },
    {
     "name": "stdout",
     "output_type": "stream",
     "text": [
      "\n",
      "0.30000000000000004\n"
     ]
    },
    {
     "data": {
      "application/vnd.jupyter.widget-view+json": {
       "model_id": "bfb6e73eacc34acb83fda40f29d95b89",
       "version_major": 2,
       "version_minor": 0
      },
      "text/plain": [
       "HBox(children=(IntProgress(value=0), HTML(value='')))"
      ]
     },
     "metadata": {},
     "output_type": "display_data"
    },
    {
     "name": "stdout",
     "output_type": "stream",
     "text": [
      "\n",
      "It took 10.621500968933105 seconds to build map.\n"
     ]
    },
    {
     "data": {
      "application/vnd.jupyter.widget-view+json": {
       "model_id": "54b2883f465a43b29f986754cba63857",
       "version_major": 2,
       "version_minor": 0
      },
      "text/plain": [
       "HBox(children=(IntProgress(value=0, max=2807), HTML(value='')))"
      ]
     },
     "metadata": {},
     "output_type": "display_data"
    },
    {
     "name": "stdout",
     "output_type": "stream",
     "text": [
      "\n",
      "0.4\n"
     ]
    },
    {
     "data": {
      "application/vnd.jupyter.widget-view+json": {
       "model_id": "c49f5d4f571e421f99ffa801997c1128",
       "version_major": 2,
       "version_minor": 0
      },
      "text/plain": [
       "HBox(children=(IntProgress(value=0), HTML(value='')))"
      ]
     },
     "metadata": {},
     "output_type": "display_data"
    },
    {
     "name": "stdout",
     "output_type": "stream",
     "text": [
      "\n",
      "It took 12.509417295455933 seconds to build map.\n"
     ]
    },
    {
     "data": {
      "application/vnd.jupyter.widget-view+json": {
       "model_id": "cf63565fb8714bda8401b8175fe21027",
       "version_major": 2,
       "version_minor": 0
      },
      "text/plain": [
       "HBox(children=(IntProgress(value=0, max=2807), HTML(value='')))"
      ]
     },
     "metadata": {},
     "output_type": "display_data"
    },
    {
     "name": "stdout",
     "output_type": "stream",
     "text": [
      "\n",
      "0.5\n"
     ]
    },
    {
     "data": {
      "application/vnd.jupyter.widget-view+json": {
       "model_id": "92a37ffb81784b74adb2b581ba6d8a0a",
       "version_major": 2,
       "version_minor": 0
      },
      "text/plain": [
       "HBox(children=(IntProgress(value=0), HTML(value='')))"
      ]
     },
     "metadata": {},
     "output_type": "display_data"
    },
    {
     "name": "stdout",
     "output_type": "stream",
     "text": [
      "\n",
      "It took 9.719177484512329 seconds to build map.\n"
     ]
    },
    {
     "data": {
      "application/vnd.jupyter.widget-view+json": {
       "model_id": "6d0633444958484196efbb261871d0a6",
       "version_major": 2,
       "version_minor": 0
      },
      "text/plain": [
       "HBox(children=(IntProgress(value=0, max=2807), HTML(value='')))"
      ]
     },
     "metadata": {},
     "output_type": "display_data"
    },
    {
     "name": "stdout",
     "output_type": "stream",
     "text": [
      "\n",
      "0.6000000000000001\n"
     ]
    },
    {
     "data": {
      "application/vnd.jupyter.widget-view+json": {
       "model_id": "b538fa06455e453a84c83c3a33c18f4b",
       "version_major": 2,
       "version_minor": 0
      },
      "text/plain": [
       "HBox(children=(IntProgress(value=0), HTML(value='')))"
      ]
     },
     "metadata": {},
     "output_type": "display_data"
    },
    {
     "name": "stdout",
     "output_type": "stream",
     "text": [
      "\n",
      "It took 9.77811074256897 seconds to build map.\n"
     ]
    },
    {
     "data": {
      "application/vnd.jupyter.widget-view+json": {
       "model_id": "d1ae476072a34867a96ddb975db44cf2",
       "version_major": 2,
       "version_minor": 0
      },
      "text/plain": [
       "HBox(children=(IntProgress(value=0, max=2807), HTML(value='')))"
      ]
     },
     "metadata": {},
     "output_type": "display_data"
    },
    {
     "name": "stdout",
     "output_type": "stream",
     "text": [
      "\n",
      "0.7000000000000001\n"
     ]
    },
    {
     "data": {
      "application/vnd.jupyter.widget-view+json": {
       "model_id": "3cff190fa0ee4b999d4bb94567459c93",
       "version_major": 2,
       "version_minor": 0
      },
      "text/plain": [
       "HBox(children=(IntProgress(value=0), HTML(value='')))"
      ]
     },
     "metadata": {},
     "output_type": "display_data"
    },
    {
     "name": "stdout",
     "output_type": "stream",
     "text": [
      "\n",
      "It took 9.684210538864136 seconds to build map.\n"
     ]
    },
    {
     "data": {
      "application/vnd.jupyter.widget-view+json": {
       "model_id": "fe1c755895224054957349c7c81a2807",
       "version_major": 2,
       "version_minor": 0
      },
      "text/plain": [
       "HBox(children=(IntProgress(value=0, max=2807), HTML(value='')))"
      ]
     },
     "metadata": {},
     "output_type": "display_data"
    },
    {
     "name": "stdout",
     "output_type": "stream",
     "text": [
      "\n",
      "0.8\n"
     ]
    },
    {
     "data": {
      "application/vnd.jupyter.widget-view+json": {
       "model_id": "53670a21cce94dae81bdbbadc459c11a",
       "version_major": 2,
       "version_minor": 0
      },
      "text/plain": [
       "HBox(children=(IntProgress(value=0), HTML(value='')))"
      ]
     },
     "metadata": {},
     "output_type": "display_data"
    },
    {
     "name": "stdout",
     "output_type": "stream",
     "text": [
      "\n",
      "It took 9.536824226379395 seconds to build map.\n"
     ]
    },
    {
     "data": {
      "application/vnd.jupyter.widget-view+json": {
       "model_id": "8a58f57903d741dd97d69d3ebacfab60",
       "version_major": 2,
       "version_minor": 0
      },
      "text/plain": [
       "HBox(children=(IntProgress(value=0, max=2807), HTML(value='')))"
      ]
     },
     "metadata": {},
     "output_type": "display_data"
    },
    {
     "name": "stdout",
     "output_type": "stream",
     "text": [
      "\n",
      "0.9\n"
     ]
    },
    {
     "data": {
      "application/vnd.jupyter.widget-view+json": {
       "model_id": "4092cd7c68fc458bbf5ad2dc2140e18a",
       "version_major": 2,
       "version_minor": 0
      },
      "text/plain": [
       "HBox(children=(IntProgress(value=0), HTML(value='')))"
      ]
     },
     "metadata": {},
     "output_type": "display_data"
    },
    {
     "name": "stdout",
     "output_type": "stream",
     "text": [
      "\n",
      "It took 9.584589958190918 seconds to build map.\n"
     ]
    },
    {
     "data": {
      "application/vnd.jupyter.widget-view+json": {
       "model_id": "a14365218b6b40e2b8fc1e04b8088f5a",
       "version_major": 2,
       "version_minor": 0
      },
      "text/plain": [
       "HBox(children=(IntProgress(value=0, max=2807), HTML(value='')))"
      ]
     },
     "metadata": {},
     "output_type": "display_data"
    },
    {
     "name": "stdout",
     "output_type": "stream",
     "text": [
      "\n"
     ]
    }
   ],
   "source": [
    "sens = {}\n",
    "recal = {}\n",
    "graphs = {}\n",
    "\n",
    "\n",
    "for threshold in np.arange(0.0, 1, 0.1):\n",
    "    \n",
    "    print (threshold)\n",
    "    lsh, minhash, titles = get_lsh(references, 128, threshold)\n",
    "    recall, specificity, edgelist = test_lsh(titles)\n",
    "    graphs[threshold] = nx.Graph()\n",
    "    graphs[threshold].add_edges_from(edgelist)\n",
    "    graphs[threshold].remove_edges_from(graphs[threshold].selfloop_edges())"
   ]
  },
  {
   "cell_type": "code",
   "execution_count": 229,
   "metadata": {
    "scrolled": false
   },
   "outputs": [
    {
     "data": {
      "image/png": "[encoded data removed]",
      "text/plain": [
       "<Figure size 1080x3960 with 18 Axes>"
      ]
     },
     "metadata": {
      "needs_background": "light"
     },
     "output_type": "display_data"
    }
   ],
   "source": [
    "fig, axs = plt.subplots(9,2, figsize=(15,55))\n",
    "\n",
    "for i, graph in enumerate([graphs[i] for i in sorted(graphs.keys())][1:]):\n",
    "    \n",
    "    max_degree = 10\n",
    "\n",
    "    degrees = nx.degree_histogram(graph)[:max_degree]\n",
    "    nx.write_gexf(graph, 'data/intermediate/similarity_network_thrsh_0.%d.gexf' % i)\n",
    "    \n",
    "    if  len(degrees) < max_degree:\n",
    "        degrees.extend([0 for i in range(max_degree - len(degrees))])\n",
    "    \n",
    "    axs[i][0].bar(list(range(0, max_degree)), degrees, width=0.8, log = True)\n",
    "    axs[i][0].set_title('Degree Distribution for threshold 0.%d' % i)\n",
    "    axs[i][0].set_ylabel('frequency')\n",
    "    axs[i][0].set_xlabel('degree distribution')\n",
    "\n",
    "    \n",
    "    conn_comp_sizes = [len(i) for i in nx.connected_components(graph)]\n",
    "    axs[i][1].bar(list(range(0, len(conn_comp_sizes))), conn_comp_sizes, width=0.8)\n",
    "    axs[i][1].set_title('Number of disconnected components 0.%d' % i)\n",
    "    axs[i][1].set_ylabel('Connected Component Size')\n",
    "    axs[i][1].set_xlabel('degree distribution')\n",
    "    #axs[i][1].set_xlim(0, 1000)    \n",
    "    #axs[i][1].xticks(np.arange(0, 300, 1.0))"
   ]
  },
  {
   "cell_type": "code",
   "execution_count": 203,
   "metadata": {
    "scrolled": false
   },
   "outputs": [
    {
     "data": {
      "text/plain": [
       "[<matplotlib.lines.Line2D at 0x7fa069914ef0>]"
      ]
     },
     "execution_count": 203,
     "metadata": {},
     "output_type": "execute_result"
    },
    {
     "data": {
      "image/png": "[encoded data removed]",
      "text/plain": [
       "<Figure size 432x288 with 1 Axes>"
      ]
     },
     "metadata": {
      "needs_background": "light"
     },
     "output_type": "display_data"
    }
   ],
   "source": [
    "plt.plot([roc_sens[i] for i in sorted(list(roc_sens.keys()))])"
   ]
  },
  {
   "cell_type": "code",
   "execution_count": 232,
   "metadata": {},
   "outputs": [
    {
     "data": {
      "text/plain": [
       "<networkx.classes.graph.Graph at 0x7fe686e120f0>"
      ]
     },
     "execution_count": 232,
     "metadata": {},
     "output_type": "execute_result"
    }
   ],
   "source": [
    "nx.draw(graphs[0.30000000000000004])"
   ]
  },
  {
   "cell_type": "code",
   "execution_count": 27,
   "metadata": {},
   "outputs": [
    {
     "data": {
      "text/plain": [
       "[{'fnm': \"['Y.']\",\n",
       "  'journal': 'Curr. Biol.',\n",
       "  'snm': \"['Song']\",\n",
       "  'title': 'Adaptive introgression of anticoagulant rodent poison resistance by hybridization between Old World mice',\n",
       "  'year': '2011'},\n",
       " {'fnm': \"['J. R. G.']\",\n",
       "  'journal': 'Annu. Rev. Ecol. Syst.',\n",
       "  'snm': \"['Turner']\",\n",
       "  'title': 'Adaptation and evolution in ',\n",
       "  'year': '1981'},\n",
       " {'fnm': \"['C.']\",\n",
       "  'journal': 'BMC Evol. Biol.',\n",
       "  'snm': \"['Kemkemer']\",\n",
       "  'title': 'Gene synteny comparisons between different vertebrates provide new insights into breakage and fusion events during mammalian karyotype evolution',\n",
       "  'year': '2009'},\n",
       " {'fnm': \"['E. G.']\",\n",
       "  'journal': 'Genetics',\n",
       "  'snm': \"['Pringle']\",\n",
       "  'title': 'Synteny and chromosome evolution in the Lepidoptera: evidence from mapping in ',\n",
       "  'year': '2007'},\n",
       " {'fnm': \"['O.']\",\n",
       "  'journal': 'Trends Ecol. Evol.',\n",
       "  'snm': \"['Seehausen']\",\n",
       "  'title': 'Hybridization and adaptive radiation',\n",
       "  'year': '2004'},\n",
       " {'fnm': \"['R. I.', 'M.']\",\n",
       "  'journal': 'Philos. Trans. R. Soc. Lond., B',\n",
       "  'snm': \"['Vane-Wright', 'Boppré']\",\n",
       "  'title': 'Visual and chemical signalling in butterflies: functional and phylogenetic perspectives',\n",
       "  'year': '1993'},\n",
       " {'fnm': \"['N. J.']\",\n",
       "  'journal': 'Phil. Trans. R. Soc. B',\n",
       "  'snm': \"['Nadeau']\",\n",
       "  'title': 'Evidence for genomic islands of divergence among hybridizing species and subspecies of ',\n",
       "  'year': '2012'},\n",
       " {'fnm': \"['S.', 'C.', 'J. L.', 'S. M.']\",\n",
       "  'journal': 'Cell',\n",
       "  'snm': \"['Zhan', 'Merlin', 'Boore', 'Reppert']\",\n",
       "  'title': 'The monarch butterfly genome yields insights into long-distance migration',\n",
       "  'year': '2011'},\n",
       " {'fnm': \"['K. S.']\",\n",
       "  'journal': 'Annu. Rev. Entomol.',\n",
       "  'snm': \"['Brown']\",\n",
       "  'title': 'The biology of ',\n",
       "  'year': '1981'},\n",
       " {'fnm': \"['R. D.']\",\n",
       "  'journal': 'Science',\n",
       "  'snm': \"['Reed']\",\n",
       "  'title': '<i>optix</i>',\n",
       "  'year': '2011'},\n",
       " {'fnm': \"['V.']\",\n",
       "  'journal': 'BMC Biol.',\n",
       "  'snm': \"['Bull']\",\n",
       "  'title': 'Polyphyly and gene flow between non-sibling ',\n",
       "  'year': '2006'},\n",
       " {'fnm': \"['M.']\",\n",
       "  'journal': 'Science',\n",
       "  'snm': \"['Kim']\",\n",
       "  'title': 'Regulatory genes control a key morphological and ecological trait transferred between species',\n",
       "  'year': '2008'},\n",
       " {'fnm': \"['M. R.']\",\n",
       "  'journal': 'BMC Evol. Biol.',\n",
       "  'snm': \"['Kronforst']\",\n",
       "  'title': 'Gene flow persists millions of years after speciation in ',\n",
       "  'year': '2008'},\n",
       " {'fnm': '[]',\n",
       "  'journal': 'Insect Biochem. Mol. Biol.',\n",
       "  'snm': '[]',\n",
       "  'title': 'Silkworm Genome Consortium. The genome of a lepidopteran model insect, the silkworm ',\n",
       "  'year': '2008'},\n",
       " {'fnm': \"['C. L.']\",\n",
       "  'journal': 'Insect Biochem. Mol. Biol.',\n",
       "  'snm': \"['Chai']\",\n",
       "  'title': 'A genomewide survey of homeobox genes and identification of novel structure of the ',\n",
       "  'year': '2008'},\n",
       " {'fnm': \"['F. G.', 'J.']\",\n",
       "  'journal': 'Genome Biol. Evol.',\n",
       "  'snm': \"['Vieira', 'Rozas']\",\n",
       "  'title': 'Comparative genomics of the odorant-binding and chemosensory protein gene families across the Arthropoda: origin and evolutionary history of the chemosensory system',\n",
       "  'year': '2011'},\n",
       " {'fnm': \"['H. W.']\",\n",
       "  'journal': 'Trans. Linn. Soc. Lond.',\n",
       "  'snm': \"['Bates']\",\n",
       "  'title': 'Contributions to an insect fauna of the Amazon valley. Lepidoptera: Heliconidae',\n",
       "  'year': '1862'},\n",
       " {'fnm': \"['E. Y.', 'N.', 'D.', 'M.']\",\n",
       "  'journal': 'Mol. Biol. Evol.',\n",
       "  'snm': \"['Durand', 'Patterson', 'Reich', 'Slatkin']\",\n",
       "  'title': 'Testing for ancient admixture between closely related populations',\n",
       "  'year': '2011'},\n",
       " {'fnm': \"['C.']\",\n",
       "  'journal': 'PLoS Genet.',\n",
       "  'snm': \"['Salazar']\",\n",
       "  'title': 'Genetic evidence for hybrid trait speciation in ',\n",
       "  'year': '2010'},\n",
       " {'fnm': \"['E.']\",\n",
       "  'journal': 'Proc. Natl Acad. Sci. USA',\n",
       "  'snm': \"['d’Alençon']\",\n",
       "  'title': 'Extensive synteny conservation of holocentric chromosomes in Lepidoptera despite high rates of local genome rearrangements',\n",
       "  'year': '2010'},\n",
       " {'fnm': \"['A. D.']\",\n",
       "  'journal': 'Proc. Natl Acad. Sci. USA',\n",
       "  'snm': \"['Briscoe']\",\n",
       "  'title': 'Positive selection of a duplicated UV-sensitive visual pigment coincides with wing pigment evolution in ',\n",
       "  'year': '2010'},\n",
       " {'fnm': \"['C. D.', 'R. E.', 'R. L.', 'J.']\",\n",
       "  'journal': 'Nature',\n",
       "  'snm': \"['Jiggins', 'Naisbit', 'Coe', 'Mallet']\",\n",
       "  'title': 'Reproductive isolation caused by colour pattern mimicry',\n",
       "  'year': '2001'},\n",
       " {'fnm': \"['R. E.']\",\n",
       "  'journal': 'Science',\n",
       "  'snm': \"['Green']\",\n",
       "  'title': 'A draft sequence of the Neandertal genome',\n",
       "  'year': '2010'},\n",
       " {'fnm': \"['Q.', 'Q.', 'Y.', 'C.', 'Y.']\",\n",
       "  'journal': 'J. Genet. Genomics',\n",
       "  'snm': \"['Deng', 'Zeng', 'Qian', 'Li', 'Yang']\",\n",
       "  'title': 'Research on the karyotype and evolution of the ',\n",
       "  'year': '2007'},\n",
       " {'fnm': \"['T. B.']\",\n",
       "  'journal': 'Nature Genet.',\n",
       "  'snm': \"['Sackton']\",\n",
       "  'title': 'Dynamic evolution of the innate immune system in ',\n",
       "  'year': '2007'}]"
      ]
     },
     "execution_count": 27,
     "metadata": {},
     "output_type": "execute_result"
    }
   ],
   "source": [
    "list(references[3]['references'].values())"
   ]
  },
  {
   "cell_type": "code",
   "execution_count": 28,
   "metadata": {
    "scrolled": true
   },
   "outputs": [
    {
     "data": {
      "text/plain": [
       "{'metadata': {'doi': '10.1038/nature11041',\n",
       "  'id': 'nature11041',\n",
       "  'jtl': 'Nature',\n",
       "  'language': 'eng',\n",
       "  'relation': 'no',\n",
       "  'title': 'Butterfly genome reveals promiscuous exchange of mimicry adaptations among species',\n",
       "  'vol': '487'},\n",
       " 'references': {'b1': {'fnm': \"['O.']\",\n",
       "   'journal': 'Trends Ecol. Evol.',\n",
       "   'snm': \"['Seehausen']\",\n",
       "   'title': 'Hybridization and adaptive radiation',\n",
       "   'year': '2004'},\n",
       "  'b10': {'fnm': '[]',\n",
       "   'journal': 'Insect Biochem. Mol. Biol.',\n",
       "   'snm': '[]',\n",
       "   'title': 'Silkworm Genome Consortium. The genome of a lepidopteran model insect, the silkworm ',\n",
       "   'year': '2008'},\n",
       "  'b11': {'fnm': \"['E. G.']\",\n",
       "   'journal': 'Genetics',\n",
       "   'snm': \"['Pringle']\",\n",
       "   'title': 'Synteny and chromosome evolution in the Lepidoptera: evidence from mapping in ',\n",
       "   'year': '2007'},\n",
       "  'b13': {'fnm': \"['Q.', 'Q.', 'Y.', 'C.', 'Y.']\",\n",
       "   'journal': 'J. Genet. Genomics',\n",
       "   'snm': \"['Deng', 'Zeng', 'Qian', 'Li', 'Yang']\",\n",
       "   'title': 'Research on the karyotype and evolution of the ',\n",
       "   'year': '2007'},\n",
       "  'b14': {'fnm': \"['C.']\",\n",
       "   'journal': 'BMC Evol. Biol.',\n",
       "   'snm': \"['Kemkemer']\",\n",
       "   'title': 'Gene synteny comparisons between different vertebrates provide new insights into breakage and fusion events during mammalian karyotype evolution',\n",
       "   'year': '2009'},\n",
       "  'b15': {'fnm': \"['E.']\",\n",
       "   'journal': 'Proc. Natl Acad. Sci. USA',\n",
       "   'snm': \"['d’Alençon']\",\n",
       "   'title': 'Extensive synteny conservation of holocentric chromosomes in Lepidoptera despite high rates of local genome rearrangements',\n",
       "   'year': '2010'},\n",
       "  'b16': {'fnm': \"['R. I.', 'M.']\",\n",
       "   'journal': 'Philos. Trans. R. Soc. Lond., B',\n",
       "   'snm': \"['Vane-Wright', 'Boppré']\",\n",
       "   'title': 'Visual and chemical signalling in butterflies: functional and phylogenetic perspectives',\n",
       "   'year': '1993'},\n",
       "  'b17': {'fnm': \"['S.', 'C.', 'J. L.', 'S. M.']\",\n",
       "   'journal': 'Cell',\n",
       "   'snm': \"['Zhan', 'Merlin', 'Boore', 'Reppert']\",\n",
       "   'title': 'The monarch butterfly genome yields insights into long-distance migration',\n",
       "   'year': '2011'},\n",
       "  'b18': {'fnm': \"['F. G.', 'J.']\",\n",
       "   'journal': 'Genome Biol. Evol.',\n",
       "   'snm': \"['Vieira', 'Rozas']\",\n",
       "   'title': 'Comparative genomics of the odorant-binding and chemosensory protein gene families across the Arthropoda: origin and evolutionary history of the chemosensory system',\n",
       "   'year': '2011'},\n",
       "  'b19': {'fnm': \"['C. L.']\",\n",
       "   'journal': 'Insect Biochem. Mol. Biol.',\n",
       "   'snm': \"['Chai']\",\n",
       "   'title': 'A genomewide survey of homeobox genes and identification of novel structure of the ',\n",
       "   'year': '2008'},\n",
       "  'b2': {'fnm': \"['H. W.']\",\n",
       "   'journal': 'Trans. Linn. Soc. Lond.',\n",
       "   'snm': \"['Bates']\",\n",
       "   'title': 'Contributions to an insect fauna of the Amazon valley. Lepidoptera: Heliconidae',\n",
       "   'year': '1862'},\n",
       "  'b20': {'fnm': \"['T. B.']\",\n",
       "   'journal': 'Nature Genet.',\n",
       "   'snm': \"['Sackton']\",\n",
       "   'title': 'Dynamic evolution of the innate immune system in ',\n",
       "   'year': '2007'},\n",
       "  'b21': {'fnm': \"['R. E.']\",\n",
       "   'journal': 'Science',\n",
       "   'snm': \"['Green']\",\n",
       "   'title': 'A draft sequence of the Neandertal genome',\n",
       "   'year': '2010'},\n",
       "  'b22': {'fnm': \"['E. Y.', 'N.', 'D.', 'M.']\",\n",
       "   'journal': 'Mol. Biol. Evol.',\n",
       "   'snm': \"['Durand', 'Patterson', 'Reich', 'Slatkin']\",\n",
       "   'title': 'Testing for ancient admixture between closely related populations',\n",
       "   'year': '2011'},\n",
       "  'b23': {'fnm': \"['R. D.']\",\n",
       "   'journal': 'Science',\n",
       "   'snm': \"['Reed']\",\n",
       "   'title': '<i>optix</i>',\n",
       "   'year': '2011'},\n",
       "  'b24': {'fnm': \"['N. J.']\",\n",
       "   'journal': 'Phil. Trans. R. Soc. B',\n",
       "   'snm': \"['Nadeau']\",\n",
       "   'title': 'Evidence for genomic islands of divergence among hybridizing species and subspecies of ',\n",
       "   'year': '2012'},\n",
       "  'b25': {'fnm': \"['V.']\",\n",
       "   'journal': 'BMC Biol.',\n",
       "   'snm': \"['Bull']\",\n",
       "   'title': 'Polyphyly and gene flow between non-sibling ',\n",
       "   'year': '2006'},\n",
       "  'b26': {'fnm': \"['M.']\",\n",
       "   'journal': 'Science',\n",
       "   'snm': \"['Kim']\",\n",
       "   'title': 'Regulatory genes control a key morphological and ecological trait transferred between species',\n",
       "   'year': '2008'},\n",
       "  'b27': {'fnm': \"['Y.']\",\n",
       "   'journal': 'Curr. Biol.',\n",
       "   'snm': \"['Song']\",\n",
       "   'title': 'Adaptive introgression of anticoagulant rodent poison resistance by hybridization between Old World mice',\n",
       "   'year': '2011'},\n",
       "  'b3': {'fnm': \"['J. R. G.']\",\n",
       "   'journal': 'Annu. Rev. Ecol. Syst.',\n",
       "   'snm': \"['Turner']\",\n",
       "   'title': 'Adaptation and evolution in ',\n",
       "   'year': '1981'},\n",
       "  'b4': {'fnm': \"['K. S.']\",\n",
       "   'journal': 'Annu. Rev. Entomol.',\n",
       "   'snm': \"['Brown']\",\n",
       "   'title': 'The biology of ',\n",
       "   'year': '1981'},\n",
       "  'b5': {'fnm': \"['C. D.', 'R. E.', 'R. L.', 'J.']\",\n",
       "   'journal': 'Nature',\n",
       "   'snm': \"['Jiggins', 'Naisbit', 'Coe', 'Mallet']\",\n",
       "   'title': 'Reproductive isolation caused by colour pattern mimicry',\n",
       "   'year': '2001'},\n",
       "  'b6': {'fnm': \"['A. D.']\",\n",
       "   'journal': 'Proc. Natl Acad. Sci. USA',\n",
       "   'snm': \"['Briscoe']\",\n",
       "   'title': 'Positive selection of a duplicated UV-sensitive visual pigment coincides with wing pigment evolution in ',\n",
       "   'year': '2010'},\n",
       "  'b8': {'fnm': \"['M. R.']\",\n",
       "   'journal': 'BMC Evol. Biol.',\n",
       "   'snm': \"['Kronforst']\",\n",
       "   'title': 'Gene flow persists millions of years after speciation in ',\n",
       "   'year': '2008'},\n",
       "  'b9': {'fnm': \"['C.']\",\n",
       "   'journal': 'PLoS Genet.',\n",
       "   'snm': \"['Salazar']\",\n",
       "   'title': 'Genetic evidence for hybrid trait speciation in ',\n",
       "   'year': '2010'}}}"
      ]
     },
     "execution_count": 28,
     "metadata": {},
     "output_type": "execute_result"
    }
   ],
   "source": [
    "references[3]"
   ]
  },
  {
   "cell_type": "code",
   "execution_count": 30,
   "metadata": {},
   "outputs": [
    {
     "data": {
      "text/plain": [
       "[{'</descrip></suppobj>\\r\\n    </suppinfo>\\r\\n<subject code=\"npg_subject_212\"/><subject code=\"npg_subject_181\"/><subject code=\"npg_subject_208\"/><subject code=\"npg_subject_601\"/>\\r\\n<subject id=\"2467\" path=\"/631/181/759/2467\" type=\"npg.subject\" version=\"1.0\"/>\\n<subject id=\"748\" path=\"/631/208/212/748\" type=\"npg.subject\" version=\"1.0\"/>\\n<subject id=\"18\" path=\"/631/601/18\" type=\"npg.subject\" version=\"1.0\"/>\\n<doi>10.1038/nature11041</doi>\\r\\n<licence model=\"by-nc-sa\" version=\"3.0\"><weblink url=\"http://creativecommons.org/licenses/by-nc-sa/3.0/\">Creative Commons Attribution-Non-Commercial-Share Alike licence</weblink><licence-text>This article is distributed under the terms of the Creative Commons Attribution-Non-Commercial-Share Alike licence (<weblink url=\"http://creativecommons.org/licenses/by-nc-sa/3.0/\">http://creativecommons.org/licenses/by-nc-sa/3.0/</weblink>).</licence-text></licence></pubfm>\\r\\n<fm>\\r\\n<atl>Butterfly genome reveals promiscuous exchange of mimicry adaptations among species</atl>\\r\\n<aug><group display-authors=\"no\"><groupttl>The <i>Heliconius</i> Genome Consortium</groupttl>\\r\\n<au><fnm>Kanchon K.</fnm><snm>Dasmahapatra</snm><inits>K K</inits><orf rid=\"a2\" refchar=\"dagger\"/></au>\\r\\n<au><fnm>James R.</fnm><snm>Walters</snm><inits>J R</inits><orf rid=\"a3\" refchar=\"ddagger\"/></au>\\r\\n<au><fnm>Adriana D.</fnm><snm>Briscoe</snm><inits>A D</inits><orf rid=\"a4\" refchar=\"section\"/></au>\\r\\n<au><fnm>John W.</fnm><snm>Davey</snm><inits>J W</inits><orf rid=\"a5\" refchar=\"dblvbar\"/></au>\\r\\n<au><fnm>Annabel</fnm><snm>Whibley</snm><inits>A</inits><orf rid=\"a6\" refchar=\"para\"/></au>\\r\\n<au><fnm>Nicola J.</fnm><snm>Nadeau</snm><inits>N J</inits><orf rid=\"a3\" refchar=\"ddagger\"/></au>\\r\\n<au><fnm>Aleksey V.</fnm><snm>Zimin</snm><inits>A V</inits><orf rid=\"a7\" refchar=\"pound\"/></au>\\r\\n<au><fnm>Daniel S. T.</fnm><snm>Hughes</snm><inits>D S T</inits><orf rid=\"a8\" refchar=\"star\"/></au>\\r\\n<au><fnm>Laura C.</fnm><snm>Ferguson</snm><inits>L C</inits><orf rid=\"a9\" refchar=\"twoast\"/></au>\\r\\n<au><fnm>Simon H.</fnm><snm>Martin</snm><inits>S H</inits><orf rid=\"a3\" refchar=\"ddagger\"/></au>\\r\\n<au><fnm>Camilo</fnm><snm>Salazar</snm><inits>C</inits><orf rid=\"a3\" refchar=\"ddagger\"/><orf rid=\"a10\" refchar=\"twodag\"/></au>\\r\\n<au><fnm>James J.</fnm><snm>Lewis</snm><inits>J J</inits><orf rid=\"a4\" refchar=\"section\"/></au>\\r\\n<au><fnm>Sebastian</fnm><snm>Adler</snm><inits>S</inits><orf rid=\"a11\" refchar=\"twoddag\"/></au>\\r\\n<au><fnm>Seung-Joon</fnm><snm>Ahn</snm><inits>SJ</inits><orf rid=\"a12\" refchar=\"twosect\"/></au>\\r\\n<au><fnm>Dean A.</fnm><snm>Baker</snm><inits>D A</inits><orf rid=\"a13\" refchar=\"twodblv\"/></au>\\r\\n<au><fnm>Simon W.</fnm><snm>Baxter</snm><inits>S W</inits><orf rid=\"a3\" refchar=\"ddagger\"/></au>\\r\\n<au><fnm>Nicola L.</fnm><snm>Chamberlain</snm><inits>N L</inits><orf rid=\"a14\" refchar=\"twopara\"/></au>\\r\\n<au><fnm>Ritika</fnm><snm>Chauhan</snm><inits>R</inits><orf rid=\"a15\" refchar=\"twopound\"/></au>\\r\\n<au><fnm>Brian A.</fnm><snm>Counterman</snm><inits>B A</inits><orf rid=\"a16\" refchar=\"twostar\"/></au>\\r\\n<au><fnm>Tamas</fnm><snm>Dalmay</snm><inits>T</inits><orf rid=\"a17\" refchar=\"integral\"/></au>\\r\\n<au><fnm>Lawrence E.</fnm><snm>Gilbert</snm><inits>L E</inits><orf rid=\"a18\"/></au>\\r\\n<au><fnm>Karl</fnm><snm>Gordon</snm><inits>K</inits><orf rid=\"a19\"/></au>\\r\\n<au><fnm>David G.</fnm><snm>Heckel</snm><inits>D G</inits><orf rid=\"a12\" refchar=\"twosect\"/></au>\\r\\n<au><fnm>Heather M.</fnm><snm>Hines</snm><inits>H M</inits><orf rid=\"a20\"/></au>\\r\\n<au><fnm>Katharina J.</fnm><snm>Hoff</snm><inits>K J</inits><orf rid=\"a11\" refchar=\"twoddag\"/></au>\\r\\n<au><fnm>Peter W. H.</fnm><snm>Holland</snm><inits>P W H</inits><orf rid=\"a9\" refchar=\"twoast\"/></au>\\r\\n<au><fnm>Emmanuelle</fnm><snm>Jacquin-Joly</snm><inits>E</inits><orf rid=\"a21\"/></au>\\r\\n<au><fnm>Francis M.</fnm><snm>Jiggins</snm><inits>F M</inits><orf rid=\"a22\"/></au>\\r\\n<au><fnm>Robert T.</fnm><snm>Jones</snm><inits>R T</inits><orf rid=\"a6\" refchar=\"para\"/></au>\\r\\n<au><fnm>Durrell D.</fnm><snm>Kapan</snm><inits>D D</inits><orf rid=\"a23\"/><orf rid=\"a24\"/></au>\\r\\n<au><fnm>Paul</fnm><snm>Kersey</snm><inits>P</inits><orf rid=\"a8\" refchar=\"star\"/></au>\\r\\n<au><fnm>Gerardo</fnm><snm>Lamas</snm><inits>G</inits><orf rid=\"a25\"/></au>\\r\\n<au><fnm>Daniel</fnm><snm>Lawson</snm><inits>D</inits><orf rid=\"a8\" refchar=\"star\"/></au>\\r\\n<au><fnm>Daniel</fnm><snm>Mapleson</snm><inits>D</inits><orf rid=\"a26\"/></au>\\r\\n<au><fnm>Luana S.</fnm><snm>Maroja</snm><inits>L S</inits><orf rid=\"a27\"/></au>\\r\\n<au><fnm>Arnaud</fnm><snm>Martin</snm><inits>A</inits><orf rid=\"a4\" refchar=\"section\"/></au>\\r\\n<au><fnm>Simon</fnm><snm>Moxon</snm><inits>S</inits><orf rid=\"a28\"/></au>\\r\\n<au><fnm>William J.</fnm><snm>Palmer</snm><inits>W J</inits><orf rid=\"a22\"/></au>\\r\\n<au><fnm>Riccardo</fnm><snm>Papa</snm><inits>R</inits><orf rid=\"a29\"/></au>\\r\\n<au><fnm>Alexie</fnm><snm>Papanicolaou</snm><inits>A</inits><orf rid=\"a19\"/></au>\\r\\n<au><fnm>Yannick</fnm><snm>Pauchet</snm><inits>Y</inits><orf rid=\"a12\" refchar=\"twosect\"/></au>\\r\\n<au><fnm>David A.</fnm><snm>Ray</snm><inits>D A</inits><orf rid=\"a30\"/><orf rid=\"a31\"/></au>\\r\\n<au><fnm>Neil</fnm><snm>Rosser</snm><inits>N</inits><orf rid=\"a2\" refchar=\"dagger\"/></au>\\r\\n<au><fnm>Steven L.</fnm><snm>Salzberg</snm><inits>S L</inits><orf rid=\"a32\"/></au>\\r\\n<au><fnm>Megan A.</fnm><snm>Supple</snm><inits>M A</inits><orf rid=\"a33\"/></au>\\r\\n<au><fnm>Alison</fnm><snm>Surridge</snm><inits>A</inits><orf rid=\"a3\" refchar=\"ddagger\"/></au>\\r\\n<au><fnm>Ayse</fnm><snm>Tenger-Trolander</snm><inits>A</inits><orf rid=\"a14\" refchar=\"twopara\"/></au>\\r\\n<au><fnm>Heiko</fnm><snm>Vogel</snm><inits>H</inits><orf rid=\"a12\" refchar=\"twosect\"/></au>\\r\\n<au><fnm>Paul A.</fnm><snm>Wilkinson</snm><inits>P A</inits><orf rid=\"a34\"/></au>\\r\\n<au><fnm>Derek</fnm><snm>Wilson</snm><inits>D</inits><orf rid=\"a8\" refchar=\"star\"/></au>\\r\\n<au><fnm>James A.</fnm><snm>Yorke</snm><inits>J A</inits><orf rid=\"a7\" refchar=\"pound\"/></au>\\r\\n<au><fnm>Furong</fnm><snm>Yuan</snm><inits>F</inits><orf rid=\"a4\" refchar=\"section\"/></au>\\r\\n<au><fnm>Alexi L.</fnm><snm>Balmuth</snm><inits>A L</inits><orf rid=\"a35\"/></au>\\r\\n<au><fnm>Cathlene</fnm><snm>Eland</snm><inits>C</inits><orf rid=\"a35\"/></au>\\r\\n<au><fnm>Karim</fnm><snm>Gharbi</snm><inits>K</inits><orf rid=\"a35\"/></au>\\r\\n<au><fnm>Marian</fnm><snm>Thomson</snm><inits>M</inits><orf rid=\"a35\"/></au>\\r\\n<au><fnm>Richard A.</fnm><snm>Gibbs</snm><inits>R A</inits><orf rid=\"a36\"/></au>\\r\\n<au><fnm>Yi</fnm><snm>Han</snm><inits>Y</inits><orf rid=\"a36\"/></au>\\r\\n<au><fnm>Joy C.</fnm><snm>Jayaseelan</snm><inits>J C</inits><orf rid=\"a36\"/></au>\\r\\n<au><fnm>Christie</fnm><snm>Kovar</snm><inits>C</inits><orf rid=\"a36\"/></au>\\r\\n<au><fnm>Tittu</fnm><snm>Mathew</snm><inits>T</inits><orf rid=\"a36\"/></au>\\r\\n<au><fnm>Donna M.</fnm><snm>Muzny</snm><inits>D M</inits><orf rid=\"a36\"/></au>\\r\\n<au><fnm>Fiona</fnm><snm>Ongeri</snm><inits>F</inits><orf rid=\"a36\"/></au>\\r\\n<au><fnm>Ling-Ling</fnm><snm>Pu</snm><inits>LL</inits><orf rid=\"a36\"/></au>\\r\\n<au><fnm>Jiaxin</fnm><snm>Qu</snm><inits>J</inits><orf rid=\"a36\"/></au>\\r\\n<au><fnm>Rebecca L.</fnm><snm>Thornton</snm><inits>R L</inits><orf rid=\"a36\"/></au>\\r\\n<au><fnm>Kim C.</fnm><snm>Worley</snm><inits>K C</inits><orf rid=\"a36\"/></au>\\r\\n<au><fnm>Yuan-Qing</fnm><snm>Wu</snm><inits>YQ</inits><orf rid=\"a36\"/></au>\\r\\n<au><fnm>Mauricio</fnm><snm>Linares</snm><inits>M</inits><orf rid=\"a37\"/></au>\\r\\n<au><fnm>Mark L.</fnm><snm>Blaxter</snm><inits>M L</inits><orf rid=\"a5\" refchar=\"dblvbar\"/><orf rid=\"a35\"/></au>\\r\\n<au><fnm>Richard H.</fnm><snm>ffrench-Constant</snm><inits>R H</inits><orf rid=\"a15\" refchar=\"twopound\"/></au>\\r\\n<au><fnm>Mathieu</fnm><snm>Joron</snm><inits>M</inits><orf rid=\"a6\" refchar=\"para\"/></au>\\r\\n<au><fnm>Marcus R.</fnm><snm>Kronforst</snm><inits>M R</inits><orf rid=\"a14\" refchar=\"twopara\"/></au>\\r\\n<au><fnm>Sean P.</fnm><snm>Mullen</snm><inits>S P</inits><orf rid=\"a38\"/></au>\\r\\n<au><fnm>Robert D.</fnm><snm>Reed</snm><inits>R D</inits><orf rid=\"a4\" refchar=\"section\"/></au>\\r\\n<au><fnm>Steven E.</fnm><snm>Scherer</snm><inits>S E</inits><orf rid=\"a36\"/></au>\\r\\n<au><fnm>Stephen</fnm><snm>Richards</snm><inits>S</inits><orf rid=\"a36\"/></au>\\r\\n<cau><fnm>James</fnm><snm>Mallet</snm><inits>J</inits><orf rid=\"a2\" refchar=\"dagger\"/><orf rid=\"a39\"/><corf rid=\"c1\"/></cau>\\r\\n<au><fnm>W.</fnm><snm>Owen McMillan</snm><inits>W</inits><orf rid=\"a10\" refchar=\"twodag\"/></au>\\r\\n<au><fnm>Chris D.</fnm><snm>Jiggins</snm><inits>C D</inits><orf rid=\"a3\" refchar=\"ddagger\"/><orf rid=\"a10\" refchar=\"twodag\"/></au>\\r\\n</group>\\r\\n\\r\\n<aff><oid id=\"a2\"/><org>Department of Genetics, Evolution and Environment, University College London, Gower Street</org>, <cty>London</cty> WC1E 6BT, <cny>UK</cny>.</aff>\\r\\n<aff><oid id=\"a3\"/><org>Department of Zoology, Downing Street, University of Cambridge</org>, <cty>Cambridge</cty> CB2 3EJ, <cny>UK</cny>.</aff>\\r\\n<aff><oid id=\"a4\"/><org>Department of Ecology and Evolutionary Biology, University of California, Irvine</org>, <cty>California</cty> <zip>92697</zip>, <cny>USA</cny>.</aff>\\r\\n<aff><oid id=\"a5\"/><org>Institute of Evolutionary Biology, Ashworth Laboratories, University of Edinburgh, West Mains Road</org>, <cty>Edinburgh</cty> EH9 3JT, <cny>UK</cny>.</aff>\\r\\n<aff><oid id=\"a6\"/><org>CNRS UMR 7205, Mus&eacute;um National d&rsquo;Histoire Naturelle, 45 rue Buffon</org>, <cty>Paris</cty> 75005, <cny>France</cny>.</aff>\\r\\n<aff><oid id=\"a7\"/><org>Institute for Physical Science and Technology, University of Maryland</org>, <cty>College Park</cty>, <st>Maryland</st> <zip>20742</zip>, <cny>USA</cny>.</aff>\\r\\n<aff><oid id=\"a8\"/><org>European Bioinformatics Institute</org>, <cty>Hinxton</cty> CB10 1SD, <cny>UK</cny>.</aff>\\r\\n<aff><oid id=\"a9\"/><org>Department of Zoology, University of Oxford, South Parks Road</org>, <cty>Oxford</cty> OX1 3PS, <cny>UK</cny>.</aff>\\r\\n<aff><oid id=\"a10\"/><org>Smithsonian Tropical Research Institute, Smithsonian Tropical Research Institute, Apartado Postal 0843-03092</org>, <cty>Panam&aacute;</cty>, <cny>Rep&uacute;blica de Panam&aacute;</cny>.</aff>\\r\\n<aff><oid id=\"a11\"/><org>Institut f&uuml;r Mathematik und Informatik, Universit&auml;t Greifswald</org>, 17487 <cty>Greifswald</cty>, <cny>Germany</cny>.</aff>\\r\\n<aff><oid id=\"a12\"/><org>Max Planck Institute for Chemical Ecology</org>, D-07745 <cty>Jena</cty>, <cny>Germany</cny>.</aff>\\r\\n<aff><oid id=\"a13\"/><org>Ecology and Evolution, Imperial College London</org>, <cty>London</cty> SW7 2AZ, <cny>UK</cny>.</aff>\\r\\n<aff><oid id=\"a14\"/><org>FAS Center for Systems Biology, Harvard University</org>, <cty>Cambridge</cty>, <st>Massachusetts</st> <zip>02138</zip>, <cny>USA</cny>.</aff>\\r\\n<aff><oid id=\"a15\"/><org>Centre for Ecology and Conservation, School of Biosciences, University of Exeter</org>, <cty>Penryn</cty> TR10 9EZ, <cny>UK</cny>.</aff>\\r\\n<aff><oid id=\"a16\"/><org>Department of Biology, Mississippi State University, Mississippi State</org>, <cty>Mississippi</cty> <zip>39762</zip>, <cny>USA</cny>.</aff>\\r\\n<aff><oid id=\"a17\"/><org>School of Biological Sciences, University of East Anglia, Norwich Research Park</org>, <cty>Norwich</cty> NR4 7TJ, <cny>UK</cny>.</aff>\\r\\n<aff><oid id=\"a18\"/><org>Section of Integrative Biology and Brackenridge Field Laboratory, University of Texas, Austin</org>, <st>Texas</st> <zip>78712</zip>, <cny>USA</cny>.</aff>\\r\\n<aff><oid id=\"a19\"/><org>Black Mountain Laboratories, CSIRO Ecosystem Sciences, Clunies Ross Street</org>, <cty>Canberra</cty>, Australian Capital Territory 2601, <cny>Australia</cny>.</aff>\\r\\n<aff><oid id=\"a20\"/><org>Department of Genetics, North Carolina State University</org>, <cty>Raleigh</cty>, <st>North Carolina</st> <zip>27695</zip>, <cny>USA</cny>.</aff>\\r\\n<aff><oid id=\"a21\"/><org>UMR-A 1272 INRA-Universit&eacute; Pierre et Marie Curie, Physiologie de l&rsquo;Insecte: Signalisation et Communication, Route de Saint-Cyr</org>, <cty>Versailles Cedex</cty> 78026, <cny>France</cny>.</aff>\\r\\n<aff><oid id=\"a22\"/><org>Department of Genetics, Downing Street, University of Cambridge</org>, <cty>Cambridge</cty> CB2 3EH, <cny>UK</cny>.</aff>\\r\\n<aff><oid id=\"a23\"/><org>Department of Entomology, Center for Comparative Genomics, California Academy of Sciences, 55 Music Concourse Drive</org>, <cty>San Francisco</cty>, <cty>California</cty> <zip>94118</zip>, <cny>USA</cny>.</aff>\\r\\n<aff><oid id=\"a24\"/><org>Center for Conservation and Research Training, Pacific Biosciences Research Center, University of Hawaii at Manoa, 3050 Maile Way</org>, Gilmore 406, <cty>Honolulu</cty>, <st>Hawaii</st> <zip>96822</zip>, <cny>USA</cny>.</aff>\\r\\n<aff><oid id=\"a25\"/><org>Museo de Historia Natural, Universidad Nacional Mayor de San Marcos</org>, Apartado 14-0434, <cty>Lima</cty>, <cny>Peru</cny>.</aff>\\r\\n<aff><oid id=\"a26\"/><org>School of Computing Sciences, University of East Anglia, Norwich Research Park</org>, <cty>Norwich</cty> NR4 7TJ, <cny>UK</cny>.</aff>\\r\\n<aff><oid id=\"a27\"/><org>Department of Biology, Williams College</org>, <cty>Williamstown</cty>, <st>Massachusetts</st> <zip>01267</zip>, <cny>USA</cny>.</aff>\\r\\n<aff><oid id=\"a28\"/><org>Department of Genetics, Yale University School of Medicine, 333 Cedar Street</org>, <cty>New Haven</cty>, <st>Connecticut</st> <zip>06520</zip>, <cny>USA</cny>.</aff>\\r\\n<aff><oid id=\"a29\"/><org>Department of Biology, University of Puerto Rico, PO Box 23360</org>, <cty>R&iacute;o Piedras</cty>, 00931-3360 <cny>Puerto Rico</cny>.</aff>\\r\\n<aff><oid id=\"a30\"/><org>Department of Biochemistry, Molecular Biology, Entomology and Plant Pathology, Mississippi State University</org>, <cty>Mississippi State</cty>, <st>Mississippi</st> <zip>39762</zip>, <cny>USA</cny>.</aff>\\r\\n<aff><oid id=\"a31\"/><org>Institute for Genomics, Biocomputing and Biotechnology, Mississippi State University</org>, <cty>Mississippi State</cty>, <st>Mississippi</st> <zip>39759</zip>, <cny>USA</cny>.</aff>\\r\\n<aff><oid id=\"a32\"/><org>McKusick-Nathans Institute of Genetic Medicine, Johns Hopkins University</org>, <cty>Baltimore</cty>, <st>Maryland</st> <zip>21205</zip>, <cny>USA</cny>.</aff>\\r\\n<aff><oid id=\"a33\"/><org>Biomathematics Program, North Carolina State University</org>, <cty>Raleigh</cty>, <st>North Carolina</st> <zip>27695</zip>, <cny>USA</cny>.</aff>\\r\\n<aff><oid id=\"a34\"/><org>School of Biological Sciences, University of Bristol</org>, Bristol BS8 1UG, <cny>UK</cny>.</aff>\\r\\n<aff><oid id=\"a35\"/><org>The GenePool, Ashworth Laboratories, University of Edinburgh, West Mains Road</org>, Edinburgh EH9 3JT, <cny>UK</cny>.</aff>\\r\\n<aff><oid id=\"a36\"/><org>Human Genome Sequencing Center, Baylor College of Medicine, One Baylor Plaza</org>, <cty>Houston</cty>, Texas 77030, <cny>USA</cny>.</aff>\\r\\n<aff><oid id=\"a37\"/><org>Facultad de Ciencias Naturales y Matem&aacute;ticas, Universidad del Rosario and Instituto de Gen&eacute;tica, Universidad de los Andes</org>, <cty>Bogot&aacute;</cty>, <cny>Colombia</cny>.</aff>\\r\\n<aff><oid id=\"a38\"/><org>Department of Biology, Boston University, 5 Cummington Street</org>, <cty>Boston</cty>, Massachusetts 02215, <cny>USA</cny>.</aff>\\r\\n<aff><oid id=\"a39\"/><org>Department of Organismic and Evolutionary Biology, Harvard University</org>, 16 Divinity Avenue, <cty>Cambridge</cty>, Massachusetts 02138, <cny>USA</cny>.</aff>\\r\\n<caff><coid id=\"c1\"/><email>jmallet@oeb.harvard.edu</email></caff>\\r\\n</aug>\\r\\n    <hst><re year=\"2011\" month=\"10\" day=\"26\"/><acc year=\"2012\" month=\"03\" day=\"12\"/><pubdate type=\"aop\" year=\"2012\" month=\"05\" day=\"16\"/></hst><websumm type=\"toc\">Sequencing of the genome of the butterfly <i>Heliconius melpomene</i> shows that closely related <i>Heliconius</i> species exchange protective colour-pattern genes promiscuously.</websumm>&e120705-9;</fm>\\r\\n<bdy>\\r\\n<fp>\\r\\n<p>The evolutionary importance of hybridization and introgression has long been debated<bibr rid=\"b1\"/>.': ['b1']},\n",
       " {'Here we use genomic tools to investigate introgression in <i>Heliconius</i>, a rapidly radiating genus of neotropical butterflies widely used in studies of ecology, behaviour, mimicry and speciation<bibr rid=\"b2 b3 b4 b5\"/>.': ['b2',\n",
       "   'b3',\n",
       "   'b4',\n",
       "   'b5']},\n",
       " {'\\r\\n</fp>\\r\\n<p>The butterfly genus <i>Heliconius</i> (Nymphalidae: Heliconiinae) is associated with a suite of derived life-history and ecological traits, including pollen feeding, extended lifespan, augmented ultraviolet colour vision, &lsquo;trap-lining&rsquo; foraging behaviour, gregarious roosting and complex mating behaviours, and provides outstanding opportunities for genomic studies of adaptive radiation and speciation<bibr rid=\"b4 b6\"/>.': ['b4',\n",
       "   'b6']},\n",
       " {'The genus is best known for the hundreds of races with different colour patterns seen among its 43 species, with repeated examples of both convergent evolution among distantly related species and divergent evolution between closely related taxa<bibr rid=\"b3\"/>.': ['b3']},\n",
       " {'1</figr>), converge to similar mosaics in other species, and this led to the hypothesis of mimicry<bibr rid=\"b2\"/>.': ['b2']},\n",
       " {'<i>Heliconius</i> are unpalatable to vertebrate predators and M&uuml;llerian mimicry of warning colour patterns enables species to share the cost of educating predators<bibr rid=\"b3\"/>.': ['b3']},\n",
       " {'As a result of its dual role in mimicry and mate selection, divergence in wing pattern is also associated with speciation and adaptive radiation<bibr rid=\"b3 b5\"/>.': ['b3',\n",
       "   'b5']},\n",
       " {'Most species in this clade occasionally hybridize in the wild with other clade members<bibr rid=\"b7\"/>.': ['b7']},\n",
       " {'Gene genealogies at a small number of loci indicate introgression between species<bibr rid=\"b8\"/>, and one non-mimetic species, <i>Heliconius heurippa</i>, has a hybrid origin<bibr rid=\"b9\"/>.': ['b8']},\n",
       " {'Gene genealogies at a small number of loci indicate introgression between species<bibr rid=\"b8\"/>, and one non-mimetic species, <i>Heliconius heurippa</i>, has a hybrid origin<bibr rid=\"b9\"/>.': ['b9']},\n",
       " {'These data permit a considerably improved genome-wide chromosomal synteny comparison with the silkmoth <i>Bombyx mori</i><bibr rid=\"b10 b11\"/>.': ['b10',\n",
       "   'b11']},\n",
       " {'These fusions on the <i>Heliconius</i> lineage most probably occurred after divergence from the sister genus <i>Eueides</i><bibr rid=\"b4\"/>, which has the lepidopteran modal karyotype of <i>n</i> = 31 (ref.': ['b4']},\n",
       " {'<i>Heliconius</i> and <i>Bombyx</i> lineages diverged in the Cretaceous, more than 100 million years ago<bibr rid=\"b11\"/>, so the gross chromosomal structures of Lepidoptera genomes have remained highly conserved compared with those of flies or vertebrates<bibr rid=\"b13 b14\"/>.': ['b11']},\n",
       " {'<i>Heliconius</i> and <i>Bombyx</i> lineages diverged in the Cretaceous, more than 100 million years ago<bibr rid=\"b11\"/>, so the gross chromosomal structures of Lepidoptera genomes have remained highly conserved compared with those of flies or vertebrates<bibr rid=\"b13 b14\"/>.': ['b13',\n",
       "   'b14']},\n",
       " {'Although lower than previously suggested for Lepidoptera<bibr rid=\"b15\"/>, these rates are comparable to those in <i>Drosophila</i> (<sir rid=\"s1\">Supplementary Information</sir>, section 8).': ['b15']},\n",
       " {'\\r\\n<p>The origin of butterflies was associated with a switch from nocturnal to diurnal behaviour, and a corresponding increase in visual communication<bibr rid=\"b16\"/>.': ['b16']},\n",
       " {'<i>Heliconius</i> have increased visual complexity through expression of a duplicate ultraviolet opsin<bibr rid=\"b6\"/>, in addition to the long-wavelength-, blue- and ultraviolet-sensitive opsins in <i>Bombyx</i>.': ['b6']},\n",
       " {'We might therefore predict reduced complexity of olfactory genes, but in fact <i>Heliconius</i> and <i>Danaus</i><bibr rid=\"b17\"/> genomes have more chemosensory genes than any other insect genome: 33 and 34, respectively (<sir rid=\"s1\">Supplementary Information</sir>, section 9).': ['b17']},\n",
       " {'For comparison, there are 24 in <i>Bombyx</i> and 3&ndash;4 in <i>Drosophila</i><bibr rid=\"b18\"/>.': ['b18']},\n",
       " {'We identified four additional <i>Hox</i> genes located between the canonical <i>Hox</i> genes <i>pb</i> and <i>zen</i>, orthologous to <i>shx</i> genes in <i>B.&thinsp;mori</i><bibr rid=\"b19\"/> (<sir rid=\"s1\">Supplementary Information</sir>, section 10).': ['b19']},\n",
       " {'Immunity-related gene families are similar across all three lepidopterans (<sir rid=\"s1\">Supplementary Information</sir>, section 11), whereas there are extensive duplications and losses within dipterans<bibr rid=\"b20\"/>.': ['b20']},\n",
       " {'3a</figr>), originally developed to test for admixture between Neanderthals and modern humans<bibr rid=\"b21 b22\"/> (<sir rid=\"s1\">Supplementary Information</sir>, section 12).': ['b21',\n",
       "   'b22']},\n",
       " {'On the basis of these <i>D</i>-statistics, we estimate that 2&ndash;5% of the genome was exchanged<bibr rid=\"b21\"/> between <i>H.': ['b21']},\n",
       " {'1a</figr>) are controlled by the <i>B</i>/<i>D</i> (red pattern) and <i>N</i>/<i>Yb</i> (yellow pattern) loci<bibr rid=\"b23 b24\"/>.': ['b23',\n",
       "   'b24']},\n",
       " {'To test whether mimicry loci might be introgressed between co-mimetic <i>H.&thinsp;timareta</i> and <i>H.&thinsp;melpomene</i><bibr rid=\"b7\"/> (<figr rid=\"f1\">Fig.': ['b7']},\n",
       " {'This provides evidence that blocks of shared sequence variation in the <i>B</i>/<i>D</i> region were exchanged between postman <i>H.&thinsp;timareta</i> and postman <i>H.&thinsp;melpomene</i> in the genomic region known to determine red mimicry patterns between races of <i>H.&thinsp;melpomene</i><bibr rid=\"b23 b24\"/> (<figr rid=\"f4\">Fig.': ['b23',\n",
       "   'b24']},\n",
       " {'Our genome-scale analysis provides considerably greater power than previous tests of introgression<bibr rid=\"b8 b25 b26 b27\"/>.': ['b8',\n",
       "   'b25',\n",
       "   'b26',\n",
       "   'b27']},\n",
       " {'Our evidence suggests that <i>H.&thinsp;elevatus</i>, like <i>H.&thinsp;heurippa</i><bibr rid=\"b9\"/>, was formed during a hybrid speciation event.': ['b9']},\n",
       " {'Colour pattern is important in mating behaviour in <i>Heliconius</i><bibr rid=\"b5\"/>, and the transfer of mimetic pattern may have enabled the divergent sibling species <i>H.&thinsp;elevatus</i> to coexist with <i>H.&thinsp;pardalinus</i> across the Amazon basin.': ['b5']},\n",
       " {'Although it was long suspected that introgression might be important in evolutionary radiations<bibr rid=\"b1\"/>, our results from the most diverse terrestrial biome on the planet suggest that adaptive introgression is more pervasive than previously realized.': ['b1']},\n",
       " {'Most other silvaniforms mimic unrelated ithomiine butterflies<bibr rid=\"b24\"/>.': ['b24']},\n",
       " {'As this almost exclusively restricts attention to sites polymorphic in the ancestor of <i>H.&thinsp;timareta</i> and <i>H.&thinsp;melpomene</i>, equal numbers of ABBA and BABA sites are expected under a null hypothesis of no introgression<bibr rid=\"b22\"/>, as depicted in the two gene genealogies.': ['b22']},\n",
       " {'), which measures excess of ABBA sites over BABA sites<bibr rid=\"b22\"/>, here for the comparison: <i>H.&thinsp;m.&thinsp;aglaope</i>, <i>H.&thinsp;m.&thinsp;amaryllis</i>, <i>H.&thinsp;timareta</i> ssp.': ['b22']},\n",
       " {'Divergence, <i>F</i><sub>ST</sub>, is measured along the <i>B</i>/<i>D</i> region (<sir rid=\"s1\">Supplementary Information 14</sir>) and peaks in the region known to control red wing pattern elements between the genes <i>kinesin</i> and <i>optix</i><bibr rid=\"b23\"/>.': ['b23']}]"
      ]
     },
     "execution_count": 30,
     "metadata": {},
     "output_type": "execute_result"
    }
   ],
   "source": [
    "tex_ref_mappings[3]"
   ]
  },
  {
   "cell_type": "code",
   "execution_count": null,
   "metadata": {},
   "outputs": [],
   "source": []
  }
 ],
 "metadata": {
  "kernelspec": {
   "display_name": "Python 3",
   "language": "python",
   "name": "python3"
  },
  "language_info": {
   "codemirror_mode": {
    "name": "ipython",
    "version": 3
   },
   "file_extension": ".py",
   "mimetype": "text/x-python",
   "name": "python",
   "nbconvert_exporter": "python",
   "pygments_lexer": "ipython3",
   "version": "3.5.3"
  }
 },
 "nbformat": 4,
 "nbformat_minor": 2
}
